{
 "cells": [
  {
   "cell_type": "markdown",
   "id": "56366ef3-ff5f-441c-9e1a-cf2f98559b81",
   "metadata": {},
   "source": [
    "As the project has just started, your team doesn't have any data that can be used to create this application. Therefore, your job will be to:\n",
    "\n",
    "Scrape data from destinations\n",
    "Get weather data from each destination\n",
    "Get hotels' info about each destination\n",
    "Store all the information above in a data lake\n",
    "Extract, transform and load cleaned data from your datalake to a data warehouse"
   ]
  },
  {
   "cell_type": "code",
   "execution_count": 11,
   "id": "0bd41f97",
   "metadata": {},
   "outputs": [],
   "source": [
    "# import libraries\n",
    "import requests\n",
    "import json\n",
    "import pandas as pd\n",
    "from statistics import mean\n",
    "import datetime\n",
    "import plotly.express as px\n",
    "import plotly.io as pio\n",
    "import boto3\n",
    "from sqlalchemy import create_engine, text\n",
    "from sqlalchemy.orm import sessionmaker"
   ]
  },
  {
   "cell_type": "markdown",
   "id": "0579b55b-148f-47ec-97ce-7ed56fda8580",
   "metadata": {},
   "source": [
    "Marketing team wants to focus first on the best cities to travel to in France. According One Week In.com here are the top-35 cities to visit in France:"
   ]
  },
  {
   "cell_type": "code",
   "execution_count": 50,
   "id": "3f82c48e-1ca2-4282-88be-4c44272b548d",
   "metadata": {},
   "outputs": [],
   "source": [
    "# list of cities\n",
    "\n",
    "top_35_cities = [\"Mont Saint Michel\",\n",
    "\"St Malo\",\n",
    "\"Bayeux\",\n",
    "\"Le Havre\",\n",
    "\"Rouen\",\n",
    "\"Paris\",\n",
    "\"Amiens\",\n",
    "\"Lille\",\n",
    "\"Strasbourg\",\n",
    "\"Chateau du Haut Koenigsbourg\",\n",
    "\"Colmar\",\n",
    "\"Eguisheim\",\n",
    "\"Besancon\",\n",
    "\"Dijon\",\n",
    "\"Annecy\",\n",
    "\"Grenoble\",\n",
    "\"Lyon\",\n",
    "\"Gorges du Verdon\",\n",
    "\"Bormes les Mimosas\",\n",
    "\"Cassis\",\n",
    "\"Marseille\",\n",
    "\"Aix en Provence\",\n",
    "\"Avignon\",\n",
    "\"Uzes\",\n",
    "\"Nimes\",\n",
    "\"Aigues Mortes\",\n",
    "\"Saintes Maries de la mer\",\n",
    "\"Collioure\",\n",
    "\"Carcassonne\",\n",
    "\"Ariege\",\n",
    "\"Toulouse\",\n",
    "\"Montauban\",\n",
    "\"Biarritz\",\n",
    "\"Bayonne\",\n",
    "\"La Rochelle\"]"
   ]
  },
  {
   "cell_type": "code",
   "execution_count": 51,
   "id": "c064a403-3b84-4bf0-9ed9-2eecbec5e429",
   "metadata": {},
   "outputs": [
    {
     "name": "stdout",
     "output_type": "stream",
     "text": [
      "Response code: <Response [200]> \n",
      " \n",
      "\n"
     ]
    }
   ],
   "source": [
    "# scraping geolocation of cities\n",
    "# Use https://nominatim.org/ \n",
    "\n",
    "#  https://nominatim.openstreetmap.org/search?<params>\n",
    "endpoint = \"https://nominatim.openstreetmap.org\"\n",
    "\n",
    "response =  requests.get(endpoint)\n",
    "print(\"Response code:\",response,\"\\n \\n\")"
   ]
  },
  {
   "cell_type": "code",
   "execution_count": 52,
   "id": "740330c9-a809-48db-9aff-3912d7658ee0",
   "metadata": {},
   "outputs": [
    {
     "name": "stdout",
     "output_type": "stream",
     "text": [
      "Response code: <Response [200]> \n",
      " \n",
      "\n",
      "Response data:\n",
      "\n"
     ]
    },
    {
     "data": {
      "text/plain": [
       "[{'place_id': 297389050,\n",
       "  'licence': 'Data © OpenStreetMap contributors, ODbL 1.0. https://osm.org/copyright',\n",
       "  'osm_type': 'relation',\n",
       "  'osm_id': 7439,\n",
       "  'boundingbox': ['42.5732416', '43.3162514', '0.8267506', '2.1758135'],\n",
       "  'lat': '42.9455368',\n",
       "  'lon': '1.4065544156065486',\n",
       "  'display_name': 'Ariège, Occitanie, France métropolitaine, France',\n",
       "  'class': 'boundary',\n",
       "  'type': 'administrative',\n",
       "  'importance': 0.6009114788084189,\n",
       "  'icon': 'https://nominatim.openstreetmap.org/ui/mapicons/poi_boundary_administrative.p.20.png'},\n",
       " {'place_id': 299422341,\n",
       "  'licence': 'Data © OpenStreetMap contributors, ODbL 1.0. https://osm.org/copyright',\n",
       "  'osm_type': 'relation',\n",
       "  'osm_id': 13625918,\n",
       "  'boundingbox': ['51.1624195', '51.199616', '-56.0111241', '-55.9723346'],\n",
       "  'lat': '51.18111155',\n",
       "  'lon': '-55.98447423947262',\n",
       "  'display_name': 'Ariege (Belvy) Bay, Main Brook, Newfoundland, Newfoundland and Labrador, Canada',\n",
       "  'class': 'natural',\n",
       "  'type': 'bay',\n",
       "  'importance': 0.29999999999999993},\n",
       " {'place_id': 135201531,\n",
       "  'licence': 'Data © OpenStreetMap contributors, ODbL 1.0. https://osm.org/copyright',\n",
       "  'osm_type': 'way',\n",
       "  'osm_id': 127723368,\n",
       "  'boundingbox': ['42.9888173', '42.9951993', '1.6111888', '1.6138685'],\n",
       "  'lat': '42.9927428',\n",
       "  'lon': '1.6124975',\n",
       "  'display_name': 'Ariège, La Coudounmine, Vernajoul, Foix, Ariège, Occitanie, France métropolitaine, 09000, France',\n",
       "  'class': 'waterway',\n",
       "  'type': 'river',\n",
       "  'importance': 0.275},\n",
       " {'place_id': 134954225,\n",
       "  'licence': 'Data © OpenStreetMap contributors, ODbL 1.0. https://osm.org/copyright',\n",
       "  'osm_type': 'way',\n",
       "  'osm_id': 127723369,\n",
       "  'boundingbox': ['43.0102686', '43.0147622', '1.6090879', '1.6120971'],\n",
       "  'lat': '43.0118351',\n",
       "  'lon': '1.6101314',\n",
       "  'display_name': 'Ariège, Saint-Jean-de-Verges, Foix, Ariège, Occitanie, France métropolitaine, 09000, France',\n",
       "  'class': 'waterway',\n",
       "  'type': 'canal',\n",
       "  'importance': 0.25},\n",
       " {'place_id': 341123577,\n",
       "  'licence': 'Data © OpenStreetMap contributors, ODbL 1.0. https://osm.org/copyright',\n",
       "  'osm_type': 'node',\n",
       "  'osm_id': 8170122312,\n",
       "  'boundingbox': ['48.4102606', '48.4103606', '2.7857668', '2.7858668'],\n",
       "  'lat': '48.4103106',\n",
       "  'lon': '2.7858168',\n",
       "  'display_name': 'Ariege, Place Greffülhe, Thomery, Fontainebleau, Seine-et-Marne, Île-de-France, France métropolitaine, 77810, France',\n",
       "  'class': 'man_made',\n",
       "  'type': 'street_cabinet',\n",
       "  'importance': 0.11010000000000002}]"
      ]
     },
     "execution_count": 52,
     "metadata": {},
     "output_type": "execute_result"
    }
   ],
   "source": [
    "# example to Ariege\n",
    "response =  requests.get(\"https://nominatim.openstreetmap.org/search?q=Ariege&format=json\")\n",
    "print(\"Response code:\",response,\"\\n \\n\")\n",
    "print(\"Response data:\\n\")\n",
    "response.json()"
   ]
  },
  {
   "cell_type": "code",
   "execution_count": 53,
   "id": "54abf0cc-b7d2-424e-8991-5bbfcc589301",
   "metadata": {},
   "outputs": [],
   "source": [
    "# intialization empty dataframe\n",
    "df_cities = pd.DataFrame(columns = ['city_id', 'city' , 'latitude', 'longitude'])"
   ]
  },
  {
   "cell_type": "code",
   "execution_count": 54,
   "id": "9dd32122-e0cd-45dd-8bc4-f80e2ca80b3d",
   "metadata": {},
   "outputs": [],
   "source": [
    "# browse the list of 35 cities\n",
    "for counter, city in enumerate(top_35_cities):\n",
    "    response =  requests.get(f\"https://nominatim.openstreetmap.org/search?q={city}&format=json\")\n",
    "    # Complete the dataframe\n",
    "    df_cities.loc[counter] = [response.json()[0]['place_id'],\n",
    "                              city,\n",
    "                              response.json()[0]['lat'],\n",
    "                              response.json()[0]['lon']]"
   ]
  },
  {
   "cell_type": "code",
   "execution_count": 55,
   "id": "adf5c144-91da-488e-947a-0046f930f671",
   "metadata": {},
   "outputs": [
    {
     "data": {
      "text/html": [
       "<div>\n",
       "<style scoped>\n",
       "    .dataframe tbody tr th:only-of-type {\n",
       "        vertical-align: middle;\n",
       "    }\n",
       "\n",
       "    .dataframe tbody tr th {\n",
       "        vertical-align: top;\n",
       "    }\n",
       "\n",
       "    .dataframe thead th {\n",
       "        text-align: right;\n",
       "    }\n",
       "</style>\n",
       "<table border=\"1\" class=\"dataframe\">\n",
       "  <thead>\n",
       "    <tr style=\"text-align: right;\">\n",
       "      <th></th>\n",
       "      <th>city_id</th>\n",
       "      <th>city</th>\n",
       "      <th>latitude</th>\n",
       "      <th>longitude</th>\n",
       "    </tr>\n",
       "  </thead>\n",
       "  <tbody>\n",
       "    <tr>\n",
       "      <th>0</th>\n",
       "      <td>156094680</td>\n",
       "      <td>Mont Saint Michel</td>\n",
       "      <td>48.6359541</td>\n",
       "      <td>-1.511459954959514</td>\n",
       "    </tr>\n",
       "    <tr>\n",
       "      <th>1</th>\n",
       "      <td>297756747</td>\n",
       "      <td>St Malo</td>\n",
       "      <td>48.649518</td>\n",
       "      <td>-2.0260409</td>\n",
       "    </tr>\n",
       "    <tr>\n",
       "      <th>2</th>\n",
       "      <td>297981358</td>\n",
       "      <td>Bayeux</td>\n",
       "      <td>49.2764624</td>\n",
       "      <td>-0.7024738</td>\n",
       "    </tr>\n",
       "    <tr>\n",
       "      <th>3</th>\n",
       "      <td>298137491</td>\n",
       "      <td>Le Havre</td>\n",
       "      <td>49.4938975</td>\n",
       "      <td>0.1079732</td>\n",
       "    </tr>\n",
       "    <tr>\n",
       "      <th>4</th>\n",
       "      <td>297518815</td>\n",
       "      <td>Rouen</td>\n",
       "      <td>49.4404591</td>\n",
       "      <td>1.0939658</td>\n",
       "    </tr>\n",
       "    <tr>\n",
       "      <th>5</th>\n",
       "      <td>297417241</td>\n",
       "      <td>Paris</td>\n",
       "      <td>48.8588897</td>\n",
       "      <td>2.3200410217200766</td>\n",
       "    </tr>\n",
       "    <tr>\n",
       "      <th>6</th>\n",
       "      <td>297534793</td>\n",
       "      <td>Amiens</td>\n",
       "      <td>49.8941708</td>\n",
       "      <td>2.2956951</td>\n",
       "    </tr>\n",
       "    <tr>\n",
       "      <th>7</th>\n",
       "      <td>297472400</td>\n",
       "      <td>Lille</td>\n",
       "      <td>50.6365654</td>\n",
       "      <td>3.0635282</td>\n",
       "    </tr>\n",
       "    <tr>\n",
       "      <th>8</th>\n",
       "      <td>297508568</td>\n",
       "      <td>Strasbourg</td>\n",
       "      <td>48.584614</td>\n",
       "      <td>7.7507127</td>\n",
       "    </tr>\n",
       "    <tr>\n",
       "      <th>9</th>\n",
       "      <td>120791766</td>\n",
       "      <td>Chateau du Haut Koenigsbourg</td>\n",
       "      <td>48.249489800000006</td>\n",
       "      <td>7.34429620253195</td>\n",
       "    </tr>\n",
       "    <tr>\n",
       "      <th>10</th>\n",
       "      <td>297504747</td>\n",
       "      <td>Colmar</td>\n",
       "      <td>48.0777517</td>\n",
       "      <td>7.3579641</td>\n",
       "    </tr>\n",
       "    <tr>\n",
       "      <th>11</th>\n",
       "      <td>297869324</td>\n",
       "      <td>Eguisheim</td>\n",
       "      <td>48.0447968</td>\n",
       "      <td>7.3079618</td>\n",
       "    </tr>\n",
       "    <tr>\n",
       "      <th>12</th>\n",
       "      <td>297668227</td>\n",
       "      <td>Besancon</td>\n",
       "      <td>47.2380222</td>\n",
       "      <td>6.0243622</td>\n",
       "    </tr>\n",
       "    <tr>\n",
       "      <th>13</th>\n",
       "      <td>297478568</td>\n",
       "      <td>Dijon</td>\n",
       "      <td>47.3215806</td>\n",
       "      <td>5.0414701</td>\n",
       "    </tr>\n",
       "    <tr>\n",
       "      <th>14</th>\n",
       "      <td>298516920</td>\n",
       "      <td>Annecy</td>\n",
       "      <td>45.8992348</td>\n",
       "      <td>6.1288847</td>\n",
       "    </tr>\n",
       "    <tr>\n",
       "      <th>15</th>\n",
       "      <td>297639071</td>\n",
       "      <td>Grenoble</td>\n",
       "      <td>45.1875602</td>\n",
       "      <td>5.7357819</td>\n",
       "    </tr>\n",
       "    <tr>\n",
       "      <th>16</th>\n",
       "      <td>297681191</td>\n",
       "      <td>Lyon</td>\n",
       "      <td>45.7578137</td>\n",
       "      <td>4.8320114</td>\n",
       "    </tr>\n",
       "    <tr>\n",
       "      <th>17</th>\n",
       "      <td>76036307</td>\n",
       "      <td>Gorges du Verdon</td>\n",
       "      <td>43.7496562</td>\n",
       "      <td>6.3285616</td>\n",
       "    </tr>\n",
       "    <tr>\n",
       "      <th>18</th>\n",
       "      <td>297749145</td>\n",
       "      <td>Bormes les Mimosas</td>\n",
       "      <td>43.1506968</td>\n",
       "      <td>6.3419285</td>\n",
       "    </tr>\n",
       "    <tr>\n",
       "      <th>19</th>\n",
       "      <td>298072685</td>\n",
       "      <td>Cassis</td>\n",
       "      <td>43.2140359</td>\n",
       "      <td>5.5396318</td>\n",
       "    </tr>\n",
       "    <tr>\n",
       "      <th>20</th>\n",
       "      <td>297763730</td>\n",
       "      <td>Marseille</td>\n",
       "      <td>43.2961743</td>\n",
       "      <td>5.3699525</td>\n",
       "    </tr>\n",
       "    <tr>\n",
       "      <th>21</th>\n",
       "      <td>297906924</td>\n",
       "      <td>Aix en Provence</td>\n",
       "      <td>43.5298424</td>\n",
       "      <td>5.4474738</td>\n",
       "    </tr>\n",
       "    <tr>\n",
       "      <th>22</th>\n",
       "      <td>297768703</td>\n",
       "      <td>Avignon</td>\n",
       "      <td>43.9492493</td>\n",
       "      <td>4.8059012</td>\n",
       "    </tr>\n",
       "    <tr>\n",
       "      <th>23</th>\n",
       "      <td>297655586</td>\n",
       "      <td>Uzes</td>\n",
       "      <td>44.0121279</td>\n",
       "      <td>4.4196718</td>\n",
       "    </tr>\n",
       "    <tr>\n",
       "      <th>24</th>\n",
       "      <td>297997049</td>\n",
       "      <td>Nimes</td>\n",
       "      <td>43.8374249</td>\n",
       "      <td>4.3600687</td>\n",
       "    </tr>\n",
       "    <tr>\n",
       "      <th>25</th>\n",
       "      <td>298018344</td>\n",
       "      <td>Aigues Mortes</td>\n",
       "      <td>43.5658225</td>\n",
       "      <td>4.1912837</td>\n",
       "    </tr>\n",
       "    <tr>\n",
       "      <th>26</th>\n",
       "      <td>298011281</td>\n",
       "      <td>Saintes Maries de la mer</td>\n",
       "      <td>43.4522771</td>\n",
       "      <td>4.4287172</td>\n",
       "    </tr>\n",
       "    <tr>\n",
       "      <th>27</th>\n",
       "      <td>298221742</td>\n",
       "      <td>Collioure</td>\n",
       "      <td>42.52505</td>\n",
       "      <td>3.0831554</td>\n",
       "    </tr>\n",
       "    <tr>\n",
       "      <th>28</th>\n",
       "      <td>297466626</td>\n",
       "      <td>Carcassonne</td>\n",
       "      <td>43.2130358</td>\n",
       "      <td>2.3491069</td>\n",
       "    </tr>\n",
       "    <tr>\n",
       "      <th>29</th>\n",
       "      <td>297389050</td>\n",
       "      <td>Ariege</td>\n",
       "      <td>42.9455368</td>\n",
       "      <td>1.4065544156065486</td>\n",
       "    </tr>\n",
       "    <tr>\n",
       "      <th>30</th>\n",
       "      <td>298222566</td>\n",
       "      <td>Toulouse</td>\n",
       "      <td>43.6044622</td>\n",
       "      <td>1.4442469</td>\n",
       "    </tr>\n",
       "    <tr>\n",
       "      <th>31</th>\n",
       "      <td>297932490</td>\n",
       "      <td>Montauban</td>\n",
       "      <td>44.0175835</td>\n",
       "      <td>1.3549991</td>\n",
       "    </tr>\n",
       "    <tr>\n",
       "      <th>32</th>\n",
       "      <td>298516909</td>\n",
       "      <td>Biarritz</td>\n",
       "      <td>43.471143749999996</td>\n",
       "      <td>-1.552726590666314</td>\n",
       "    </tr>\n",
       "    <tr>\n",
       "      <th>33</th>\n",
       "      <td>298271847</td>\n",
       "      <td>Bayonne</td>\n",
       "      <td>43.4945144</td>\n",
       "      <td>-1.4736657</td>\n",
       "    </tr>\n",
       "    <tr>\n",
       "      <th>34</th>\n",
       "      <td>297653650</td>\n",
       "      <td>La Rochelle</td>\n",
       "      <td>46.1591126</td>\n",
       "      <td>-1.1520434</td>\n",
       "    </tr>\n",
       "  </tbody>\n",
       "</table>\n",
       "</div>"
      ],
      "text/plain": [
       "      city_id                          city            latitude  \\\n",
       "0   156094680             Mont Saint Michel          48.6359541   \n",
       "1   297756747                       St Malo           48.649518   \n",
       "2   297981358                        Bayeux          49.2764624   \n",
       "3   298137491                      Le Havre          49.4938975   \n",
       "4   297518815                         Rouen          49.4404591   \n",
       "5   297417241                         Paris          48.8588897   \n",
       "6   297534793                        Amiens          49.8941708   \n",
       "7   297472400                         Lille          50.6365654   \n",
       "8   297508568                    Strasbourg           48.584614   \n",
       "9   120791766  Chateau du Haut Koenigsbourg  48.249489800000006   \n",
       "10  297504747                        Colmar          48.0777517   \n",
       "11  297869324                     Eguisheim          48.0447968   \n",
       "12  297668227                      Besancon          47.2380222   \n",
       "13  297478568                         Dijon          47.3215806   \n",
       "14  298516920                        Annecy          45.8992348   \n",
       "15  297639071                      Grenoble          45.1875602   \n",
       "16  297681191                          Lyon          45.7578137   \n",
       "17   76036307              Gorges du Verdon          43.7496562   \n",
       "18  297749145            Bormes les Mimosas          43.1506968   \n",
       "19  298072685                        Cassis          43.2140359   \n",
       "20  297763730                     Marseille          43.2961743   \n",
       "21  297906924               Aix en Provence          43.5298424   \n",
       "22  297768703                       Avignon          43.9492493   \n",
       "23  297655586                          Uzes          44.0121279   \n",
       "24  297997049                         Nimes          43.8374249   \n",
       "25  298018344                 Aigues Mortes          43.5658225   \n",
       "26  298011281      Saintes Maries de la mer          43.4522771   \n",
       "27  298221742                     Collioure            42.52505   \n",
       "28  297466626                   Carcassonne          43.2130358   \n",
       "29  297389050                        Ariege          42.9455368   \n",
       "30  298222566                      Toulouse          43.6044622   \n",
       "31  297932490                     Montauban          44.0175835   \n",
       "32  298516909                      Biarritz  43.471143749999996   \n",
       "33  298271847                       Bayonne          43.4945144   \n",
       "34  297653650                   La Rochelle          46.1591126   \n",
       "\n",
       "             longitude  \n",
       "0   -1.511459954959514  \n",
       "1           -2.0260409  \n",
       "2           -0.7024738  \n",
       "3            0.1079732  \n",
       "4            1.0939658  \n",
       "5   2.3200410217200766  \n",
       "6            2.2956951  \n",
       "7            3.0635282  \n",
       "8            7.7507127  \n",
       "9     7.34429620253195  \n",
       "10           7.3579641  \n",
       "11           7.3079618  \n",
       "12           6.0243622  \n",
       "13           5.0414701  \n",
       "14           6.1288847  \n",
       "15           5.7357819  \n",
       "16           4.8320114  \n",
       "17           6.3285616  \n",
       "18           6.3419285  \n",
       "19           5.5396318  \n",
       "20           5.3699525  \n",
       "21           5.4474738  \n",
       "22           4.8059012  \n",
       "23           4.4196718  \n",
       "24           4.3600687  \n",
       "25           4.1912837  \n",
       "26           4.4287172  \n",
       "27           3.0831554  \n",
       "28           2.3491069  \n",
       "29  1.4065544156065486  \n",
       "30           1.4442469  \n",
       "31           1.3549991  \n",
       "32  -1.552726590666314  \n",
       "33          -1.4736657  \n",
       "34          -1.1520434  "
      ]
     },
     "execution_count": 55,
     "metadata": {},
     "output_type": "execute_result"
    }
   ],
   "source": [
    "df_cities"
   ]
  },
  {
   "cell_type": "code",
   "execution_count": 56,
   "id": "62d25b49",
   "metadata": {},
   "outputs": [
    {
     "data": {
      "text/plain": [
       "35"
      ]
     },
     "execution_count": 56,
     "metadata": {},
     "output_type": "execute_result"
    }
   ],
   "source": [
    "len(df_cities)"
   ]
  },
  {
   "cell_type": "code",
   "execution_count": 57,
   "id": "42c8d491",
   "metadata": {},
   "outputs": [
    {
     "name": "stdout",
     "output_type": "stream",
     "text": [
      "<class 'pandas.core.frame.DataFrame'>\n",
      "Int64Index: 35 entries, 0 to 34\n",
      "Data columns (total 4 columns):\n",
      " #   Column     Non-Null Count  Dtype \n",
      "---  ------     --------------  ----- \n",
      " 0   city_id    35 non-null     int64 \n",
      " 1   city       35 non-null     object\n",
      " 2   latitude   35 non-null     object\n",
      " 3   longitude  35 non-null     object\n",
      "dtypes: int64(1), object(3)\n",
      "memory usage: 1.4+ KB\n"
     ]
    }
   ],
   "source": [
    "df_cities.info()"
   ]
  },
  {
   "cell_type": "code",
   "execution_count": 58,
   "id": "138e3bb4-d5da-44bd-a705-eef90e7c7908",
   "metadata": {},
   "outputs": [],
   "source": [
    "# scrap the weather\n",
    "# Use https://openweathermap.org/appid \n",
    "\n",
    "# some information about the weather for the 35 cities\n",
    "# https://api.openweathermap.org/data/2.5/onecall?lat={lat}&lon={lon}&exclude={part}&appid={API key}\n",
    "\n",
    "# import libraries\n",
    "\n",
    "from credentials import MY_APIKEY\n",
    "\n",
    "# API key\n",
    "APPID = MY_APIKEY\n",
    "\n",
    "EXCLUDE = 'current,minutely,hourly'"
   ]
  },
  {
   "cell_type": "code",
   "execution_count": 59,
   "id": "7b5eaf86",
   "metadata": {},
   "outputs": [
    {
     "name": "stdout",
     "output_type": "stream",
     "text": [
      "Response code: <Response [200]> \n",
      " \n",
      "\n"
     ]
    },
    {
     "data": {
      "text/plain": [
       "{'lat': 48.636,\n",
       " 'lon': -1.5115,\n",
       " 'timezone': 'Europe/Paris',\n",
       " 'timezone_offset': 7200,\n",
       " 'daily': [{'dt': 1665745200,\n",
       "   'sunrise': 1665728646,\n",
       "   'sunset': 1665767984,\n",
       "   'moonrise': 1665775920,\n",
       "   'moonset': 1665747600,\n",
       "   'moon_phase': 0.65,\n",
       "   'temp': {'day': 16.39,\n",
       "    'min': 12.97,\n",
       "    'max': 16.41,\n",
       "    'night': 16.41,\n",
       "    'eve': 15.48,\n",
       "    'morn': 13.23},\n",
       "   'feels_like': {'day': 16.57, 'night': 16.61, 'eve': 15.56, 'morn': 13.12},\n",
       "   'pressure': 1012,\n",
       "   'humidity': 95,\n",
       "   'dew_point': 15.59,\n",
       "   'wind_speed': 5.48,\n",
       "   'wind_deg': 207,\n",
       "   'wind_gust': 11.58,\n",
       "   'weather': [{'id': 501,\n",
       "     'main': 'Rain',\n",
       "     'description': 'moderate rain',\n",
       "     'icon': '10d'}],\n",
       "   'clouds': 100,\n",
       "   'pop': 1,\n",
       "   'rain': 9.44,\n",
       "   'uvi': 0.56},\n",
       "  {'dt': 1665831600,\n",
       "   'sunrise': 1665815136,\n",
       "   'sunset': 1665854266,\n",
       "   'moonrise': 1665864840,\n",
       "   'moonset': 1665837780,\n",
       "   'moon_phase': 0.68,\n",
       "   'temp': {'day': 15.65,\n",
       "    'min': 13.03,\n",
       "    'max': 17.77,\n",
       "    'night': 14.17,\n",
       "    'eve': 15.93,\n",
       "    'morn': 14.98},\n",
       "   'feels_like': {'day': 14.92, 'night': 13.65, 'eve': 15.22, 'morn': 14.78},\n",
       "   'pressure': 1012,\n",
       "   'humidity': 63,\n",
       "   'dew_point': 8.49,\n",
       "   'wind_speed': 9.34,\n",
       "   'wind_deg': 294,\n",
       "   'wind_gust': 13.62,\n",
       "   'weather': [{'id': 501,\n",
       "     'main': 'Rain',\n",
       "     'description': 'moderate rain',\n",
       "     'icon': '10d'}],\n",
       "   'clouds': 39,\n",
       "   'pop': 1,\n",
       "   'rain': 3.72,\n",
       "   'uvi': 2.38},\n",
       "  {'dt': 1665918000,\n",
       "   'sunrise': 1665901627,\n",
       "   'sunset': 1665940549,\n",
       "   'moonrise': 1665954420,\n",
       "   'moonset': 1665927420,\n",
       "   'moon_phase': 0.71,\n",
       "   'temp': {'day': 16.15,\n",
       "    'min': 12.84,\n",
       "    'max': 19.91,\n",
       "    'night': 15.3,\n",
       "    'eve': 18.23,\n",
       "    'morn': 13.16},\n",
       "   'feels_like': {'day': 15.94, 'night': 15.26, 'eve': 18.15, 'morn': 13.01},\n",
       "   'pressure': 1012,\n",
       "   'humidity': 81,\n",
       "   'dew_point': 12.69,\n",
       "   'wind_speed': 5.97,\n",
       "   'wind_deg': 195,\n",
       "   'wind_gust': 10.53,\n",
       "   'weather': [{'id': 500,\n",
       "     'main': 'Rain',\n",
       "     'description': 'light rain',\n",
       "     'icon': '10d'}],\n",
       "   'clouds': 97,\n",
       "   'pop': 0.88,\n",
       "   'rain': 2.16,\n",
       "   'uvi': 1.24},\n",
       "  {'dt': 1666004400,\n",
       "   'sunrise': 1665988118,\n",
       "   'sunset': 1666026833,\n",
       "   'moonrise': 0,\n",
       "   'moonset': 1666016400,\n",
       "   'moon_phase': 0.75,\n",
       "   'temp': {'day': 16.47,\n",
       "    'min': 14.27,\n",
       "    'max': 16.47,\n",
       "    'night': 14.27,\n",
       "    'eve': 15.29,\n",
       "    'morn': 14.47},\n",
       "   'feels_like': {'day': 16.44, 'night': 14.21, 'eve': 15.3, 'morn': 14.27},\n",
       "   'pressure': 1021,\n",
       "   'humidity': 87,\n",
       "   'dew_point': 14.04,\n",
       "   'wind_speed': 4.33,\n",
       "   'wind_deg': 182,\n",
       "   'wind_gust': 11.26,\n",
       "   'weather': [{'id': 500,\n",
       "     'main': 'Rain',\n",
       "     'description': 'light rain',\n",
       "     'icon': '10d'}],\n",
       "   'clouds': 100,\n",
       "   'pop': 0.6,\n",
       "   'rain': 1.54,\n",
       "   'uvi': 2.07},\n",
       "  {'dt': 1666090800,\n",
       "   'sunrise': 1666074609,\n",
       "   'sunset': 1666113118,\n",
       "   'moonrise': 1666044480,\n",
       "   'moonset': 1666104780,\n",
       "   'moon_phase': 0.77,\n",
       "   'temp': {'day': 20.73,\n",
       "    'min': 12.65,\n",
       "    'max': 21.36,\n",
       "    'night': 16.74,\n",
       "    'eve': 16.98,\n",
       "    'morn': 12.65},\n",
       "   'feels_like': {'day': 20.61, 'night': 16.77, 'eve': 17.01, 'morn': 12.43},\n",
       "   'pressure': 1026,\n",
       "   'humidity': 67,\n",
       "   'dew_point': 14.29,\n",
       "   'wind_speed': 5.88,\n",
       "   'wind_deg': 107,\n",
       "   'wind_gust': 13.27,\n",
       "   'weather': [{'id': 801,\n",
       "     'main': 'Clouds',\n",
       "     'description': 'few clouds',\n",
       "     'icon': '02d'}],\n",
       "   'clouds': 17,\n",
       "   'pop': 0,\n",
       "   'uvi': 2.34},\n",
       "  {'dt': 1666177200,\n",
       "   'sunrise': 1666161101,\n",
       "   'sunset': 1666199404,\n",
       "   'moonrise': 1666134900,\n",
       "   'moonset': 1666192800,\n",
       "   'moon_phase': 0.8,\n",
       "   'temp': {'day': 22.81,\n",
       "    'min': 16.36,\n",
       "    'max': 23.56,\n",
       "    'night': 16.36,\n",
       "    'eve': 18.8,\n",
       "    'morn': 16.85},\n",
       "   'feels_like': {'day': 22.77, 'night': 16.43, 'eve': 18.72, 'morn': 16.81},\n",
       "   'pressure': 1013,\n",
       "   'humidity': 62,\n",
       "   'dew_point': 14.89,\n",
       "   'wind_speed': 9.94,\n",
       "   'wind_deg': 120,\n",
       "   'wind_gust': 17.96,\n",
       "   'weather': [{'id': 500,\n",
       "     'main': 'Rain',\n",
       "     'description': 'light rain',\n",
       "     'icon': '10d'}],\n",
       "   'clouds': 65,\n",
       "   'pop': 0.7,\n",
       "   'rain': 1.2,\n",
       "   'uvi': 3},\n",
       "  {'dt': 1666263600,\n",
       "   'sunrise': 1666247593,\n",
       "   'sunset': 1666285691,\n",
       "   'moonrise': 1666225440,\n",
       "   'moonset': 1666280460,\n",
       "   'moon_phase': 0.83,\n",
       "   'temp': {'day': 20.69,\n",
       "    'min': 15.35,\n",
       "    'max': 21.86,\n",
       "    'night': 16,\n",
       "    'eve': 17.53,\n",
       "    'morn': 15.35},\n",
       "   'feels_like': {'day': 20.75, 'night': 16.01, 'eve': 17.56, 'morn': 15.37},\n",
       "   'pressure': 1010,\n",
       "   'humidity': 74,\n",
       "   'dew_point': 15.69,\n",
       "   'wind_speed': 5.88,\n",
       "   'wind_deg': 155,\n",
       "   'wind_gust': 9.66,\n",
       "   'weather': [{'id': 500,\n",
       "     'main': 'Rain',\n",
       "     'description': 'light rain',\n",
       "     'icon': '10d'}],\n",
       "   'clouds': 100,\n",
       "   'pop': 0.79,\n",
       "   'rain': 2.42,\n",
       "   'uvi': 3},\n",
       "  {'dt': 1666350000,\n",
       "   'sunrise': 1666334086,\n",
       "   'sunset': 1666371978,\n",
       "   'moonrise': 1666316100,\n",
       "   'moonset': 1666367940,\n",
       "   'moon_phase': 0.86,\n",
       "   'temp': {'day': 20.18,\n",
       "    'min': 13.14,\n",
       "    'max': 21.24,\n",
       "    'night': 15.11,\n",
       "    'eve': 16.91,\n",
       "    'morn': 13.14},\n",
       "   'feels_like': {'day': 20, 'night': 15, 'eve': 16.69, 'morn': 12.96},\n",
       "   'pressure': 1012,\n",
       "   'humidity': 67,\n",
       "   'dew_point': 13.67,\n",
       "   'wind_speed': 4.09,\n",
       "   'wind_deg': 150,\n",
       "   'wind_gust': 7.49,\n",
       "   'weather': [{'id': 500,\n",
       "     'main': 'Rain',\n",
       "     'description': 'light rain',\n",
       "     'icon': '10d'}],\n",
       "   'clouds': 48,\n",
       "   'pop': 0.65,\n",
       "   'rain': 1.73,\n",
       "   'uvi': 3}]}"
      ]
     },
     "execution_count": 59,
     "metadata": {},
     "output_type": "execute_result"
    }
   ],
   "source": [
    "endpoint = \"https://api.openweathermap.org/data/2.5/onecall?\"\n",
    "\n",
    "# example\n",
    "params = {'exclude' : EXCLUDE ,\n",
    "          'appid' : APPID ,\n",
    "          'lat' : '48.6359541' ,\n",
    "          'lon' : -1.511459954959514,\n",
    "          'units' : 'metric'}\n",
    "\n",
    "response =  requests.get(endpoint, params = params)\n",
    "print(\"Response code:\",response,\"\\n \\n\")\n",
    "response.json()"
   ]
  },
  {
   "cell_type": "code",
   "execution_count": 60,
   "id": "781646f5",
   "metadata": {},
   "outputs": [
    {
     "data": {
      "text/plain": [
       "'2022-10-14T13:00:00'"
      ]
     },
     "execution_count": 60,
     "metadata": {},
     "output_type": "execute_result"
    }
   ],
   "source": [
    "# date of extraction\n",
    "date = response.json()['daily'][0]['dt']\n",
    "readable = datetime.datetime.fromtimestamp(date).isoformat()\n",
    "readable"
   ]
  },
  {
   "cell_type": "code",
   "execution_count": 61,
   "id": "09bb67a2",
   "metadata": {},
   "outputs": [
    {
     "data": {
      "text/html": [
       "<div>\n",
       "<style scoped>\n",
       "    .dataframe tbody tr th:only-of-type {\n",
       "        vertical-align: middle;\n",
       "    }\n",
       "\n",
       "    .dataframe tbody tr th {\n",
       "        vertical-align: top;\n",
       "    }\n",
       "\n",
       "    .dataframe thead th {\n",
       "        text-align: right;\n",
       "    }\n",
       "</style>\n",
       "<table border=\"1\" class=\"dataframe\">\n",
       "  <thead>\n",
       "    <tr style=\"text-align: right;\">\n",
       "      <th></th>\n",
       "      <th>city_id</th>\n",
       "      <th>city</th>\n",
       "      <th>latitude</th>\n",
       "      <th>longitude</th>\n",
       "    </tr>\n",
       "  </thead>\n",
       "  <tbody>\n",
       "    <tr>\n",
       "      <th>0</th>\n",
       "      <td>156094680</td>\n",
       "      <td>Mont Saint Michel</td>\n",
       "      <td>48.6359541</td>\n",
       "      <td>-1.511459954959514</td>\n",
       "    </tr>\n",
       "    <tr>\n",
       "      <th>1</th>\n",
       "      <td>297756747</td>\n",
       "      <td>St Malo</td>\n",
       "      <td>48.649518</td>\n",
       "      <td>-2.0260409</td>\n",
       "    </tr>\n",
       "    <tr>\n",
       "      <th>2</th>\n",
       "      <td>297981358</td>\n",
       "      <td>Bayeux</td>\n",
       "      <td>49.2764624</td>\n",
       "      <td>-0.7024738</td>\n",
       "    </tr>\n",
       "    <tr>\n",
       "      <th>3</th>\n",
       "      <td>298137491</td>\n",
       "      <td>Le Havre</td>\n",
       "      <td>49.4938975</td>\n",
       "      <td>0.1079732</td>\n",
       "    </tr>\n",
       "    <tr>\n",
       "      <th>4</th>\n",
       "      <td>297518815</td>\n",
       "      <td>Rouen</td>\n",
       "      <td>49.4404591</td>\n",
       "      <td>1.0939658</td>\n",
       "    </tr>\n",
       "    <tr>\n",
       "      <th>5</th>\n",
       "      <td>297417241</td>\n",
       "      <td>Paris</td>\n",
       "      <td>48.8588897</td>\n",
       "      <td>2.3200410217200766</td>\n",
       "    </tr>\n",
       "    <tr>\n",
       "      <th>6</th>\n",
       "      <td>297534793</td>\n",
       "      <td>Amiens</td>\n",
       "      <td>49.8941708</td>\n",
       "      <td>2.2956951</td>\n",
       "    </tr>\n",
       "    <tr>\n",
       "      <th>7</th>\n",
       "      <td>297472400</td>\n",
       "      <td>Lille</td>\n",
       "      <td>50.6365654</td>\n",
       "      <td>3.0635282</td>\n",
       "    </tr>\n",
       "    <tr>\n",
       "      <th>8</th>\n",
       "      <td>297508568</td>\n",
       "      <td>Strasbourg</td>\n",
       "      <td>48.584614</td>\n",
       "      <td>7.7507127</td>\n",
       "    </tr>\n",
       "    <tr>\n",
       "      <th>9</th>\n",
       "      <td>120791766</td>\n",
       "      <td>Chateau du Haut Koenigsbourg</td>\n",
       "      <td>48.249489800000006</td>\n",
       "      <td>7.34429620253195</td>\n",
       "    </tr>\n",
       "    <tr>\n",
       "      <th>10</th>\n",
       "      <td>297504747</td>\n",
       "      <td>Colmar</td>\n",
       "      <td>48.0777517</td>\n",
       "      <td>7.3579641</td>\n",
       "    </tr>\n",
       "    <tr>\n",
       "      <th>11</th>\n",
       "      <td>297869324</td>\n",
       "      <td>Eguisheim</td>\n",
       "      <td>48.0447968</td>\n",
       "      <td>7.3079618</td>\n",
       "    </tr>\n",
       "    <tr>\n",
       "      <th>12</th>\n",
       "      <td>297668227</td>\n",
       "      <td>Besancon</td>\n",
       "      <td>47.2380222</td>\n",
       "      <td>6.0243622</td>\n",
       "    </tr>\n",
       "    <tr>\n",
       "      <th>13</th>\n",
       "      <td>297478568</td>\n",
       "      <td>Dijon</td>\n",
       "      <td>47.3215806</td>\n",
       "      <td>5.0414701</td>\n",
       "    </tr>\n",
       "    <tr>\n",
       "      <th>14</th>\n",
       "      <td>298516920</td>\n",
       "      <td>Annecy</td>\n",
       "      <td>45.8992348</td>\n",
       "      <td>6.1288847</td>\n",
       "    </tr>\n",
       "    <tr>\n",
       "      <th>15</th>\n",
       "      <td>297639071</td>\n",
       "      <td>Grenoble</td>\n",
       "      <td>45.1875602</td>\n",
       "      <td>5.7357819</td>\n",
       "    </tr>\n",
       "    <tr>\n",
       "      <th>16</th>\n",
       "      <td>297681191</td>\n",
       "      <td>Lyon</td>\n",
       "      <td>45.7578137</td>\n",
       "      <td>4.8320114</td>\n",
       "    </tr>\n",
       "    <tr>\n",
       "      <th>17</th>\n",
       "      <td>76036307</td>\n",
       "      <td>Gorges du Verdon</td>\n",
       "      <td>43.7496562</td>\n",
       "      <td>6.3285616</td>\n",
       "    </tr>\n",
       "    <tr>\n",
       "      <th>18</th>\n",
       "      <td>297749145</td>\n",
       "      <td>Bormes les Mimosas</td>\n",
       "      <td>43.1506968</td>\n",
       "      <td>6.3419285</td>\n",
       "    </tr>\n",
       "    <tr>\n",
       "      <th>19</th>\n",
       "      <td>298072685</td>\n",
       "      <td>Cassis</td>\n",
       "      <td>43.2140359</td>\n",
       "      <td>5.5396318</td>\n",
       "    </tr>\n",
       "    <tr>\n",
       "      <th>20</th>\n",
       "      <td>297763730</td>\n",
       "      <td>Marseille</td>\n",
       "      <td>43.2961743</td>\n",
       "      <td>5.3699525</td>\n",
       "    </tr>\n",
       "    <tr>\n",
       "      <th>21</th>\n",
       "      <td>297906924</td>\n",
       "      <td>Aix en Provence</td>\n",
       "      <td>43.5298424</td>\n",
       "      <td>5.4474738</td>\n",
       "    </tr>\n",
       "    <tr>\n",
       "      <th>22</th>\n",
       "      <td>297768703</td>\n",
       "      <td>Avignon</td>\n",
       "      <td>43.9492493</td>\n",
       "      <td>4.8059012</td>\n",
       "    </tr>\n",
       "    <tr>\n",
       "      <th>23</th>\n",
       "      <td>297655586</td>\n",
       "      <td>Uzes</td>\n",
       "      <td>44.0121279</td>\n",
       "      <td>4.4196718</td>\n",
       "    </tr>\n",
       "    <tr>\n",
       "      <th>24</th>\n",
       "      <td>297997049</td>\n",
       "      <td>Nimes</td>\n",
       "      <td>43.8374249</td>\n",
       "      <td>4.3600687</td>\n",
       "    </tr>\n",
       "    <tr>\n",
       "      <th>25</th>\n",
       "      <td>298018344</td>\n",
       "      <td>Aigues Mortes</td>\n",
       "      <td>43.5658225</td>\n",
       "      <td>4.1912837</td>\n",
       "    </tr>\n",
       "    <tr>\n",
       "      <th>26</th>\n",
       "      <td>298011281</td>\n",
       "      <td>Saintes Maries de la mer</td>\n",
       "      <td>43.4522771</td>\n",
       "      <td>4.4287172</td>\n",
       "    </tr>\n",
       "    <tr>\n",
       "      <th>27</th>\n",
       "      <td>298221742</td>\n",
       "      <td>Collioure</td>\n",
       "      <td>42.52505</td>\n",
       "      <td>3.0831554</td>\n",
       "    </tr>\n",
       "    <tr>\n",
       "      <th>28</th>\n",
       "      <td>297466626</td>\n",
       "      <td>Carcassonne</td>\n",
       "      <td>43.2130358</td>\n",
       "      <td>2.3491069</td>\n",
       "    </tr>\n",
       "    <tr>\n",
       "      <th>29</th>\n",
       "      <td>297389050</td>\n",
       "      <td>Ariege</td>\n",
       "      <td>42.9455368</td>\n",
       "      <td>1.4065544156065486</td>\n",
       "    </tr>\n",
       "    <tr>\n",
       "      <th>30</th>\n",
       "      <td>298222566</td>\n",
       "      <td>Toulouse</td>\n",
       "      <td>43.6044622</td>\n",
       "      <td>1.4442469</td>\n",
       "    </tr>\n",
       "    <tr>\n",
       "      <th>31</th>\n",
       "      <td>297932490</td>\n",
       "      <td>Montauban</td>\n",
       "      <td>44.0175835</td>\n",
       "      <td>1.3549991</td>\n",
       "    </tr>\n",
       "    <tr>\n",
       "      <th>32</th>\n",
       "      <td>298516909</td>\n",
       "      <td>Biarritz</td>\n",
       "      <td>43.471143749999996</td>\n",
       "      <td>-1.552726590666314</td>\n",
       "    </tr>\n",
       "    <tr>\n",
       "      <th>33</th>\n",
       "      <td>298271847</td>\n",
       "      <td>Bayonne</td>\n",
       "      <td>43.4945144</td>\n",
       "      <td>-1.4736657</td>\n",
       "    </tr>\n",
       "    <tr>\n",
       "      <th>34</th>\n",
       "      <td>297653650</td>\n",
       "      <td>La Rochelle</td>\n",
       "      <td>46.1591126</td>\n",
       "      <td>-1.1520434</td>\n",
       "    </tr>\n",
       "  </tbody>\n",
       "</table>\n",
       "</div>"
      ],
      "text/plain": [
       "      city_id                          city            latitude  \\\n",
       "0   156094680             Mont Saint Michel          48.6359541   \n",
       "1   297756747                       St Malo           48.649518   \n",
       "2   297981358                        Bayeux          49.2764624   \n",
       "3   298137491                      Le Havre          49.4938975   \n",
       "4   297518815                         Rouen          49.4404591   \n",
       "5   297417241                         Paris          48.8588897   \n",
       "6   297534793                        Amiens          49.8941708   \n",
       "7   297472400                         Lille          50.6365654   \n",
       "8   297508568                    Strasbourg           48.584614   \n",
       "9   120791766  Chateau du Haut Koenigsbourg  48.249489800000006   \n",
       "10  297504747                        Colmar          48.0777517   \n",
       "11  297869324                     Eguisheim          48.0447968   \n",
       "12  297668227                      Besancon          47.2380222   \n",
       "13  297478568                         Dijon          47.3215806   \n",
       "14  298516920                        Annecy          45.8992348   \n",
       "15  297639071                      Grenoble          45.1875602   \n",
       "16  297681191                          Lyon          45.7578137   \n",
       "17   76036307              Gorges du Verdon          43.7496562   \n",
       "18  297749145            Bormes les Mimosas          43.1506968   \n",
       "19  298072685                        Cassis          43.2140359   \n",
       "20  297763730                     Marseille          43.2961743   \n",
       "21  297906924               Aix en Provence          43.5298424   \n",
       "22  297768703                       Avignon          43.9492493   \n",
       "23  297655586                          Uzes          44.0121279   \n",
       "24  297997049                         Nimes          43.8374249   \n",
       "25  298018344                 Aigues Mortes          43.5658225   \n",
       "26  298011281      Saintes Maries de la mer          43.4522771   \n",
       "27  298221742                     Collioure            42.52505   \n",
       "28  297466626                   Carcassonne          43.2130358   \n",
       "29  297389050                        Ariege          42.9455368   \n",
       "30  298222566                      Toulouse          43.6044622   \n",
       "31  297932490                     Montauban          44.0175835   \n",
       "32  298516909                      Biarritz  43.471143749999996   \n",
       "33  298271847                       Bayonne          43.4945144   \n",
       "34  297653650                   La Rochelle          46.1591126   \n",
       "\n",
       "             longitude  \n",
       "0   -1.511459954959514  \n",
       "1           -2.0260409  \n",
       "2           -0.7024738  \n",
       "3            0.1079732  \n",
       "4            1.0939658  \n",
       "5   2.3200410217200766  \n",
       "6            2.2956951  \n",
       "7            3.0635282  \n",
       "8            7.7507127  \n",
       "9     7.34429620253195  \n",
       "10           7.3579641  \n",
       "11           7.3079618  \n",
       "12           6.0243622  \n",
       "13           5.0414701  \n",
       "14           6.1288847  \n",
       "15           5.7357819  \n",
       "16           4.8320114  \n",
       "17           6.3285616  \n",
       "18           6.3419285  \n",
       "19           5.5396318  \n",
       "20           5.3699525  \n",
       "21           5.4474738  \n",
       "22           4.8059012  \n",
       "23           4.4196718  \n",
       "24           4.3600687  \n",
       "25           4.1912837  \n",
       "26           4.4287172  \n",
       "27           3.0831554  \n",
       "28           2.3491069  \n",
       "29  1.4065544156065486  \n",
       "30           1.4442469  \n",
       "31           1.3549991  \n",
       "32  -1.552726590666314  \n",
       "33          -1.4736657  \n",
       "34          -1.1520434  "
      ]
     },
     "execution_count": 61,
     "metadata": {},
     "output_type": "execute_result"
    }
   ],
   "source": [
    "df_cities"
   ]
  },
  {
   "cell_type": "code",
   "execution_count": 63,
   "id": "d5f7cd93",
   "metadata": {},
   "outputs": [],
   "source": [
    "# params\n",
    "params = {'exclude' : EXCLUDE ,\n",
    "          'appid' : APPID ,\n",
    "          'units' : 'metric'}\n",
    "\n",
    "# initialization of an empty dataframe\n",
    "df_cities_weather = pd.DataFrame(columns = ['city_id', 'city','latitude','longitude','temperature', 'clear_weather'])\n",
    "\n",
    "# browse the list of 35 cities by latitude and longitude\n",
    "for counter, (id, city, lat, lon) in enumerate(zip(df_cities['city_id'],\n",
    "                                                   df_cities['city'],\n",
    "                                                   df_cities['latitude'],\n",
    "                                                   df_cities['longitude'])):\n",
    "                                                   \n",
    "    # latitude and longitude of each city\n",
    "    localpoint = endpoint + f\"lat={lat}&lon={lon}\"\n",
    "    response =  requests.get(localpoint, params = params)\n",
    "    \n",
    "    # Retrieves weather information for the next 7 days\n",
    "    temp = []\n",
    "    clear_weather = []\n",
    "    for i in range(1, len(response.json()['daily'])):\n",
    "        # Day temperature\n",
    "        temp.append((response.json()['daily'][i]['temp']['day']))\n",
    "        # clear weather: 100 - Cloudiness, %\n",
    "        clear_weather.append(100 - (response.json()['daily'][i]['clouds']))\n",
    "        \n",
    "    # Complete the dataframe\n",
    "    df_cities_weather.loc[counter] = [id, city, float(lat), float(lon), mean(temp), mean(clear_weather)]"
   ]
  },
  {
   "cell_type": "code",
   "execution_count": 64,
   "id": "89eef122",
   "metadata": {},
   "outputs": [
    {
     "data": {
      "text/html": [
       "<div>\n",
       "<style scoped>\n",
       "    .dataframe tbody tr th:only-of-type {\n",
       "        vertical-align: middle;\n",
       "    }\n",
       "\n",
       "    .dataframe tbody tr th {\n",
       "        vertical-align: top;\n",
       "    }\n",
       "\n",
       "    .dataframe thead th {\n",
       "        text-align: right;\n",
       "    }\n",
       "</style>\n",
       "<table border=\"1\" class=\"dataframe\">\n",
       "  <thead>\n",
       "    <tr style=\"text-align: right;\">\n",
       "      <th></th>\n",
       "      <th>city_id</th>\n",
       "      <th>city</th>\n",
       "      <th>latitude</th>\n",
       "      <th>longitude</th>\n",
       "      <th>temperature</th>\n",
       "      <th>clear_weather</th>\n",
       "    </tr>\n",
       "  </thead>\n",
       "  <tbody>\n",
       "    <tr>\n",
       "      <th>0</th>\n",
       "      <td>156094680</td>\n",
       "      <td>Mont Saint Michel</td>\n",
       "      <td>48.635954</td>\n",
       "      <td>-1.511460</td>\n",
       "      <td>18.954286</td>\n",
       "      <td>33.428571</td>\n",
       "    </tr>\n",
       "    <tr>\n",
       "      <th>1</th>\n",
       "      <td>297756747</td>\n",
       "      <td>St Malo</td>\n",
       "      <td>48.649518</td>\n",
       "      <td>-2.026041</td>\n",
       "      <td>18.232857</td>\n",
       "      <td>32.285714</td>\n",
       "    </tr>\n",
       "    <tr>\n",
       "      <th>2</th>\n",
       "      <td>297981358</td>\n",
       "      <td>Bayeux</td>\n",
       "      <td>49.276462</td>\n",
       "      <td>-0.702474</td>\n",
       "      <td>18.614286</td>\n",
       "      <td>46.571429</td>\n",
       "    </tr>\n",
       "    <tr>\n",
       "      <th>3</th>\n",
       "      <td>298137491</td>\n",
       "      <td>Le Havre</td>\n",
       "      <td>49.493898</td>\n",
       "      <td>0.107973</td>\n",
       "      <td>17.874286</td>\n",
       "      <td>38.857143</td>\n",
       "    </tr>\n",
       "    <tr>\n",
       "      <th>4</th>\n",
       "      <td>297518815</td>\n",
       "      <td>Rouen</td>\n",
       "      <td>49.440459</td>\n",
       "      <td>1.093966</td>\n",
       "      <td>18.741429</td>\n",
       "      <td>36.571429</td>\n",
       "    </tr>\n",
       "    <tr>\n",
       "      <th>5</th>\n",
       "      <td>297417241</td>\n",
       "      <td>Paris</td>\n",
       "      <td>48.858890</td>\n",
       "      <td>2.320041</td>\n",
       "      <td>19.277143</td>\n",
       "      <td>25.857143</td>\n",
       "    </tr>\n",
       "    <tr>\n",
       "      <th>6</th>\n",
       "      <td>297534793</td>\n",
       "      <td>Amiens</td>\n",
       "      <td>49.894171</td>\n",
       "      <td>2.295695</td>\n",
       "      <td>18.958571</td>\n",
       "      <td>28.571429</td>\n",
       "    </tr>\n",
       "    <tr>\n",
       "      <th>7</th>\n",
       "      <td>297472400</td>\n",
       "      <td>Lille</td>\n",
       "      <td>50.636565</td>\n",
       "      <td>3.063528</td>\n",
       "      <td>18.481429</td>\n",
       "      <td>27.428571</td>\n",
       "    </tr>\n",
       "    <tr>\n",
       "      <th>8</th>\n",
       "      <td>297508568</td>\n",
       "      <td>Strasbourg</td>\n",
       "      <td>48.584614</td>\n",
       "      <td>7.750713</td>\n",
       "      <td>19.581429</td>\n",
       "      <td>15.714286</td>\n",
       "    </tr>\n",
       "    <tr>\n",
       "      <th>9</th>\n",
       "      <td>120791766</td>\n",
       "      <td>Chateau du Haut Koenigsbourg</td>\n",
       "      <td>48.249490</td>\n",
       "      <td>7.344296</td>\n",
       "      <td>17.237143</td>\n",
       "      <td>9.714286</td>\n",
       "    </tr>\n",
       "    <tr>\n",
       "      <th>10</th>\n",
       "      <td>297504747</td>\n",
       "      <td>Colmar</td>\n",
       "      <td>48.077752</td>\n",
       "      <td>7.357964</td>\n",
       "      <td>20.450000</td>\n",
       "      <td>15.857143</td>\n",
       "    </tr>\n",
       "    <tr>\n",
       "      <th>11</th>\n",
       "      <td>297869324</td>\n",
       "      <td>Eguisheim</td>\n",
       "      <td>48.044797</td>\n",
       "      <td>7.307962</td>\n",
       "      <td>20.648571</td>\n",
       "      <td>16.428571</td>\n",
       "    </tr>\n",
       "    <tr>\n",
       "      <th>12</th>\n",
       "      <td>297668227</td>\n",
       "      <td>Besancon</td>\n",
       "      <td>47.238022</td>\n",
       "      <td>6.024362</td>\n",
       "      <td>21.435714</td>\n",
       "      <td>25.714286</td>\n",
       "    </tr>\n",
       "    <tr>\n",
       "      <th>13</th>\n",
       "      <td>297478568</td>\n",
       "      <td>Dijon</td>\n",
       "      <td>47.321581</td>\n",
       "      <td>5.041470</td>\n",
       "      <td>20.100000</td>\n",
       "      <td>20.285714</td>\n",
       "    </tr>\n",
       "    <tr>\n",
       "      <th>14</th>\n",
       "      <td>298516920</td>\n",
       "      <td>Annecy</td>\n",
       "      <td>45.899235</td>\n",
       "      <td>6.128885</td>\n",
       "      <td>22.372857</td>\n",
       "      <td>51.000000</td>\n",
       "    </tr>\n",
       "    <tr>\n",
       "      <th>15</th>\n",
       "      <td>297639071</td>\n",
       "      <td>Grenoble</td>\n",
       "      <td>45.187560</td>\n",
       "      <td>5.735782</td>\n",
       "      <td>25.767143</td>\n",
       "      <td>47.857143</td>\n",
       "    </tr>\n",
       "    <tr>\n",
       "      <th>16</th>\n",
       "      <td>297681191</td>\n",
       "      <td>Lyon</td>\n",
       "      <td>45.757814</td>\n",
       "      <td>4.832011</td>\n",
       "      <td>23.762857</td>\n",
       "      <td>58.000000</td>\n",
       "    </tr>\n",
       "    <tr>\n",
       "      <th>17</th>\n",
       "      <td>76036307</td>\n",
       "      <td>Gorges du Verdon</td>\n",
       "      <td>43.749656</td>\n",
       "      <td>6.328562</td>\n",
       "      <td>20.194286</td>\n",
       "      <td>46.571429</td>\n",
       "    </tr>\n",
       "    <tr>\n",
       "      <th>18</th>\n",
       "      <td>297749145</td>\n",
       "      <td>Bormes les Mimosas</td>\n",
       "      <td>43.150697</td>\n",
       "      <td>6.341928</td>\n",
       "      <td>21.791429</td>\n",
       "      <td>45.000000</td>\n",
       "    </tr>\n",
       "    <tr>\n",
       "      <th>19</th>\n",
       "      <td>298072685</td>\n",
       "      <td>Cassis</td>\n",
       "      <td>43.214036</td>\n",
       "      <td>5.539632</td>\n",
       "      <td>22.447143</td>\n",
       "      <td>43.285714</td>\n",
       "    </tr>\n",
       "    <tr>\n",
       "      <th>20</th>\n",
       "      <td>297763730</td>\n",
       "      <td>Marseille</td>\n",
       "      <td>43.296174</td>\n",
       "      <td>5.369953</td>\n",
       "      <td>22.212857</td>\n",
       "      <td>43.857143</td>\n",
       "    </tr>\n",
       "    <tr>\n",
       "      <th>21</th>\n",
       "      <td>297906924</td>\n",
       "      <td>Aix en Provence</td>\n",
       "      <td>43.529842</td>\n",
       "      <td>5.447474</td>\n",
       "      <td>23.652857</td>\n",
       "      <td>45.428571</td>\n",
       "    </tr>\n",
       "    <tr>\n",
       "      <th>22</th>\n",
       "      <td>297768703</td>\n",
       "      <td>Avignon</td>\n",
       "      <td>43.949249</td>\n",
       "      <td>4.805901</td>\n",
       "      <td>25.075714</td>\n",
       "      <td>48.000000</td>\n",
       "    </tr>\n",
       "    <tr>\n",
       "      <th>23</th>\n",
       "      <td>297655586</td>\n",
       "      <td>Uzes</td>\n",
       "      <td>44.012128</td>\n",
       "      <td>4.419672</td>\n",
       "      <td>23.591429</td>\n",
       "      <td>43.142857</td>\n",
       "    </tr>\n",
       "    <tr>\n",
       "      <th>24</th>\n",
       "      <td>297997049</td>\n",
       "      <td>Nimes</td>\n",
       "      <td>43.837425</td>\n",
       "      <td>4.360069</td>\n",
       "      <td>23.887143</td>\n",
       "      <td>43.714286</td>\n",
       "    </tr>\n",
       "    <tr>\n",
       "      <th>25</th>\n",
       "      <td>298018344</td>\n",
       "      <td>Aigues Mortes</td>\n",
       "      <td>43.565823</td>\n",
       "      <td>4.191284</td>\n",
       "      <td>21.560000</td>\n",
       "      <td>44.571429</td>\n",
       "    </tr>\n",
       "    <tr>\n",
       "      <th>26</th>\n",
       "      <td>298011281</td>\n",
       "      <td>Saintes Maries de la mer</td>\n",
       "      <td>43.452277</td>\n",
       "      <td>4.428717</td>\n",
       "      <td>21.215714</td>\n",
       "      <td>49.428571</td>\n",
       "    </tr>\n",
       "    <tr>\n",
       "      <th>27</th>\n",
       "      <td>298221742</td>\n",
       "      <td>Collioure</td>\n",
       "      <td>42.525050</td>\n",
       "      <td>3.083155</td>\n",
       "      <td>23.457143</td>\n",
       "      <td>33.000000</td>\n",
       "    </tr>\n",
       "    <tr>\n",
       "      <th>28</th>\n",
       "      <td>297466626</td>\n",
       "      <td>Carcassonne</td>\n",
       "      <td>43.213036</td>\n",
       "      <td>2.349107</td>\n",
       "      <td>22.415714</td>\n",
       "      <td>27.571429</td>\n",
       "    </tr>\n",
       "    <tr>\n",
       "      <th>29</th>\n",
       "      <td>297389050</td>\n",
       "      <td>Ariege</td>\n",
       "      <td>42.945537</td>\n",
       "      <td>1.406554</td>\n",
       "      <td>21.727143</td>\n",
       "      <td>47.000000</td>\n",
       "    </tr>\n",
       "    <tr>\n",
       "      <th>30</th>\n",
       "      <td>298222566</td>\n",
       "      <td>Toulouse</td>\n",
       "      <td>43.604462</td>\n",
       "      <td>1.444247</td>\n",
       "      <td>24.325714</td>\n",
       "      <td>41.142857</td>\n",
       "    </tr>\n",
       "    <tr>\n",
       "      <th>31</th>\n",
       "      <td>297932490</td>\n",
       "      <td>Montauban</td>\n",
       "      <td>44.017584</td>\n",
       "      <td>1.354999</td>\n",
       "      <td>25.105714</td>\n",
       "      <td>44.428571</td>\n",
       "    </tr>\n",
       "    <tr>\n",
       "      <th>32</th>\n",
       "      <td>298516909</td>\n",
       "      <td>Biarritz</td>\n",
       "      <td>43.471144</td>\n",
       "      <td>-1.552727</td>\n",
       "      <td>23.348571</td>\n",
       "      <td>25.714286</td>\n",
       "    </tr>\n",
       "    <tr>\n",
       "      <th>33</th>\n",
       "      <td>298271847</td>\n",
       "      <td>Bayonne</td>\n",
       "      <td>43.494514</td>\n",
       "      <td>-1.473666</td>\n",
       "      <td>24.307143</td>\n",
       "      <td>24.714286</td>\n",
       "    </tr>\n",
       "    <tr>\n",
       "      <th>34</th>\n",
       "      <td>297653650</td>\n",
       "      <td>La Rochelle</td>\n",
       "      <td>46.159113</td>\n",
       "      <td>-1.152043</td>\n",
       "      <td>19.767143</td>\n",
       "      <td>5.000000</td>\n",
       "    </tr>\n",
       "  </tbody>\n",
       "</table>\n",
       "</div>"
      ],
      "text/plain": [
       "      city_id                          city   latitude  longitude  \\\n",
       "0   156094680             Mont Saint Michel  48.635954  -1.511460   \n",
       "1   297756747                       St Malo  48.649518  -2.026041   \n",
       "2   297981358                        Bayeux  49.276462  -0.702474   \n",
       "3   298137491                      Le Havre  49.493898   0.107973   \n",
       "4   297518815                         Rouen  49.440459   1.093966   \n",
       "5   297417241                         Paris  48.858890   2.320041   \n",
       "6   297534793                        Amiens  49.894171   2.295695   \n",
       "7   297472400                         Lille  50.636565   3.063528   \n",
       "8   297508568                    Strasbourg  48.584614   7.750713   \n",
       "9   120791766  Chateau du Haut Koenigsbourg  48.249490   7.344296   \n",
       "10  297504747                        Colmar  48.077752   7.357964   \n",
       "11  297869324                     Eguisheim  48.044797   7.307962   \n",
       "12  297668227                      Besancon  47.238022   6.024362   \n",
       "13  297478568                         Dijon  47.321581   5.041470   \n",
       "14  298516920                        Annecy  45.899235   6.128885   \n",
       "15  297639071                      Grenoble  45.187560   5.735782   \n",
       "16  297681191                          Lyon  45.757814   4.832011   \n",
       "17   76036307              Gorges du Verdon  43.749656   6.328562   \n",
       "18  297749145            Bormes les Mimosas  43.150697   6.341928   \n",
       "19  298072685                        Cassis  43.214036   5.539632   \n",
       "20  297763730                     Marseille  43.296174   5.369953   \n",
       "21  297906924               Aix en Provence  43.529842   5.447474   \n",
       "22  297768703                       Avignon  43.949249   4.805901   \n",
       "23  297655586                          Uzes  44.012128   4.419672   \n",
       "24  297997049                         Nimes  43.837425   4.360069   \n",
       "25  298018344                 Aigues Mortes  43.565823   4.191284   \n",
       "26  298011281      Saintes Maries de la mer  43.452277   4.428717   \n",
       "27  298221742                     Collioure  42.525050   3.083155   \n",
       "28  297466626                   Carcassonne  43.213036   2.349107   \n",
       "29  297389050                        Ariege  42.945537   1.406554   \n",
       "30  298222566                      Toulouse  43.604462   1.444247   \n",
       "31  297932490                     Montauban  44.017584   1.354999   \n",
       "32  298516909                      Biarritz  43.471144  -1.552727   \n",
       "33  298271847                       Bayonne  43.494514  -1.473666   \n",
       "34  297653650                   La Rochelle  46.159113  -1.152043   \n",
       "\n",
       "    temperature  clear_weather  \n",
       "0     18.954286      33.428571  \n",
       "1     18.232857      32.285714  \n",
       "2     18.614286      46.571429  \n",
       "3     17.874286      38.857143  \n",
       "4     18.741429      36.571429  \n",
       "5     19.277143      25.857143  \n",
       "6     18.958571      28.571429  \n",
       "7     18.481429      27.428571  \n",
       "8     19.581429      15.714286  \n",
       "9     17.237143       9.714286  \n",
       "10    20.450000      15.857143  \n",
       "11    20.648571      16.428571  \n",
       "12    21.435714      25.714286  \n",
       "13    20.100000      20.285714  \n",
       "14    22.372857      51.000000  \n",
       "15    25.767143      47.857143  \n",
       "16    23.762857      58.000000  \n",
       "17    20.194286      46.571429  \n",
       "18    21.791429      45.000000  \n",
       "19    22.447143      43.285714  \n",
       "20    22.212857      43.857143  \n",
       "21    23.652857      45.428571  \n",
       "22    25.075714      48.000000  \n",
       "23    23.591429      43.142857  \n",
       "24    23.887143      43.714286  \n",
       "25    21.560000      44.571429  \n",
       "26    21.215714      49.428571  \n",
       "27    23.457143      33.000000  \n",
       "28    22.415714      27.571429  \n",
       "29    21.727143      47.000000  \n",
       "30    24.325714      41.142857  \n",
       "31    25.105714      44.428571  \n",
       "32    23.348571      25.714286  \n",
       "33    24.307143      24.714286  \n",
       "34    19.767143       5.000000  "
      ]
     },
     "execution_count": 64,
     "metadata": {},
     "output_type": "execute_result"
    }
   ],
   "source": [
    "df_cities_weather"
   ]
  },
  {
   "cell_type": "code",
   "execution_count": 65,
   "id": "d3df9146",
   "metadata": {},
   "outputs": [
    {
     "data": {
      "application/vnd.plotly.v1+json": {
       "config": {
        "plotlyServerURL": "https://plot.ly"
       },
       "data": [
        {
         "hovertemplate": "<b>%{hovertext}</b><br><br>clear_weather=%{marker.size}<br>latitude=%{lat}<br>longitude=%{lon}<br>temperature=%{marker.color}<extra></extra>",
         "hovertext": [
          "Mont Saint Michel",
          "St Malo",
          "Bayeux",
          "Le Havre",
          "Rouen",
          "Paris",
          "Amiens",
          "Lille",
          "Strasbourg",
          "Chateau du Haut Koenigsbourg",
          "Colmar",
          "Eguisheim",
          "Besancon",
          "Dijon",
          "Annecy",
          "Grenoble",
          "Lyon",
          "Gorges du Verdon",
          "Bormes les Mimosas",
          "Cassis",
          "Marseille",
          "Aix en Provence",
          "Avignon",
          "Uzes",
          "Nimes",
          "Aigues Mortes",
          "Saintes Maries de la mer",
          "Collioure",
          "Carcassonne",
          "Ariege",
          "Toulouse",
          "Montauban",
          "Biarritz",
          "Bayonne",
          "La Rochelle"
         ],
         "lat": [
          48.6359541,
          48.649518,
          49.2764624,
          49.4938975,
          49.4404591,
          48.8588897,
          49.8941708,
          50.6365654,
          48.584614,
          48.249489800000006,
          48.0777517,
          48.0447968,
          47.2380222,
          47.3215806,
          45.8992348,
          45.1875602,
          45.7578137,
          43.7496562,
          43.1506968,
          43.2140359,
          43.2961743,
          43.5298424,
          43.9492493,
          44.0121279,
          43.8374249,
          43.5658225,
          43.4522771,
          42.52505,
          43.2130358,
          42.9455368,
          43.6044622,
          44.0175835,
          43.471143749999996,
          43.4945144,
          46.1591126
         ],
         "legendgroup": "",
         "lon": [
          -1.511459954959514,
          -2.0260409,
          -0.7024738,
          0.1079732,
          1.0939658,
          2.3200410217200766,
          2.2956951,
          3.0635282,
          7.7507127,
          7.34429620253195,
          7.3579641,
          7.3079618,
          6.0243622,
          5.0414701,
          6.1288847,
          5.7357819,
          4.8320114,
          6.3285616,
          6.3419285,
          5.5396318,
          5.3699525,
          5.4474738,
          4.8059012,
          4.4196718,
          4.3600687,
          4.1912837,
          4.4287172,
          3.0831554,
          2.3491069,
          1.4065544156065486,
          1.4442469,
          1.3549991,
          -1.552726590666314,
          -1.4736657,
          -1.1520434
         ],
         "marker": {
          "color": [
           18.954285714285714,
           18.232857142857142,
           18.614285714285714,
           17.874285714285715,
           18.74142857142857,
           19.277142857142856,
           18.958571428571428,
           18.481428571428573,
           19.58142857142857,
           17.237142857142857,
           20.45,
           20.64857142857143,
           21.435714285714287,
           20.099999999999998,
           22.372857142857143,
           25.767142857142858,
           23.762857142857143,
           20.194285714285716,
           21.791428571428572,
           22.447142857142858,
           22.212857142857143,
           23.652857142857144,
           25.075714285714287,
           23.591428571428573,
           23.887142857142855,
           21.56,
           21.215714285714288,
           23.457142857142856,
           22.415714285714284,
           21.72714285714286,
           24.325714285714287,
           25.105714285714285,
           23.34857142857143,
           24.307142857142857,
           19.767142857142858
          ],
          "coloraxis": "coloraxis",
          "size": [
           33.42857142857143,
           32.285714285714285,
           46.57142857142857,
           38.857142857142854,
           36.57142857142857,
           25.857142857142858,
           28.571428571428573,
           27.428571428571427,
           15.714285714285714,
           9.714285714285714,
           15.857142857142858,
           16.428571428571427,
           25.714285714285715,
           20.285714285714285,
           51,
           47.857142857142854,
           58,
           46.57142857142857,
           45,
           43.285714285714285,
           43.857142857142854,
           45.42857142857143,
           48,
           43.142857142857146,
           43.714285714285715,
           44.57142857142857,
           49.42857142857143,
           33,
           27.571428571428573,
           47,
           41.142857142857146,
           44.42857142857143,
           25.714285714285715,
           24.714285714285715,
           5
          ],
          "sizemode": "area",
          "sizeref": 0.145
         },
         "mode": "markers",
         "name": "",
         "showlegend": false,
         "subplot": "mapbox",
         "type": "scattermapbox"
        }
       ],
       "layout": {
        "coloraxis": {
         "colorbar": {
          "title": {
           "text": "temperature"
          }
         },
         "colorscale": [
          [
           0,
           "#0d0887"
          ],
          [
           0.1111111111111111,
           "#46039f"
          ],
          [
           0.2222222222222222,
           "#7201a8"
          ],
          [
           0.3333333333333333,
           "#9c179e"
          ],
          [
           0.4444444444444444,
           "#bd3786"
          ],
          [
           0.5555555555555556,
           "#d8576b"
          ],
          [
           0.6666666666666666,
           "#ed7953"
          ],
          [
           0.7777777777777778,
           "#fb9f3a"
          ],
          [
           0.8888888888888888,
           "#fdca26"
          ],
          [
           1,
           "#f0f921"
          ]
         ]
        },
        "legend": {
         "itemsizing": "constant",
         "tracegroupgap": 0
        },
        "mapbox": {
         "center": {
          "lat": 45.840986490000006,
          "lon": 3.395928331263793
         },
         "domain": {
          "x": [
           0,
           1
          ],
          "y": [
           0,
           1
          ]
         },
         "style": "carto-positron",
         "zoom": 3.9
        },
        "template": {
         "data": {
          "bar": [
           {
            "error_x": {
             "color": "#2a3f5f"
            },
            "error_y": {
             "color": "#2a3f5f"
            },
            "marker": {
             "line": {
              "color": "#E5ECF6",
              "width": 0.5
             },
             "pattern": {
              "fillmode": "overlay",
              "size": 10,
              "solidity": 0.2
             }
            },
            "type": "bar"
           }
          ],
          "barpolar": [
           {
            "marker": {
             "line": {
              "color": "#E5ECF6",
              "width": 0.5
             },
             "pattern": {
              "fillmode": "overlay",
              "size": 10,
              "solidity": 0.2
             }
            },
            "type": "barpolar"
           }
          ],
          "carpet": [
           {
            "aaxis": {
             "endlinecolor": "#2a3f5f",
             "gridcolor": "white",
             "linecolor": "white",
             "minorgridcolor": "white",
             "startlinecolor": "#2a3f5f"
            },
            "baxis": {
             "endlinecolor": "#2a3f5f",
             "gridcolor": "white",
             "linecolor": "white",
             "minorgridcolor": "white",
             "startlinecolor": "#2a3f5f"
            },
            "type": "carpet"
           }
          ],
          "choropleth": [
           {
            "colorbar": {
             "outlinewidth": 0,
             "ticks": ""
            },
            "type": "choropleth"
           }
          ],
          "contour": [
           {
            "colorbar": {
             "outlinewidth": 0,
             "ticks": ""
            },
            "colorscale": [
             [
              0,
              "#0d0887"
             ],
             [
              0.1111111111111111,
              "#46039f"
             ],
             [
              0.2222222222222222,
              "#7201a8"
             ],
             [
              0.3333333333333333,
              "#9c179e"
             ],
             [
              0.4444444444444444,
              "#bd3786"
             ],
             [
              0.5555555555555556,
              "#d8576b"
             ],
             [
              0.6666666666666666,
              "#ed7953"
             ],
             [
              0.7777777777777778,
              "#fb9f3a"
             ],
             [
              0.8888888888888888,
              "#fdca26"
             ],
             [
              1,
              "#f0f921"
             ]
            ],
            "type": "contour"
           }
          ],
          "contourcarpet": [
           {
            "colorbar": {
             "outlinewidth": 0,
             "ticks": ""
            },
            "type": "contourcarpet"
           }
          ],
          "heatmap": [
           {
            "colorbar": {
             "outlinewidth": 0,
             "ticks": ""
            },
            "colorscale": [
             [
              0,
              "#0d0887"
             ],
             [
              0.1111111111111111,
              "#46039f"
             ],
             [
              0.2222222222222222,
              "#7201a8"
             ],
             [
              0.3333333333333333,
              "#9c179e"
             ],
             [
              0.4444444444444444,
              "#bd3786"
             ],
             [
              0.5555555555555556,
              "#d8576b"
             ],
             [
              0.6666666666666666,
              "#ed7953"
             ],
             [
              0.7777777777777778,
              "#fb9f3a"
             ],
             [
              0.8888888888888888,
              "#fdca26"
             ],
             [
              1,
              "#f0f921"
             ]
            ],
            "type": "heatmap"
           }
          ],
          "heatmapgl": [
           {
            "colorbar": {
             "outlinewidth": 0,
             "ticks": ""
            },
            "colorscale": [
             [
              0,
              "#0d0887"
             ],
             [
              0.1111111111111111,
              "#46039f"
             ],
             [
              0.2222222222222222,
              "#7201a8"
             ],
             [
              0.3333333333333333,
              "#9c179e"
             ],
             [
              0.4444444444444444,
              "#bd3786"
             ],
             [
              0.5555555555555556,
              "#d8576b"
             ],
             [
              0.6666666666666666,
              "#ed7953"
             ],
             [
              0.7777777777777778,
              "#fb9f3a"
             ],
             [
              0.8888888888888888,
              "#fdca26"
             ],
             [
              1,
              "#f0f921"
             ]
            ],
            "type": "heatmapgl"
           }
          ],
          "histogram": [
           {
            "marker": {
             "pattern": {
              "fillmode": "overlay",
              "size": 10,
              "solidity": 0.2
             }
            },
            "type": "histogram"
           }
          ],
          "histogram2d": [
           {
            "colorbar": {
             "outlinewidth": 0,
             "ticks": ""
            },
            "colorscale": [
             [
              0,
              "#0d0887"
             ],
             [
              0.1111111111111111,
              "#46039f"
             ],
             [
              0.2222222222222222,
              "#7201a8"
             ],
             [
              0.3333333333333333,
              "#9c179e"
             ],
             [
              0.4444444444444444,
              "#bd3786"
             ],
             [
              0.5555555555555556,
              "#d8576b"
             ],
             [
              0.6666666666666666,
              "#ed7953"
             ],
             [
              0.7777777777777778,
              "#fb9f3a"
             ],
             [
              0.8888888888888888,
              "#fdca26"
             ],
             [
              1,
              "#f0f921"
             ]
            ],
            "type": "histogram2d"
           }
          ],
          "histogram2dcontour": [
           {
            "colorbar": {
             "outlinewidth": 0,
             "ticks": ""
            },
            "colorscale": [
             [
              0,
              "#0d0887"
             ],
             [
              0.1111111111111111,
              "#46039f"
             ],
             [
              0.2222222222222222,
              "#7201a8"
             ],
             [
              0.3333333333333333,
              "#9c179e"
             ],
             [
              0.4444444444444444,
              "#bd3786"
             ],
             [
              0.5555555555555556,
              "#d8576b"
             ],
             [
              0.6666666666666666,
              "#ed7953"
             ],
             [
              0.7777777777777778,
              "#fb9f3a"
             ],
             [
              0.8888888888888888,
              "#fdca26"
             ],
             [
              1,
              "#f0f921"
             ]
            ],
            "type": "histogram2dcontour"
           }
          ],
          "mesh3d": [
           {
            "colorbar": {
             "outlinewidth": 0,
             "ticks": ""
            },
            "type": "mesh3d"
           }
          ],
          "parcoords": [
           {
            "line": {
             "colorbar": {
              "outlinewidth": 0,
              "ticks": ""
             }
            },
            "type": "parcoords"
           }
          ],
          "pie": [
           {
            "automargin": true,
            "type": "pie"
           }
          ],
          "scatter": [
           {
            "fillpattern": {
             "fillmode": "overlay",
             "size": 10,
             "solidity": 0.2
            },
            "type": "scatter"
           }
          ],
          "scatter3d": [
           {
            "line": {
             "colorbar": {
              "outlinewidth": 0,
              "ticks": ""
             }
            },
            "marker": {
             "colorbar": {
              "outlinewidth": 0,
              "ticks": ""
             }
            },
            "type": "scatter3d"
           }
          ],
          "scattercarpet": [
           {
            "marker": {
             "colorbar": {
              "outlinewidth": 0,
              "ticks": ""
             }
            },
            "type": "scattercarpet"
           }
          ],
          "scattergeo": [
           {
            "marker": {
             "colorbar": {
              "outlinewidth": 0,
              "ticks": ""
             }
            },
            "type": "scattergeo"
           }
          ],
          "scattergl": [
           {
            "marker": {
             "colorbar": {
              "outlinewidth": 0,
              "ticks": ""
             }
            },
            "type": "scattergl"
           }
          ],
          "scattermapbox": [
           {
            "marker": {
             "colorbar": {
              "outlinewidth": 0,
              "ticks": ""
             }
            },
            "type": "scattermapbox"
           }
          ],
          "scatterpolar": [
           {
            "marker": {
             "colorbar": {
              "outlinewidth": 0,
              "ticks": ""
             }
            },
            "type": "scatterpolar"
           }
          ],
          "scatterpolargl": [
           {
            "marker": {
             "colorbar": {
              "outlinewidth": 0,
              "ticks": ""
             }
            },
            "type": "scatterpolargl"
           }
          ],
          "scatterternary": [
           {
            "marker": {
             "colorbar": {
              "outlinewidth": 0,
              "ticks": ""
             }
            },
            "type": "scatterternary"
           }
          ],
          "surface": [
           {
            "colorbar": {
             "outlinewidth": 0,
             "ticks": ""
            },
            "colorscale": [
             [
              0,
              "#0d0887"
             ],
             [
              0.1111111111111111,
              "#46039f"
             ],
             [
              0.2222222222222222,
              "#7201a8"
             ],
             [
              0.3333333333333333,
              "#9c179e"
             ],
             [
              0.4444444444444444,
              "#bd3786"
             ],
             [
              0.5555555555555556,
              "#d8576b"
             ],
             [
              0.6666666666666666,
              "#ed7953"
             ],
             [
              0.7777777777777778,
              "#fb9f3a"
             ],
             [
              0.8888888888888888,
              "#fdca26"
             ],
             [
              1,
              "#f0f921"
             ]
            ],
            "type": "surface"
           }
          ],
          "table": [
           {
            "cells": {
             "fill": {
              "color": "#EBF0F8"
             },
             "line": {
              "color": "white"
             }
            },
            "header": {
             "fill": {
              "color": "#C8D4E3"
             },
             "line": {
              "color": "white"
             }
            },
            "type": "table"
           }
          ]
         },
         "layout": {
          "annotationdefaults": {
           "arrowcolor": "#2a3f5f",
           "arrowhead": 0,
           "arrowwidth": 1
          },
          "autotypenumbers": "strict",
          "coloraxis": {
           "colorbar": {
            "outlinewidth": 0,
            "ticks": ""
           }
          },
          "colorscale": {
           "diverging": [
            [
             0,
             "#8e0152"
            ],
            [
             0.1,
             "#c51b7d"
            ],
            [
             0.2,
             "#de77ae"
            ],
            [
             0.3,
             "#f1b6da"
            ],
            [
             0.4,
             "#fde0ef"
            ],
            [
             0.5,
             "#f7f7f7"
            ],
            [
             0.6,
             "#e6f5d0"
            ],
            [
             0.7,
             "#b8e186"
            ],
            [
             0.8,
             "#7fbc41"
            ],
            [
             0.9,
             "#4d9221"
            ],
            [
             1,
             "#276419"
            ]
           ],
           "sequential": [
            [
             0,
             "#0d0887"
            ],
            [
             0.1111111111111111,
             "#46039f"
            ],
            [
             0.2222222222222222,
             "#7201a8"
            ],
            [
             0.3333333333333333,
             "#9c179e"
            ],
            [
             0.4444444444444444,
             "#bd3786"
            ],
            [
             0.5555555555555556,
             "#d8576b"
            ],
            [
             0.6666666666666666,
             "#ed7953"
            ],
            [
             0.7777777777777778,
             "#fb9f3a"
            ],
            [
             0.8888888888888888,
             "#fdca26"
            ],
            [
             1,
             "#f0f921"
            ]
           ],
           "sequentialminus": [
            [
             0,
             "#0d0887"
            ],
            [
             0.1111111111111111,
             "#46039f"
            ],
            [
             0.2222222222222222,
             "#7201a8"
            ],
            [
             0.3333333333333333,
             "#9c179e"
            ],
            [
             0.4444444444444444,
             "#bd3786"
            ],
            [
             0.5555555555555556,
             "#d8576b"
            ],
            [
             0.6666666666666666,
             "#ed7953"
            ],
            [
             0.7777777777777778,
             "#fb9f3a"
            ],
            [
             0.8888888888888888,
             "#fdca26"
            ],
            [
             1,
             "#f0f921"
            ]
           ]
          },
          "colorway": [
           "#636efa",
           "#EF553B",
           "#00cc96",
           "#ab63fa",
           "#FFA15A",
           "#19d3f3",
           "#FF6692",
           "#B6E880",
           "#FF97FF",
           "#FECB52"
          ],
          "font": {
           "color": "#2a3f5f"
          },
          "geo": {
           "bgcolor": "white",
           "lakecolor": "white",
           "landcolor": "#E5ECF6",
           "showlakes": true,
           "showland": true,
           "subunitcolor": "white"
          },
          "hoverlabel": {
           "align": "left"
          },
          "hovermode": "closest",
          "mapbox": {
           "style": "light"
          },
          "paper_bgcolor": "white",
          "plot_bgcolor": "#E5ECF6",
          "polar": {
           "angularaxis": {
            "gridcolor": "white",
            "linecolor": "white",
            "ticks": ""
           },
           "bgcolor": "#E5ECF6",
           "radialaxis": {
            "gridcolor": "white",
            "linecolor": "white",
            "ticks": ""
           }
          },
          "scene": {
           "xaxis": {
            "backgroundcolor": "#E5ECF6",
            "gridcolor": "white",
            "gridwidth": 2,
            "linecolor": "white",
            "showbackground": true,
            "ticks": "",
            "zerolinecolor": "white"
           },
           "yaxis": {
            "backgroundcolor": "#E5ECF6",
            "gridcolor": "white",
            "gridwidth": 2,
            "linecolor": "white",
            "showbackground": true,
            "ticks": "",
            "zerolinecolor": "white"
           },
           "zaxis": {
            "backgroundcolor": "#E5ECF6",
            "gridcolor": "white",
            "gridwidth": 2,
            "linecolor": "white",
            "showbackground": true,
            "ticks": "",
            "zerolinecolor": "white"
           }
          },
          "shapedefaults": {
           "line": {
            "color": "#2a3f5f"
           }
          },
          "ternary": {
           "aaxis": {
            "gridcolor": "white",
            "linecolor": "white",
            "ticks": ""
           },
           "baxis": {
            "gridcolor": "white",
            "linecolor": "white",
            "ticks": ""
           },
           "bgcolor": "#E5ECF6",
           "caxis": {
            "gridcolor": "white",
            "linecolor": "white",
            "ticks": ""
           }
          },
          "title": {
           "x": 0.05
          },
          "xaxis": {
           "automargin": true,
           "gridcolor": "white",
           "linecolor": "white",
           "ticks": "",
           "title": {
            "standoff": 15
           },
           "zerolinecolor": "white",
           "zerolinewidth": 2
          },
          "yaxis": {
           "automargin": true,
           "gridcolor": "white",
           "linecolor": "white",
           "ticks": "",
           "title": {
            "standoff": 15
           },
           "zerolinecolor": "white",
           "zerolinewidth": 2
          }
         }
        },
        "title": {
         "text": "destination depending on the weather and temperature"
        },
        "width": 800
       }
      }
     },
     "metadata": {},
     "output_type": "display_data"
    }
   ],
   "source": [
    "fig = px.scatter_mapbox(\n",
    "    df_cities_weather,\n",
    "    lat = \"latitude\",\n",
    "    lon = \"longitude\",\n",
    "    color = \"temperature\",\n",
    "    hover_name = \"city\",\n",
    "    size = \"clear_weather\",\n",
    "    zoom = 3.9,\n",
    "    mapbox_style = \"carto-positron\",\n",
    "    width = 800,\n",
    "    title = \"destination depending on the weather and temperature\")\n",
    "fig.show()"
   ]
  },
  {
   "cell_type": "code",
   "execution_count": 66,
   "id": "cffe5d5f",
   "metadata": {},
   "outputs": [],
   "source": [
    "df_cities_weather.to_csv(\"src/cities_weather.csv\")"
   ]
  },
  {
   "cell_type": "markdown",
   "id": "4c9bcdf9-a169-4f1c-bfb5-f2e4df61f1c1",
   "metadata": {},
   "source": [
    "## Scrape Booking.com"
   ]
  },
  {
   "cell_type": "markdown",
   "id": "7cc910d9-44ad-48be-86f4-059da0d44613",
   "metadata": {},
   "source": [
    "Since BookingHoldings doesn't have aggregated databases, it will be much faster to scrape data directly from booking.com\n",
    "\n",
    "You can scrap as many information asyou want, but we suggest that you get at least:\n",
    "\n",
    "hotel name,\n",
    "Url to its booking.com page,\n",
    "Its coordinates: latitude and longitude\n",
    "Score given by the website users\n",
    "Text description of the hotel"
   ]
  },
  {
   "cell_type": "code",
   "execution_count": 28,
   "id": "e3c349dd",
   "metadata": {},
   "outputs": [
    {
     "name": "stderr",
     "output_type": "stream",
     "text": [
      "2022-10-14 12:14:03 [scrapy.utils.log] INFO: Scrapy 2.6.3 started (bot: scrapybot)\n",
      "2022-10-14 12:14:03 [scrapy.utils.log] INFO: Versions: lxml 4.9.1.0, libxml2 2.9.12, cssselect 1.1.0, parsel 1.6.0, w3lib 2.0.1, Twisted 22.8.0, Python 3.10.4 (tags/v3.10.4:9d38120, Mar 23 2022, 23:13:41) [MSC v.1929 64 bit (AMD64)], pyOpenSSL 22.1.0 (OpenSSL 3.0.5 5 Jul 2022), cryptography 38.0.1, Platform Windows-10-10.0.19043-SP0\n",
      "2022-10-14 12:14:03 [scrapy.crawler] INFO: Overridden settings:\n",
      "{'LOG_LEVEL': 20, 'USER_AGENT': 'Chrome/97.0'}\n",
      "2022-10-14 12:14:03 [scrapy.extensions.telnet] INFO: Telnet Password: cb83a6e1c601b025\n",
      "2022-10-14 12:14:03 [scrapy.middleware] INFO: Enabled extensions:\n",
      "['scrapy.extensions.corestats.CoreStats',\n",
      " 'scrapy.extensions.telnet.TelnetConsole',\n",
      " 'scrapy.extensions.feedexport.FeedExporter',\n",
      " 'scrapy.extensions.logstats.LogStats']\n",
      "2022-10-14 12:14:03 [scrapy.middleware] INFO: Enabled downloader middlewares:\n",
      "['scrapy.downloadermiddlewares.httpauth.HttpAuthMiddleware',\n",
      " 'scrapy.downloadermiddlewares.downloadtimeout.DownloadTimeoutMiddleware',\n",
      " 'scrapy.downloadermiddlewares.defaultheaders.DefaultHeadersMiddleware',\n",
      " 'scrapy.downloadermiddlewares.useragent.UserAgentMiddleware',\n",
      " 'scrapy.downloadermiddlewares.retry.RetryMiddleware',\n",
      " 'scrapy.downloadermiddlewares.redirect.MetaRefreshMiddleware',\n",
      " 'scrapy.downloadermiddlewares.httpcompression.HttpCompressionMiddleware',\n",
      " 'scrapy.downloadermiddlewares.redirect.RedirectMiddleware',\n",
      " 'scrapy.downloadermiddlewares.cookies.CookiesMiddleware',\n",
      " 'scrapy.downloadermiddlewares.httpproxy.HttpProxyMiddleware',\n",
      " 'scrapy.downloadermiddlewares.stats.DownloaderStats']\n",
      "2022-10-14 12:14:03 [scrapy.middleware] INFO: Enabled spider middlewares:\n",
      "['scrapy.spidermiddlewares.httperror.HttpErrorMiddleware',\n",
      " 'scrapy.spidermiddlewares.offsite.OffsiteMiddleware',\n",
      " 'scrapy.spidermiddlewares.referer.RefererMiddleware',\n",
      " 'scrapy.spidermiddlewares.urllength.UrlLengthMiddleware',\n",
      " 'scrapy.spidermiddlewares.depth.DepthMiddleware']\n",
      "2022-10-14 12:14:03 [scrapy.middleware] INFO: Enabled item pipelines:\n",
      "[]\n",
      "2022-10-14 12:14:03 [scrapy.core.engine] INFO: Spider opened\n",
      "2022-10-14 12:14:03 [scrapy.extensions.logstats] INFO: Crawled 0 pages (at 0 pages/min), scraped 0 items (at 0 items/min)\n",
      "2022-10-14 12:14:03 [scrapy.extensions.telnet] INFO: Telnet console listening on 127.0.0.1:6023\n",
      "2022-10-14 12:15:03 [scrapy.extensions.logstats] INFO: Crawled 177 pages (at 177 pages/min), scraped 158 items (at 158 items/min)\n",
      "2022-10-14 12:16:03 [scrapy.extensions.logstats] INFO: Crawled 350 pages (at 173 pages/min), scraped 331 items (at 173 items/min)\n",
      "2022-10-14 12:17:03 [scrapy.extensions.logstats] INFO: Crawled 524 pages (at 174 pages/min), scraped 489 items (at 158 items/min)\n",
      "2022-10-14 12:18:03 [scrapy.extensions.logstats] INFO: Crawled 690 pages (at 166 pages/min), scraped 656 items (at 167 items/min)\n",
      "2022-10-14 12:19:03 [scrapy.extensions.logstats] INFO: Crawled 863 pages (at 173 pages/min), scraped 827 items (at 171 items/min)\n",
      "2022-10-14 12:19:19 [scrapy.core.engine] INFO: Closing spider (finished)\n",
      "2022-10-14 12:19:19 [scrapy.extensions.feedexport] INFO: Stored json feed (875 items) in: src/booking_hotel.json\n",
      "2022-10-14 12:19:19 [scrapy.statscollectors] INFO: Dumping Scrapy stats:\n",
      "{'downloader/request_bytes': 734521,\n",
      " 'downloader/request_count': 910,\n",
      " 'downloader/request_method_count/GET': 910,\n",
      " 'downloader/response_bytes': 269202245,\n",
      " 'downloader/response_count': 910,\n",
      " 'downloader/response_status_count/200': 910,\n",
      " 'elapsed_time_seconds': 315.781481,\n",
      " 'feedexport/success_count/FileFeedStorage': 1,\n",
      " 'finish_reason': 'finished',\n",
      " 'finish_time': datetime.datetime(2022, 10, 14, 10, 19, 19, 632167),\n",
      " 'httpcompression/response_bytes': 1183611534,\n",
      " 'httpcompression/response_count': 910,\n",
      " 'item_scraped_count': 875,\n",
      " 'log_count/INFO': 16,\n",
      " 'request_depth_max': 1,\n",
      " 'response_received_count': 910,\n",
      " 'scheduler/dequeued': 910,\n",
      " 'scheduler/dequeued/memory': 910,\n",
      " 'scheduler/enqueued': 910,\n",
      " 'scheduler/enqueued/memory': 910,\n",
      " 'start_time': datetime.datetime(2022, 10, 14, 10, 14, 3, 850686)}\n",
      "2022-10-14 12:19:19 [scrapy.core.engine] INFO: Spider closed (finished)\n"
     ]
    }
   ],
   "source": [
    "!python bookingHotel.py"
   ]
  },
  {
   "cell_type": "code",
   "execution_count": 67,
   "id": "05546019",
   "metadata": {},
   "outputs": [
    {
     "data": {
      "text/html": [
       "<div>\n",
       "<style scoped>\n",
       "    .dataframe tbody tr th:only-of-type {\n",
       "        vertical-align: middle;\n",
       "    }\n",
       "\n",
       "    .dataframe tbody tr th {\n",
       "        vertical-align: top;\n",
       "    }\n",
       "\n",
       "    .dataframe thead th {\n",
       "        text-align: right;\n",
       "    }\n",
       "</style>\n",
       "<table border=\"1\" class=\"dataframe\">\n",
       "  <thead>\n",
       "    <tr style=\"text-align: right;\">\n",
       "      <th></th>\n",
       "      <th>url</th>\n",
       "      <th>city_id</th>\n",
       "      <th>name_hotel</th>\n",
       "      <th>score</th>\n",
       "      <th>coordinates</th>\n",
       "      <th>text_description</th>\n",
       "    </tr>\n",
       "  </thead>\n",
       "  <tbody>\n",
       "    <tr>\n",
       "      <th>0</th>\n",
       "      <td>https://www.booking.com/hotel/fr/express-by-ho...</td>\n",
       "      <td>297534793</td>\n",
       "      <td>Holiday Inn Express Amiens, an IHG Hotel</td>\n",
       "      <td>7,9</td>\n",
       "      <td>2.27981597007699,49.8737107813327,2.3356917518...</td>\n",
       "      <td>[Rénové en avril 2015, le Holiday Inn Express ...</td>\n",
       "    </tr>\n",
       "    <tr>\n",
       "      <th>1</th>\n",
       "      <td>https://www.booking.com/hotel/fr/cmg-new-apart...</td>\n",
       "      <td>297417241</td>\n",
       "      <td>CMG - New Apartement Montmartre 4P 2BR - 2</td>\n",
       "      <td>None</td>\n",
       "      <td>2.31625185210765,48.8617907834269,2.3709885478...</td>\n",
       "      <td>[Le CMG - New Apartement Montmartre 4P 2BR - 2...</td>\n",
       "    </tr>\n",
       "    <tr>\n",
       "      <th>2</th>\n",
       "      <td>https://www.booking.com/hotel/fr/residhotel-li...</td>\n",
       "      <td>297472400</td>\n",
       "      <td>Residhotel Lille Vauban</td>\n",
       "      <td>7,7</td>\n",
       "      <td>3.01831070505302,50.6142418000715,3.0750619975...</td>\n",
       "      <td>[Le Residhotel Lille Vauban est idéalement ins...</td>\n",
       "    </tr>\n",
       "    <tr>\n",
       "      <th>3</th>\n",
       "      <td>https://www.booking.com/hotel/fr/arc-en-ciel-h...</td>\n",
       "      <td>297504747</td>\n",
       "      <td>Hotel Arc-En-Ciel Colmar Contact Hotel</td>\n",
       "      <td>8,0</td>\n",
       "      <td>7.33374282489442,48.0694885745119,7.3876310907...</td>\n",
       "      <td>[L'Hotel Arc-En-Ciel Colmar Contact Hotel vous...</td>\n",
       "    </tr>\n",
       "    <tr>\n",
       "      <th>4</th>\n",
       "      <td>https://www.booking.com/hotel/fr/hotellitterai...</td>\n",
       "      <td>297518815</td>\n",
       "      <td>Best Western Plus Hotel Litteraire Gustave Fla...</td>\n",
       "      <td>8,5</td>\n",
       "      <td>1.0589216728517,49.4250988141913,1.11428453728...</td>\n",
       "      <td>[Vous pouvez bénéficier d'une réduction Genius...</td>\n",
       "    </tr>\n",
       "  </tbody>\n",
       "</table>\n",
       "</div>"
      ],
      "text/plain": [
       "                                                 url    city_id  \\\n",
       "0  https://www.booking.com/hotel/fr/express-by-ho...  297534793   \n",
       "1  https://www.booking.com/hotel/fr/cmg-new-apart...  297417241   \n",
       "2  https://www.booking.com/hotel/fr/residhotel-li...  297472400   \n",
       "3  https://www.booking.com/hotel/fr/arc-en-ciel-h...  297504747   \n",
       "4  https://www.booking.com/hotel/fr/hotellitterai...  297518815   \n",
       "\n",
       "                                          name_hotel score  \\\n",
       "0           Holiday Inn Express Amiens, an IHG Hotel   7,9   \n",
       "1         CMG - New Apartement Montmartre 4P 2BR - 2  None   \n",
       "2                            Residhotel Lille Vauban   7,7   \n",
       "3             Hotel Arc-En-Ciel Colmar Contact Hotel   8,0   \n",
       "4  Best Western Plus Hotel Litteraire Gustave Fla...   8,5   \n",
       "\n",
       "                                         coordinates  \\\n",
       "0  2.27981597007699,49.8737107813327,2.3356917518...   \n",
       "1  2.31625185210765,48.8617907834269,2.3709885478...   \n",
       "2  3.01831070505302,50.6142418000715,3.0750619975...   \n",
       "3  7.33374282489442,48.0694885745119,7.3876310907...   \n",
       "4  1.0589216728517,49.4250988141913,1.11428453728...   \n",
       "\n",
       "                                    text_description  \n",
       "0  [Rénové en avril 2015, le Holiday Inn Express ...  \n",
       "1  [Le CMG - New Apartement Montmartre 4P 2BR - 2...  \n",
       "2  [Le Residhotel Lille Vauban est idéalement ins...  \n",
       "3  [L'Hotel Arc-En-Ciel Colmar Contact Hotel vous...  \n",
       "4  [Vous pouvez bénéficier d'une réduction Genius...  "
      ]
     },
     "execution_count": 67,
     "metadata": {},
     "output_type": "execute_result"
    }
   ],
   "source": [
    "df_booking = pd.read_json(\"src/booking_hotel.json\", encoding='utf-8')\n",
    "df_booking.head()"
   ]
  },
  {
   "cell_type": "markdown",
   "id": "6a13f127",
   "metadata": {},
   "source": [
    "Join columns from df_booking with df_weather by the id city"
   ]
  },
  {
   "cell_type": "code",
   "execution_count": 68,
   "id": "f168806b",
   "metadata": {},
   "outputs": [
    {
     "data": {
      "text/html": [
       "<div>\n",
       "<style scoped>\n",
       "    .dataframe tbody tr th:only-of-type {\n",
       "        vertical-align: middle;\n",
       "    }\n",
       "\n",
       "    .dataframe tbody tr th {\n",
       "        vertical-align: top;\n",
       "    }\n",
       "\n",
       "    .dataframe thead th {\n",
       "        text-align: right;\n",
       "    }\n",
       "</style>\n",
       "<table border=\"1\" class=\"dataframe\">\n",
       "  <thead>\n",
       "    <tr style=\"text-align: right;\">\n",
       "      <th></th>\n",
       "      <th>url</th>\n",
       "      <th>city_id</th>\n",
       "      <th>name_hotel</th>\n",
       "      <th>score</th>\n",
       "      <th>coordinates</th>\n",
       "      <th>text_description</th>\n",
       "      <th>city</th>\n",
       "      <th>latitude</th>\n",
       "      <th>longitude</th>\n",
       "      <th>temperature</th>\n",
       "      <th>clear_weather</th>\n",
       "    </tr>\n",
       "  </thead>\n",
       "  <tbody>\n",
       "    <tr>\n",
       "      <th>0</th>\n",
       "      <td>https://www.booking.com/hotel/fr/express-by-ho...</td>\n",
       "      <td>297534793</td>\n",
       "      <td>Holiday Inn Express Amiens, an IHG Hotel</td>\n",
       "      <td>7,9</td>\n",
       "      <td>2.27981597007699,49.8737107813327,2.3356917518...</td>\n",
       "      <td>[Rénové en avril 2015, le Holiday Inn Express ...</td>\n",
       "      <td>Amiens</td>\n",
       "      <td>49.894171</td>\n",
       "      <td>2.295695</td>\n",
       "      <td>18.958571</td>\n",
       "      <td>28.571429</td>\n",
       "    </tr>\n",
       "    <tr>\n",
       "      <th>1</th>\n",
       "      <td>https://www.booking.com/hotel/fr/le-cange.fr.html</td>\n",
       "      <td>297534793</td>\n",
       "      <td>LE CANGE</td>\n",
       "      <td>9,5</td>\n",
       "      <td>2.2784373835015,49.8784185834269,2.33431861649...</td>\n",
       "      <td>[Doté d'un jardin et d'une terrasse, l'établis...</td>\n",
       "      <td>Amiens</td>\n",
       "      <td>49.894171</td>\n",
       "      <td>2.295695</td>\n",
       "      <td>18.958571</td>\n",
       "      <td>28.571429</td>\n",
       "    </tr>\n",
       "    <tr>\n",
       "      <th>2</th>\n",
       "      <td>https://www.booking.com/hotel/fr/cocon-perche-...</td>\n",
       "      <td>297534793</td>\n",
       "      <td>Cocon perché, duplex au coeur de la ville</td>\n",
       "      <td>9,0</td>\n",
       "      <td>2.28054049369682,49.8747738834269,2.3364175063...</td>\n",
       "      <td>[Le Cocon perché, duplex au coeur de la ville ...</td>\n",
       "      <td>Amiens</td>\n",
       "      <td>49.894171</td>\n",
       "      <td>2.295695</td>\n",
       "      <td>18.958571</td>\n",
       "      <td>28.571429</td>\n",
       "    </tr>\n",
       "    <tr>\n",
       "      <th>3</th>\n",
       "      <td>https://www.booking.com/hotel/fr/grand-appart-...</td>\n",
       "      <td>297534793</td>\n",
       "      <td>GRAND APPART TERRASSE PARKING DESIGN</td>\n",
       "      <td>None</td>\n",
       "      <td>2.25172627866827,49.8665065834269,2.3075937213...</td>\n",
       "      <td>[GRAND APPART TERRASSE PARKING DESIGN in Amien...</td>\n",
       "      <td>Amiens</td>\n",
       "      <td>49.894171</td>\n",
       "      <td>2.295695</td>\n",
       "      <td>18.958571</td>\n",
       "      <td>28.571429</td>\n",
       "    </tr>\n",
       "    <tr>\n",
       "      <th>4</th>\n",
       "      <td>https://www.booking.com/hotel/fr/le-toit-des-f...</td>\n",
       "      <td>297534793</td>\n",
       "      <td>Le toit des Fédérés</td>\n",
       "      <td>8,0</td>\n",
       "      <td>2.25464950174135,49.8785597834269,2.3105308982...</td>\n",
       "      <td>[Vous pouvez bénéficier d'une réduction Genius...</td>\n",
       "      <td>Amiens</td>\n",
       "      <td>49.894171</td>\n",
       "      <td>2.295695</td>\n",
       "      <td>18.958571</td>\n",
       "      <td>28.571429</td>\n",
       "    </tr>\n",
       "  </tbody>\n",
       "</table>\n",
       "</div>"
      ],
      "text/plain": [
       "                                                 url    city_id  \\\n",
       "0  https://www.booking.com/hotel/fr/express-by-ho...  297534793   \n",
       "1  https://www.booking.com/hotel/fr/le-cange.fr.html  297534793   \n",
       "2  https://www.booking.com/hotel/fr/cocon-perche-...  297534793   \n",
       "3  https://www.booking.com/hotel/fr/grand-appart-...  297534793   \n",
       "4  https://www.booking.com/hotel/fr/le-toit-des-f...  297534793   \n",
       "\n",
       "                                  name_hotel score  \\\n",
       "0   Holiday Inn Express Amiens, an IHG Hotel   7,9   \n",
       "1                                   LE CANGE   9,5   \n",
       "2  Cocon perché, duplex au coeur de la ville   9,0   \n",
       "3       GRAND APPART TERRASSE PARKING DESIGN  None   \n",
       "4                        Le toit des Fédérés   8,0   \n",
       "\n",
       "                                         coordinates  \\\n",
       "0  2.27981597007699,49.8737107813327,2.3356917518...   \n",
       "1  2.2784373835015,49.8784185834269,2.33431861649...   \n",
       "2  2.28054049369682,49.8747738834269,2.3364175063...   \n",
       "3  2.25172627866827,49.8665065834269,2.3075937213...   \n",
       "4  2.25464950174135,49.8785597834269,2.3105308982...   \n",
       "\n",
       "                                    text_description    city   latitude  \\\n",
       "0  [Rénové en avril 2015, le Holiday Inn Express ...  Amiens  49.894171   \n",
       "1  [Doté d'un jardin et d'une terrasse, l'établis...  Amiens  49.894171   \n",
       "2  [Le Cocon perché, duplex au coeur de la ville ...  Amiens  49.894171   \n",
       "3  [GRAND APPART TERRASSE PARKING DESIGN in Amien...  Amiens  49.894171   \n",
       "4  [Vous pouvez bénéficier d'une réduction Genius...  Amiens  49.894171   \n",
       "\n",
       "   longitude  temperature  clear_weather  \n",
       "0   2.295695    18.958571      28.571429  \n",
       "1   2.295695    18.958571      28.571429  \n",
       "2   2.295695    18.958571      28.571429  \n",
       "3   2.295695    18.958571      28.571429  \n",
       "4   2.295695    18.958571      28.571429  "
      ]
     },
     "execution_count": 68,
     "metadata": {},
     "output_type": "execute_result"
    }
   ],
   "source": [
    "df_booking_weather = df_booking.merge(df_cities_weather, left_on='city_id', right_on='city_id', how='outer')\n",
    "df_booking_weather.head()"
   ]
  },
  {
   "cell_type": "code",
   "execution_count": 69,
   "id": "6be44b52",
   "metadata": {},
   "outputs": [
    {
     "data": {
      "text/html": [
       "<div>\n",
       "<style scoped>\n",
       "    .dataframe tbody tr th:only-of-type {\n",
       "        vertical-align: middle;\n",
       "    }\n",
       "\n",
       "    .dataframe tbody tr th {\n",
       "        vertical-align: top;\n",
       "    }\n",
       "\n",
       "    .dataframe thead th {\n",
       "        text-align: right;\n",
       "    }\n",
       "</style>\n",
       "<table border=\"1\" class=\"dataframe\">\n",
       "  <thead>\n",
       "    <tr style=\"text-align: right;\">\n",
       "      <th></th>\n",
       "      <th>url</th>\n",
       "      <th>city_id</th>\n",
       "      <th>name_hotel</th>\n",
       "      <th>score</th>\n",
       "      <th>coordinates</th>\n",
       "      <th>text_description</th>\n",
       "      <th>city</th>\n",
       "      <th>latitude</th>\n",
       "      <th>longitude</th>\n",
       "      <th>temperature</th>\n",
       "      <th>clear_weather</th>\n",
       "    </tr>\n",
       "  </thead>\n",
       "  <tbody>\n",
       "    <tr>\n",
       "      <th>count</th>\n",
       "      <td>875</td>\n",
       "      <td>8.750000e+02</td>\n",
       "      <td>875</td>\n",
       "      <td>826</td>\n",
       "      <td>875</td>\n",
       "      <td>875</td>\n",
       "      <td>875</td>\n",
       "      <td>875.000000</td>\n",
       "      <td>875.000000</td>\n",
       "      <td>875.000000</td>\n",
       "      <td>875.000000</td>\n",
       "    </tr>\n",
       "    <tr>\n",
       "      <th>unique</th>\n",
       "      <td>875</td>\n",
       "      <td>NaN</td>\n",
       "      <td>874</td>\n",
       "      <td>43</td>\n",
       "      <td>868</td>\n",
       "      <td>875</td>\n",
       "      <td>35</td>\n",
       "      <td>NaN</td>\n",
       "      <td>NaN</td>\n",
       "      <td>NaN</td>\n",
       "      <td>NaN</td>\n",
       "    </tr>\n",
       "    <tr>\n",
       "      <th>top</th>\n",
       "      <td>https://www.booking.com/hotel/fr/express-by-ho...</td>\n",
       "      <td>NaN</td>\n",
       "      <td>Le Valmer</td>\n",
       "      <td>8,5</td>\n",
       "      <td>1.33981155551139,44.0007621834269,1.3898692444...</td>\n",
       "      <td>[Rénové en avril 2015, le Holiday Inn Express ...</td>\n",
       "      <td>Amiens</td>\n",
       "      <td>NaN</td>\n",
       "      <td>NaN</td>\n",
       "      <td>NaN</td>\n",
       "      <td>NaN</td>\n",
       "    </tr>\n",
       "    <tr>\n",
       "      <th>freq</th>\n",
       "      <td>1</td>\n",
       "      <td>NaN</td>\n",
       "      <td>2</td>\n",
       "      <td>55</td>\n",
       "      <td>2</td>\n",
       "      <td>1</td>\n",
       "      <td>25</td>\n",
       "      <td>NaN</td>\n",
       "      <td>NaN</td>\n",
       "      <td>NaN</td>\n",
       "      <td>NaN</td>\n",
       "    </tr>\n",
       "    <tr>\n",
       "      <th>mean</th>\n",
       "      <td>NaN</td>\n",
       "      <td>2.823779e+08</td>\n",
       "      <td>NaN</td>\n",
       "      <td>NaN</td>\n",
       "      <td>NaN</td>\n",
       "      <td>NaN</td>\n",
       "      <td>NaN</td>\n",
       "      <td>45.840986</td>\n",
       "      <td>3.395928</td>\n",
       "      <td>21.444939</td>\n",
       "      <td>35.191837</td>\n",
       "    </tr>\n",
       "    <tr>\n",
       "      <th>std</th>\n",
       "      <td>NaN</td>\n",
       "      <td>5.137416e+07</td>\n",
       "      <td>NaN</td>\n",
       "      <td>NaN</td>\n",
       "      <td>NaN</td>\n",
       "      <td>NaN</td>\n",
       "      <td>NaN</td>\n",
       "      <td>2.554274</td>\n",
       "      <td>2.913222</td>\n",
       "      <td>2.313759</td>\n",
       "      <td>12.925111</td>\n",
       "    </tr>\n",
       "    <tr>\n",
       "      <th>min</th>\n",
       "      <td>NaN</td>\n",
       "      <td>7.603631e+07</td>\n",
       "      <td>NaN</td>\n",
       "      <td>NaN</td>\n",
       "      <td>NaN</td>\n",
       "      <td>NaN</td>\n",
       "      <td>NaN</td>\n",
       "      <td>42.525050</td>\n",
       "      <td>-2.026041</td>\n",
       "      <td>17.237143</td>\n",
       "      <td>5.000000</td>\n",
       "    </tr>\n",
       "    <tr>\n",
       "      <th>25%</th>\n",
       "      <td>NaN</td>\n",
       "      <td>2.975047e+08</td>\n",
       "      <td>NaN</td>\n",
       "      <td>NaN</td>\n",
       "      <td>NaN</td>\n",
       "      <td>NaN</td>\n",
       "      <td>NaN</td>\n",
       "      <td>43.494514</td>\n",
       "      <td>1.354999</td>\n",
       "      <td>19.277143</td>\n",
       "      <td>25.714286</td>\n",
       "    </tr>\n",
       "    <tr>\n",
       "      <th>50%</th>\n",
       "      <td>NaN</td>\n",
       "      <td>2.977491e+08</td>\n",
       "      <td>NaN</td>\n",
       "      <td>NaN</td>\n",
       "      <td>NaN</td>\n",
       "      <td>NaN</td>\n",
       "      <td>NaN</td>\n",
       "      <td>45.187560</td>\n",
       "      <td>4.360069</td>\n",
       "      <td>21.560000</td>\n",
       "      <td>38.857143</td>\n",
       "    </tr>\n",
       "    <tr>\n",
       "      <th>75%</th>\n",
       "      <td>NaN</td>\n",
       "      <td>2.980113e+08</td>\n",
       "      <td>NaN</td>\n",
       "      <td>NaN</td>\n",
       "      <td>NaN</td>\n",
       "      <td>NaN</td>\n",
       "      <td>NaN</td>\n",
       "      <td>48.584614</td>\n",
       "      <td>5.735782</td>\n",
       "      <td>23.591429</td>\n",
       "      <td>45.428571</td>\n",
       "    </tr>\n",
       "    <tr>\n",
       "      <th>max</th>\n",
       "      <td>NaN</td>\n",
       "      <td>2.985169e+08</td>\n",
       "      <td>NaN</td>\n",
       "      <td>NaN</td>\n",
       "      <td>NaN</td>\n",
       "      <td>NaN</td>\n",
       "      <td>NaN</td>\n",
       "      <td>50.636565</td>\n",
       "      <td>7.750713</td>\n",
       "      <td>25.767143</td>\n",
       "      <td>58.000000</td>\n",
       "    </tr>\n",
       "  </tbody>\n",
       "</table>\n",
       "</div>"
      ],
      "text/plain": [
       "                                                      url       city_id  \\\n",
       "count                                                 875  8.750000e+02   \n",
       "unique                                                875           NaN   \n",
       "top     https://www.booking.com/hotel/fr/express-by-ho...           NaN   \n",
       "freq                                                    1           NaN   \n",
       "mean                                                  NaN  2.823779e+08   \n",
       "std                                                   NaN  5.137416e+07   \n",
       "min                                                   NaN  7.603631e+07   \n",
       "25%                                                   NaN  2.975047e+08   \n",
       "50%                                                   NaN  2.977491e+08   \n",
       "75%                                                   NaN  2.980113e+08   \n",
       "max                                                   NaN  2.985169e+08   \n",
       "\n",
       "       name_hotel score                                        coordinates  \\\n",
       "count         875   826                                                875   \n",
       "unique        874    43                                                868   \n",
       "top     Le Valmer   8,5  1.33981155551139,44.0007621834269,1.3898692444...   \n",
       "freq            2    55                                                  2   \n",
       "mean          NaN   NaN                                                NaN   \n",
       "std           NaN   NaN                                                NaN   \n",
       "min           NaN   NaN                                                NaN   \n",
       "25%           NaN   NaN                                                NaN   \n",
       "50%           NaN   NaN                                                NaN   \n",
       "75%           NaN   NaN                                                NaN   \n",
       "max           NaN   NaN                                                NaN   \n",
       "\n",
       "                                         text_description    city    latitude  \\\n",
       "count                                                 875     875  875.000000   \n",
       "unique                                                875      35         NaN   \n",
       "top     [Rénové en avril 2015, le Holiday Inn Express ...  Amiens         NaN   \n",
       "freq                                                    1      25         NaN   \n",
       "mean                                                  NaN     NaN   45.840986   \n",
       "std                                                   NaN     NaN    2.554274   \n",
       "min                                                   NaN     NaN   42.525050   \n",
       "25%                                                   NaN     NaN   43.494514   \n",
       "50%                                                   NaN     NaN   45.187560   \n",
       "75%                                                   NaN     NaN   48.584614   \n",
       "max                                                   NaN     NaN   50.636565   \n",
       "\n",
       "         longitude  temperature  clear_weather  \n",
       "count   875.000000   875.000000     875.000000  \n",
       "unique         NaN          NaN            NaN  \n",
       "top            NaN          NaN            NaN  \n",
       "freq           NaN          NaN            NaN  \n",
       "mean      3.395928    21.444939      35.191837  \n",
       "std       2.913222     2.313759      12.925111  \n",
       "min      -2.026041    17.237143       5.000000  \n",
       "25%       1.354999    19.277143      25.714286  \n",
       "50%       4.360069    21.560000      38.857143  \n",
       "75%       5.735782    23.591429      45.428571  \n",
       "max       7.750713    25.767143      58.000000  "
      ]
     },
     "execution_count": 69,
     "metadata": {},
     "output_type": "execute_result"
    }
   ],
   "source": [
    "df_booking_weather.describe(include=\"all\")"
   ]
  },
  {
   "cell_type": "code",
   "execution_count": 70,
   "id": "aa06ac0d",
   "metadata": {},
   "outputs": [],
   "source": [
    "# transforms the score type to integer instead of characters\n",
    "df_booking_weather['score'] = df_booking_weather['score'].str.replace(\",\", \".\")\n",
    "df_booking_weather['score'] = df_booking_weather['score'].astype(float)\n",
    "# calculates latitude and longitude coordinates\n",
    "df_booking_weather['coordinates'] = df_booking_weather['coordinates'].apply(lambda x : x.split(\",\"))\n",
    "df_booking_weather['long_hotel'] = df_booking_weather['coordinates'].apply(lambda x : mean([float(x[0]),float(x[2])]))\n",
    "df_booking_weather['lat_hotel'] = df_booking_weather['coordinates'].apply(lambda x : mean([float(x[1]),float(x[3])]))\n",
    "# transforms text_description into a string instead of a list\n",
    "df_booking_weather['text_description'] = df_booking_weather['text_description'].apply(lambda x : \" \".join(x))\n",
    "# drop the old column\n",
    "df_booking_weather.drop(columns=['coordinates'], inplace = True)"
   ]
  },
  {
   "cell_type": "code",
   "execution_count": 71,
   "id": "ae76f366",
   "metadata": {},
   "outputs": [
    {
     "data": {
      "text/html": [
       "<div>\n",
       "<style scoped>\n",
       "    .dataframe tbody tr th:only-of-type {\n",
       "        vertical-align: middle;\n",
       "    }\n",
       "\n",
       "    .dataframe tbody tr th {\n",
       "        vertical-align: top;\n",
       "    }\n",
       "\n",
       "    .dataframe thead th {\n",
       "        text-align: right;\n",
       "    }\n",
       "</style>\n",
       "<table border=\"1\" class=\"dataframe\">\n",
       "  <thead>\n",
       "    <tr style=\"text-align: right;\">\n",
       "      <th></th>\n",
       "      <th>url</th>\n",
       "      <th>city_id</th>\n",
       "      <th>name_hotel</th>\n",
       "      <th>score</th>\n",
       "      <th>text_description</th>\n",
       "      <th>city</th>\n",
       "      <th>latitude</th>\n",
       "      <th>longitude</th>\n",
       "      <th>temperature</th>\n",
       "      <th>clear_weather</th>\n",
       "      <th>long_hotel</th>\n",
       "      <th>lat_hotel</th>\n",
       "    </tr>\n",
       "  </thead>\n",
       "  <tbody>\n",
       "    <tr>\n",
       "      <th>0</th>\n",
       "      <td>https://www.booking.com/hotel/fr/express-by-ho...</td>\n",
       "      <td>297534793</td>\n",
       "      <td>Holiday Inn Express Amiens, an IHG Hotel</td>\n",
       "      <td>7.9</td>\n",
       "      <td>Rénové en avril 2015, le Holiday Inn Express A...</td>\n",
       "      <td>Amiens</td>\n",
       "      <td>49.894171</td>\n",
       "      <td>2.295695</td>\n",
       "      <td>18.958571</td>\n",
       "      <td>28.571429</td>\n",
       "      <td>2.307754</td>\n",
       "      <td>49.891676</td>\n",
       "    </tr>\n",
       "    <tr>\n",
       "      <th>1</th>\n",
       "      <td>https://www.booking.com/hotel/fr/le-cange.fr.html</td>\n",
       "      <td>297534793</td>\n",
       "      <td>LE CANGE</td>\n",
       "      <td>9.5</td>\n",
       "      <td>Doté d'un jardin et d'une terrasse, l'établiss...</td>\n",
       "      <td>Amiens</td>\n",
       "      <td>49.894171</td>\n",
       "      <td>2.295695</td>\n",
       "      <td>18.958571</td>\n",
       "      <td>28.571429</td>\n",
       "      <td>2.306378</td>\n",
       "      <td>49.896384</td>\n",
       "    </tr>\n",
       "    <tr>\n",
       "      <th>2</th>\n",
       "      <td>https://www.booking.com/hotel/fr/cocon-perche-...</td>\n",
       "      <td>297534793</td>\n",
       "      <td>Cocon perché, duplex au coeur de la ville</td>\n",
       "      <td>9.0</td>\n",
       "      <td>Le Cocon perché, duplex au coeur de la ville p...</td>\n",
       "      <td>Amiens</td>\n",
       "      <td>49.894171</td>\n",
       "      <td>2.295695</td>\n",
       "      <td>18.958571</td>\n",
       "      <td>28.571429</td>\n",
       "      <td>2.308479</td>\n",
       "      <td>49.892739</td>\n",
       "    </tr>\n",
       "    <tr>\n",
       "      <th>3</th>\n",
       "      <td>https://www.booking.com/hotel/fr/grand-appart-...</td>\n",
       "      <td>297534793</td>\n",
       "      <td>GRAND APPART TERRASSE PARKING DESIGN</td>\n",
       "      <td>NaN</td>\n",
       "      <td>GRAND APPART TERRASSE PARKING DESIGN in Amiens...</td>\n",
       "      <td>Amiens</td>\n",
       "      <td>49.894171</td>\n",
       "      <td>2.295695</td>\n",
       "      <td>18.958571</td>\n",
       "      <td>28.571429</td>\n",
       "      <td>2.279660</td>\n",
       "      <td>49.884472</td>\n",
       "    </tr>\n",
       "    <tr>\n",
       "      <th>4</th>\n",
       "      <td>https://www.booking.com/hotel/fr/le-toit-des-f...</td>\n",
       "      <td>297534793</td>\n",
       "      <td>Le toit des Fédérés</td>\n",
       "      <td>8.0</td>\n",
       "      <td>Vous pouvez bénéficier d'une réduction Genius ...</td>\n",
       "      <td>Amiens</td>\n",
       "      <td>49.894171</td>\n",
       "      <td>2.295695</td>\n",
       "      <td>18.958571</td>\n",
       "      <td>28.571429</td>\n",
       "      <td>2.282590</td>\n",
       "      <td>49.896525</td>\n",
       "    </tr>\n",
       "  </tbody>\n",
       "</table>\n",
       "</div>"
      ],
      "text/plain": [
       "                                                 url    city_id  \\\n",
       "0  https://www.booking.com/hotel/fr/express-by-ho...  297534793   \n",
       "1  https://www.booking.com/hotel/fr/le-cange.fr.html  297534793   \n",
       "2  https://www.booking.com/hotel/fr/cocon-perche-...  297534793   \n",
       "3  https://www.booking.com/hotel/fr/grand-appart-...  297534793   \n",
       "4  https://www.booking.com/hotel/fr/le-toit-des-f...  297534793   \n",
       "\n",
       "                                  name_hotel  score  \\\n",
       "0   Holiday Inn Express Amiens, an IHG Hotel    7.9   \n",
       "1                                   LE CANGE    9.5   \n",
       "2  Cocon perché, duplex au coeur de la ville    9.0   \n",
       "3       GRAND APPART TERRASSE PARKING DESIGN    NaN   \n",
       "4                        Le toit des Fédérés    8.0   \n",
       "\n",
       "                                    text_description    city   latitude  \\\n",
       "0  Rénové en avril 2015, le Holiday Inn Express A...  Amiens  49.894171   \n",
       "1  Doté d'un jardin et d'une terrasse, l'établiss...  Amiens  49.894171   \n",
       "2  Le Cocon perché, duplex au coeur de la ville p...  Amiens  49.894171   \n",
       "3  GRAND APPART TERRASSE PARKING DESIGN in Amiens...  Amiens  49.894171   \n",
       "4  Vous pouvez bénéficier d'une réduction Genius ...  Amiens  49.894171   \n",
       "\n",
       "   longitude  temperature  clear_weather  long_hotel  lat_hotel  \n",
       "0   2.295695    18.958571      28.571429    2.307754  49.891676  \n",
       "1   2.295695    18.958571      28.571429    2.306378  49.896384  \n",
       "2   2.295695    18.958571      28.571429    2.308479  49.892739  \n",
       "3   2.295695    18.958571      28.571429    2.279660  49.884472  \n",
       "4   2.295695    18.958571      28.571429    2.282590  49.896525  "
      ]
     },
     "execution_count": 71,
     "metadata": {},
     "output_type": "execute_result"
    }
   ],
   "source": [
    "df_booking_weather.head()"
   ]
  },
  {
   "cell_type": "code",
   "execution_count": 72,
   "id": "c1d2b2e5",
   "metadata": {},
   "outputs": [],
   "source": [
    "df_booking.to_csv(\"src/booking_weather.csv\")"
   ]
  },
  {
   "cell_type": "markdown",
   "id": "ec0f3a7e",
   "metadata": {},
   "source": [
    "Top-5 destinations"
   ]
  },
  {
   "cell_type": "code",
   "execution_count": 73,
   "id": "a74d8553",
   "metadata": {},
   "outputs": [
    {
     "data": {
      "text/html": [
       "<div>\n",
       "<style scoped>\n",
       "    .dataframe tbody tr th:only-of-type {\n",
       "        vertical-align: middle;\n",
       "    }\n",
       "\n",
       "    .dataframe tbody tr th {\n",
       "        vertical-align: top;\n",
       "    }\n",
       "\n",
       "    .dataframe thead th {\n",
       "        text-align: right;\n",
       "    }\n",
       "</style>\n",
       "<table border=\"1\" class=\"dataframe\">\n",
       "  <thead>\n",
       "    <tr style=\"text-align: right;\">\n",
       "      <th></th>\n",
       "      <th>city_id</th>\n",
       "      <th>city</th>\n",
       "    </tr>\n",
       "  </thead>\n",
       "  <tbody>\n",
       "    <tr>\n",
       "      <th>16</th>\n",
       "      <td>297681191</td>\n",
       "      <td>Lyon</td>\n",
       "    </tr>\n",
       "    <tr>\n",
       "      <th>14</th>\n",
       "      <td>298516920</td>\n",
       "      <td>Annecy</td>\n",
       "    </tr>\n",
       "    <tr>\n",
       "      <th>26</th>\n",
       "      <td>298011281</td>\n",
       "      <td>Saintes Maries de la mer</td>\n",
       "    </tr>\n",
       "    <tr>\n",
       "      <th>22</th>\n",
       "      <td>297768703</td>\n",
       "      <td>Avignon</td>\n",
       "    </tr>\n",
       "    <tr>\n",
       "      <th>15</th>\n",
       "      <td>297639071</td>\n",
       "      <td>Grenoble</td>\n",
       "    </tr>\n",
       "  </tbody>\n",
       "</table>\n",
       "</div>"
      ],
      "text/plain": [
       "      city_id                      city\n",
       "16  297681191                      Lyon\n",
       "14  298516920                    Annecy\n",
       "26  298011281  Saintes Maries de la mer\n",
       "22  297768703                   Avignon\n",
       "15  297639071                  Grenoble"
      ]
     },
     "execution_count": 73,
     "metadata": {},
     "output_type": "execute_result"
    }
   ],
   "source": [
    "top_5_cities = df_cities_weather.sort_values(by = 'clear_weather', ascending = False).head(5)[[\"city_id\",\"city\"]]\n",
    "top_5_cities"
   ]
  },
  {
   "cell_type": "code",
   "execution_count": 74,
   "id": "476edffe",
   "metadata": {},
   "outputs": [
    {
     "data": {
      "application/vnd.plotly.v1+json": {
       "config": {
        "plotlyServerURL": "https://plot.ly"
       },
       "data": [
        {
         "customdata": [
          [
           "https://www.booking.com/hotel/fr/lyon-centre-appartement-meuble-lyon1.fr.html"
          ],
          [
           "https://www.booking.com/hotel/fr/ibis-lyon-gare-part-dieu.fr.html"
          ],
          [
           "https://www.booking.com/hotel/fr/b-amp-b-lyon-centre-monplaisir.fr.html"
          ],
          [
           "https://www.booking.com/hotel/fr/honore-suite-saint-antoine.fr.html"
          ],
          [
           "https://www.booking.com/hotel/fr/l-ancien-canut-cosy.fr.html"
          ],
          [
           "https://www.booking.com/hotel/fr/my-hamac-suites-coeur-de-lyon-2e-auguste-comte.fr.html"
          ],
          [
           "https://www.booking.com/hotel/fr/le-duplex-du-change-lyon.fr.html"
          ],
          [
           "https://www.booking.com/hotel/fr/le-pompadour-magnifique-t2-place-bellecour-au-calme.fr.html"
          ],
          [
           "https://www.booking.com/hotel/fr/lyon-superbe-appartement-eu.fr.html"
          ],
          [
           "https://www.booking.com/hotel/fr/premiere-classe-lyon-centre-gare-part-dieu.fr.html"
          ],
          [
           "https://www.booking.com/hotel/fr/appart-city-cap-affaires-lyon.fr.html"
          ],
          [
           "https://www.booking.com/hotel/fr/ibis-lyon-centre-perrache.fr.html"
          ],
          [
           "https://www.booking.com/hotel/fr/appart-montcharmont.fr.html"
          ],
          [
           "https://www.booking.com/hotel/fr/appart-39-fleurieu.fr.html"
          ],
          [
           "https://www.booking.com/hotel/fr/la-merciere-lyon.fr.html"
          ],
          [
           "https://www.booking.com/hotel/fr/hamac-suites-suite-garibaldi-2.fr.html"
          ],
          [
           "https://www.booking.com/hotel/fr/gailleton-appart-39-ambiance.fr.html"
          ],
          [
           "https://www.booking.com/hotel/fr/hotelduhelder.fr.html"
          ],
          [
           "https://www.booking.com/hotel/fr/charming-apartment-in-the-heart-of-lyon-lyon2.fr.html"
          ],
          [
           "https://www.booking.com/hotel/fr/meininger-lyon-centre-berthelot.fr.html"
          ]
         ],
         "hovertemplate": "<b>%{hovertext}</b><br><br>lat_hotel=%{lat}<br>long_hotel=%{lon}<br>url=%{customdata[0]}<br>score=%{marker.color}<extra></extra>",
         "hovertext": [
          "Lyon centre appartement meublé",
          "ibis Lyon Gare Part Dieu",
          "B&B HOTEL Lyon Centre Monplaisir",
          "HONORÊ SUITE SAINT ANTOINE",
          "L Ancien Canut Cosy",
          "Auguste Comte - Coeur de Lyon 2e - By Hamac Suites",
          "Le Duplex du Change",
          "LE POMPADOUR - Magnifique T2 Place Bellecour 4ème étage sans ascenseur - 4th floor no elevator",
          "lyon : superbe appartement (eu)",
          "Première Classe Lyon Centre Gare Part Dieu",
          "Appart'City Lyon Part Dieu Garibaldi",
          "ibis Lyon Centre Perrache",
          "Appart' Montcharmont",
          "Appart' Fleurieu",
          "Chambre d'hôtes La Merciere",
          "Hamac Suites - Suite Garibaldi 2",
          "Appart' Gailleton",
          "Hôtel du Helder",
          "Charming apartment in the heart of Lyon",
          "MEININGER Hotel Lyon Centre Berthelot"
         ],
         "lat": [
          45.7404673,
          45.7575195272653,
          45.74315867479605,
          45.7641751,
          45.769945899999996,
          45.754919,
          45.764291,
          45.7583981,
          45.7743124,
          45.7560345772396,
          45.7537691803782,
          45.7485493,
          45.7600312914806,
          45.7531964314672,
          45.7583599,
          45.750703,
          45.7532023,
          45.7521114804199,
          45.752043,
          45.746083
         ],
         "legendgroup": "",
         "lon": [
          4.8628793,
          4.8581913113594055,
          4.87000205211484,
          4.8321392,
          4.826116300000001,
          4.8313291,
          4.8284193,
          4.830220399999995,
          4.8452205,
          4.859098568558695,
          4.854814410209656,
          4.828299000000015,
          4.83277986999269,
          4.832104869311481,
          4.8450484,
          4.8531233,
          4.8322835,
          4.840485379099845,
          4.854121,
          4.837187
         ],
         "marker": {
          "color": [
           null,
           7.7,
           7.2,
           7.6,
           null,
           null,
           9,
           7.8,
           5,
           7.5,
           6.6,
           8.2,
           null,
           null,
           8.9,
           null,
           8,
           6,
           null,
           8.4
          ],
          "coloraxis": "coloraxis"
         },
         "mode": "markers",
         "name": "",
         "showlegend": false,
         "subplot": "mapbox",
         "type": "scattermapbox"
        }
       ],
       "layout": {
        "coloraxis": {
         "colorbar": {
          "title": {
           "text": "score"
          }
         },
         "colorscale": [
          [
           0,
           "#0d0887"
          ],
          [
           0.1111111111111111,
           "#46039f"
          ],
          [
           0.2222222222222222,
           "#7201a8"
          ],
          [
           0.3333333333333333,
           "#9c179e"
          ],
          [
           0.4444444444444444,
           "#bd3786"
          ],
          [
           0.5555555555555556,
           "#d8576b"
          ],
          [
           0.6666666666666666,
           "#ed7953"
          ],
          [
           0.7777777777777778,
           "#fb9f3a"
          ],
          [
           0.8888888888888888,
           "#fdca26"
          ],
          [
           1,
           "#f0f921"
          ]
         ]
        },
        "legend": {
         "tracegroupgap": 0
        },
        "mapbox": {
         "center": {
          "lat": 45.75556352315234,
          "lon": 4.842693138032332
         },
         "domain": {
          "x": [
           0,
           1
          ],
          "y": [
           0,
           1
          ]
         },
         "style": "open-street-map",
         "zoom": 8
        },
        "template": {
         "data": {
          "bar": [
           {
            "error_x": {
             "color": "#2a3f5f"
            },
            "error_y": {
             "color": "#2a3f5f"
            },
            "marker": {
             "line": {
              "color": "#E5ECF6",
              "width": 0.5
             },
             "pattern": {
              "fillmode": "overlay",
              "size": 10,
              "solidity": 0.2
             }
            },
            "type": "bar"
           }
          ],
          "barpolar": [
           {
            "marker": {
             "line": {
              "color": "#E5ECF6",
              "width": 0.5
             },
             "pattern": {
              "fillmode": "overlay",
              "size": 10,
              "solidity": 0.2
             }
            },
            "type": "barpolar"
           }
          ],
          "carpet": [
           {
            "aaxis": {
             "endlinecolor": "#2a3f5f",
             "gridcolor": "white",
             "linecolor": "white",
             "minorgridcolor": "white",
             "startlinecolor": "#2a3f5f"
            },
            "baxis": {
             "endlinecolor": "#2a3f5f",
             "gridcolor": "white",
             "linecolor": "white",
             "minorgridcolor": "white",
             "startlinecolor": "#2a3f5f"
            },
            "type": "carpet"
           }
          ],
          "choropleth": [
           {
            "colorbar": {
             "outlinewidth": 0,
             "ticks": ""
            },
            "type": "choropleth"
           }
          ],
          "contour": [
           {
            "colorbar": {
             "outlinewidth": 0,
             "ticks": ""
            },
            "colorscale": [
             [
              0,
              "#0d0887"
             ],
             [
              0.1111111111111111,
              "#46039f"
             ],
             [
              0.2222222222222222,
              "#7201a8"
             ],
             [
              0.3333333333333333,
              "#9c179e"
             ],
             [
              0.4444444444444444,
              "#bd3786"
             ],
             [
              0.5555555555555556,
              "#d8576b"
             ],
             [
              0.6666666666666666,
              "#ed7953"
             ],
             [
              0.7777777777777778,
              "#fb9f3a"
             ],
             [
              0.8888888888888888,
              "#fdca26"
             ],
             [
              1,
              "#f0f921"
             ]
            ],
            "type": "contour"
           }
          ],
          "contourcarpet": [
           {
            "colorbar": {
             "outlinewidth": 0,
             "ticks": ""
            },
            "type": "contourcarpet"
           }
          ],
          "heatmap": [
           {
            "colorbar": {
             "outlinewidth": 0,
             "ticks": ""
            },
            "colorscale": [
             [
              0,
              "#0d0887"
             ],
             [
              0.1111111111111111,
              "#46039f"
             ],
             [
              0.2222222222222222,
              "#7201a8"
             ],
             [
              0.3333333333333333,
              "#9c179e"
             ],
             [
              0.4444444444444444,
              "#bd3786"
             ],
             [
              0.5555555555555556,
              "#d8576b"
             ],
             [
              0.6666666666666666,
              "#ed7953"
             ],
             [
              0.7777777777777778,
              "#fb9f3a"
             ],
             [
              0.8888888888888888,
              "#fdca26"
             ],
             [
              1,
              "#f0f921"
             ]
            ],
            "type": "heatmap"
           }
          ],
          "heatmapgl": [
           {
            "colorbar": {
             "outlinewidth": 0,
             "ticks": ""
            },
            "colorscale": [
             [
              0,
              "#0d0887"
             ],
             [
              0.1111111111111111,
              "#46039f"
             ],
             [
              0.2222222222222222,
              "#7201a8"
             ],
             [
              0.3333333333333333,
              "#9c179e"
             ],
             [
              0.4444444444444444,
              "#bd3786"
             ],
             [
              0.5555555555555556,
              "#d8576b"
             ],
             [
              0.6666666666666666,
              "#ed7953"
             ],
             [
              0.7777777777777778,
              "#fb9f3a"
             ],
             [
              0.8888888888888888,
              "#fdca26"
             ],
             [
              1,
              "#f0f921"
             ]
            ],
            "type": "heatmapgl"
           }
          ],
          "histogram": [
           {
            "marker": {
             "pattern": {
              "fillmode": "overlay",
              "size": 10,
              "solidity": 0.2
             }
            },
            "type": "histogram"
           }
          ],
          "histogram2d": [
           {
            "colorbar": {
             "outlinewidth": 0,
             "ticks": ""
            },
            "colorscale": [
             [
              0,
              "#0d0887"
             ],
             [
              0.1111111111111111,
              "#46039f"
             ],
             [
              0.2222222222222222,
              "#7201a8"
             ],
             [
              0.3333333333333333,
              "#9c179e"
             ],
             [
              0.4444444444444444,
              "#bd3786"
             ],
             [
              0.5555555555555556,
              "#d8576b"
             ],
             [
              0.6666666666666666,
              "#ed7953"
             ],
             [
              0.7777777777777778,
              "#fb9f3a"
             ],
             [
              0.8888888888888888,
              "#fdca26"
             ],
             [
              1,
              "#f0f921"
             ]
            ],
            "type": "histogram2d"
           }
          ],
          "histogram2dcontour": [
           {
            "colorbar": {
             "outlinewidth": 0,
             "ticks": ""
            },
            "colorscale": [
             [
              0,
              "#0d0887"
             ],
             [
              0.1111111111111111,
              "#46039f"
             ],
             [
              0.2222222222222222,
              "#7201a8"
             ],
             [
              0.3333333333333333,
              "#9c179e"
             ],
             [
              0.4444444444444444,
              "#bd3786"
             ],
             [
              0.5555555555555556,
              "#d8576b"
             ],
             [
              0.6666666666666666,
              "#ed7953"
             ],
             [
              0.7777777777777778,
              "#fb9f3a"
             ],
             [
              0.8888888888888888,
              "#fdca26"
             ],
             [
              1,
              "#f0f921"
             ]
            ],
            "type": "histogram2dcontour"
           }
          ],
          "mesh3d": [
           {
            "colorbar": {
             "outlinewidth": 0,
             "ticks": ""
            },
            "type": "mesh3d"
           }
          ],
          "parcoords": [
           {
            "line": {
             "colorbar": {
              "outlinewidth": 0,
              "ticks": ""
             }
            },
            "type": "parcoords"
           }
          ],
          "pie": [
           {
            "automargin": true,
            "type": "pie"
           }
          ],
          "scatter": [
           {
            "fillpattern": {
             "fillmode": "overlay",
             "size": 10,
             "solidity": 0.2
            },
            "type": "scatter"
           }
          ],
          "scatter3d": [
           {
            "line": {
             "colorbar": {
              "outlinewidth": 0,
              "ticks": ""
             }
            },
            "marker": {
             "colorbar": {
              "outlinewidth": 0,
              "ticks": ""
             }
            },
            "type": "scatter3d"
           }
          ],
          "scattercarpet": [
           {
            "marker": {
             "colorbar": {
              "outlinewidth": 0,
              "ticks": ""
             }
            },
            "type": "scattercarpet"
           }
          ],
          "scattergeo": [
           {
            "marker": {
             "colorbar": {
              "outlinewidth": 0,
              "ticks": ""
             }
            },
            "type": "scattergeo"
           }
          ],
          "scattergl": [
           {
            "marker": {
             "colorbar": {
              "outlinewidth": 0,
              "ticks": ""
             }
            },
            "type": "scattergl"
           }
          ],
          "scattermapbox": [
           {
            "marker": {
             "colorbar": {
              "outlinewidth": 0,
              "ticks": ""
             }
            },
            "type": "scattermapbox"
           }
          ],
          "scatterpolar": [
           {
            "marker": {
             "colorbar": {
              "outlinewidth": 0,
              "ticks": ""
             }
            },
            "type": "scatterpolar"
           }
          ],
          "scatterpolargl": [
           {
            "marker": {
             "colorbar": {
              "outlinewidth": 0,
              "ticks": ""
             }
            },
            "type": "scatterpolargl"
           }
          ],
          "scatterternary": [
           {
            "marker": {
             "colorbar": {
              "outlinewidth": 0,
              "ticks": ""
             }
            },
            "type": "scatterternary"
           }
          ],
          "surface": [
           {
            "colorbar": {
             "outlinewidth": 0,
             "ticks": ""
            },
            "colorscale": [
             [
              0,
              "#0d0887"
             ],
             [
              0.1111111111111111,
              "#46039f"
             ],
             [
              0.2222222222222222,
              "#7201a8"
             ],
             [
              0.3333333333333333,
              "#9c179e"
             ],
             [
              0.4444444444444444,
              "#bd3786"
             ],
             [
              0.5555555555555556,
              "#d8576b"
             ],
             [
              0.6666666666666666,
              "#ed7953"
             ],
             [
              0.7777777777777778,
              "#fb9f3a"
             ],
             [
              0.8888888888888888,
              "#fdca26"
             ],
             [
              1,
              "#f0f921"
             ]
            ],
            "type": "surface"
           }
          ],
          "table": [
           {
            "cells": {
             "fill": {
              "color": "#EBF0F8"
             },
             "line": {
              "color": "white"
             }
            },
            "header": {
             "fill": {
              "color": "#C8D4E3"
             },
             "line": {
              "color": "white"
             }
            },
            "type": "table"
           }
          ]
         },
         "layout": {
          "annotationdefaults": {
           "arrowcolor": "#2a3f5f",
           "arrowhead": 0,
           "arrowwidth": 1
          },
          "autotypenumbers": "strict",
          "coloraxis": {
           "colorbar": {
            "outlinewidth": 0,
            "ticks": ""
           }
          },
          "colorscale": {
           "diverging": [
            [
             0,
             "#8e0152"
            ],
            [
             0.1,
             "#c51b7d"
            ],
            [
             0.2,
             "#de77ae"
            ],
            [
             0.3,
             "#f1b6da"
            ],
            [
             0.4,
             "#fde0ef"
            ],
            [
             0.5,
             "#f7f7f7"
            ],
            [
             0.6,
             "#e6f5d0"
            ],
            [
             0.7,
             "#b8e186"
            ],
            [
             0.8,
             "#7fbc41"
            ],
            [
             0.9,
             "#4d9221"
            ],
            [
             1,
             "#276419"
            ]
           ],
           "sequential": [
            [
             0,
             "#0d0887"
            ],
            [
             0.1111111111111111,
             "#46039f"
            ],
            [
             0.2222222222222222,
             "#7201a8"
            ],
            [
             0.3333333333333333,
             "#9c179e"
            ],
            [
             0.4444444444444444,
             "#bd3786"
            ],
            [
             0.5555555555555556,
             "#d8576b"
            ],
            [
             0.6666666666666666,
             "#ed7953"
            ],
            [
             0.7777777777777778,
             "#fb9f3a"
            ],
            [
             0.8888888888888888,
             "#fdca26"
            ],
            [
             1,
             "#f0f921"
            ]
           ],
           "sequentialminus": [
            [
             0,
             "#0d0887"
            ],
            [
             0.1111111111111111,
             "#46039f"
            ],
            [
             0.2222222222222222,
             "#7201a8"
            ],
            [
             0.3333333333333333,
             "#9c179e"
            ],
            [
             0.4444444444444444,
             "#bd3786"
            ],
            [
             0.5555555555555556,
             "#d8576b"
            ],
            [
             0.6666666666666666,
             "#ed7953"
            ],
            [
             0.7777777777777778,
             "#fb9f3a"
            ],
            [
             0.8888888888888888,
             "#fdca26"
            ],
            [
             1,
             "#f0f921"
            ]
           ]
          },
          "colorway": [
           "#636efa",
           "#EF553B",
           "#00cc96",
           "#ab63fa",
           "#FFA15A",
           "#19d3f3",
           "#FF6692",
           "#B6E880",
           "#FF97FF",
           "#FECB52"
          ],
          "font": {
           "color": "#2a3f5f"
          },
          "geo": {
           "bgcolor": "white",
           "lakecolor": "white",
           "landcolor": "#E5ECF6",
           "showlakes": true,
           "showland": true,
           "subunitcolor": "white"
          },
          "hoverlabel": {
           "align": "left"
          },
          "hovermode": "closest",
          "mapbox": {
           "style": "light"
          },
          "paper_bgcolor": "white",
          "plot_bgcolor": "#E5ECF6",
          "polar": {
           "angularaxis": {
            "gridcolor": "white",
            "linecolor": "white",
            "ticks": ""
           },
           "bgcolor": "#E5ECF6",
           "radialaxis": {
            "gridcolor": "white",
            "linecolor": "white",
            "ticks": ""
           }
          },
          "scene": {
           "xaxis": {
            "backgroundcolor": "#E5ECF6",
            "gridcolor": "white",
            "gridwidth": 2,
            "linecolor": "white",
            "showbackground": true,
            "ticks": "",
            "zerolinecolor": "white"
           },
           "yaxis": {
            "backgroundcolor": "#E5ECF6",
            "gridcolor": "white",
            "gridwidth": 2,
            "linecolor": "white",
            "showbackground": true,
            "ticks": "",
            "zerolinecolor": "white"
           },
           "zaxis": {
            "backgroundcolor": "#E5ECF6",
            "gridcolor": "white",
            "gridwidth": 2,
            "linecolor": "white",
            "showbackground": true,
            "ticks": "",
            "zerolinecolor": "white"
           }
          },
          "shapedefaults": {
           "line": {
            "color": "#2a3f5f"
           }
          },
          "ternary": {
           "aaxis": {
            "gridcolor": "white",
            "linecolor": "white",
            "ticks": ""
           },
           "baxis": {
            "gridcolor": "white",
            "linecolor": "white",
            "ticks": ""
           },
           "bgcolor": "#E5ECF6",
           "caxis": {
            "gridcolor": "white",
            "linecolor": "white",
            "ticks": ""
           }
          },
          "title": {
           "x": 0.05
          },
          "xaxis": {
           "automargin": true,
           "gridcolor": "white",
           "linecolor": "white",
           "ticks": "",
           "title": {
            "standoff": 15
           },
           "zerolinecolor": "white",
           "zerolinewidth": 2
          },
          "yaxis": {
           "automargin": true,
           "gridcolor": "white",
           "linecolor": "white",
           "ticks": "",
           "title": {
            "standoff": 15
           },
           "zerolinecolor": "white",
           "zerolinewidth": 2
          }
         }
        },
        "title": {
         "text": "Lyon"
        },
        "width": 800
       }
      }
     },
     "metadata": {},
     "output_type": "display_data"
    },
    {
     "data": {
      "application/vnd.plotly.v1+json": {
       "config": {
        "plotlyServerURL": "https://plot.ly"
       },
       "data": [
        {
         "customdata": [
          [
           "https://www.booking.com/hotel/fr/le-bel-abri-annecy-le-vieux.fr.html"
          ],
          [
           "https://www.booking.com/hotel/fr/hotelalexandra.fr.html"
          ],
          [
           "https://www.booking.com/hotel/fr/le-royal.fr.html"
          ],
          [
           "https://www.booking.com/hotel/fr/blue-lagoon-modern-room.fr.html"
          ],
          [
           "https://www.booking.com/hotel/fr/spacious-apartment-rated-4-stars-in-the-heart-of-the-old-town.fr.html"
          ],
          [
           "https://www.booking.com/hotel/fr/centre-jean-xxiii.fr.html"
          ],
          [
           "https://www.booking.com/hotel/fr/au-faisan-dora-c.fr.html"
          ],
          [
           "https://www.booking.com/hotel/fr/hoteldunordannecy.fr.html"
          ],
          [
           "https://www.booking.com/hotel/fr/le-pelican-annecy1.fr.html"
          ],
          [
           "https://www.booking.com/hotel/fr/ica-ne.fr.html"
          ],
          [
           "https://www.booking.com/hotel/fr/imperial-palace.fr.html"
          ],
          [
           "https://www.booking.com/hotel/fr/appart-city-annecy-seynod.fr.html"
          ],
          [
           "https://www.booking.com/hotel/fr/marina-bay-hotels.fr.html"
          ],
          [
           "https://www.booking.com/hotel/fr/adagio-city-aparthotel-annecy-centre.fr.html"
          ],
          [
           "https://www.booking.com/hotel/fr/rivage-amp-spa-annecy.fr.html"
          ],
          [
           "https://www.booking.com/hotel/fr/bestwesterncarlton.fr.html"
          ],
          [
           "https://www.booking.com/hotel/fr/best-ha-tel-annecy.fr.html"
          ],
          [
           "https://www.booking.com/hotel/fr/du-palais-de-l-isle-annecy.fr.html"
          ],
          [
           "https://www.booking.com/hotel/fr/best-western-international.fr.html"
          ],
          [
           "https://www.booking.com/hotel/fr/du-chateau-annecy.fr.html"
          ]
         ],
         "hovertemplate": "<b>%{hovertext}</b><br><br>lat_hotel=%{lat}<br>long_hotel=%{lon}<br>url=%{customdata[0]}<br>score=%{marker.color}<extra></extra>",
         "hovertext": [
          "Le Bel Abri",
          "Atipik Hôtel Alexandra",
          "Privilodges Le Royal - Apparthotel",
          "Les Quais d'Annecy",
          "Appartement spacieux Classé 4 étoiles au coeur de la vieille ville",
          "Centre Jean XXIII",
          "Hôtel Catalpa",
          "Hôtel du Nord",
          "Le Pélican",
          "Icône Hôtel - Annecy",
          "Impérial Palace",
          "Zenitude Hôtel-Résidences Les Hauts d'Annecy",
          "Hôtel Les Muses",
          "Aparthotel Adagio Annecy Centre",
          "Rivage Hôtel & Spa Annecy",
          "Best Western Plus Hotel Carlton Annecy",
          "Best Hotel Annecy",
          "Hôtel du Palais de l'Isle",
          "Best Western Hotel International",
          "Hôtel du Château"
         ],
         "lat": [
          45.9054286568824,
          45.9012272112874,
          45.900101674860196,
          45.9011213911173,
          45.8986338,
          45.918322700000004,
          45.9055144934538,
          45.902059682921,
          45.897014999999996,
          45.897149288828004,
          45.9037469862378,
          45.890749,
          45.9061192031712,
          45.9032019779415,
          45.905699,
          45.900348062894395,
          45.9007493743973,
          45.898195863811395,
          45.899989679937704,
          45.8978934666232
         ],
         "legendgroup": "",
         "lon": [
          6.15925983313525,
          6.125073730945585,
          6.12442463636398,
          6.11908832516588,
          6.1249991999999995,
          6.15250679999997,
          6.144128143787386,
          6.12464725971222,
          6.131543000000001,
          6.122658848653375,
          6.14469408988953,
          6.107752999999995,
          6.15546584129333,
          6.122673153877255,
          6.151953,
          6.12239420413971,
          6.10030084848404,
          6.127482354640961,
          6.115758419036865,
          6.1252051591873204
         ],
         "marker": {
          "color": [
           8.5,
           8.3,
           8.1,
           8.4,
           8.8,
           7.6,
           8.3,
           8.3,
           8.6,
           7.7,
           8.5,
           7.2,
           7.7,
           8.3,
           8.9,
           8.3,
           7.8,
           8.3,
           8.1,
           8.5
          ],
          "coloraxis": "coloraxis"
         },
         "mode": "markers",
         "name": "",
         "showlegend": false,
         "subplot": "mapbox",
         "type": "scattermapbox"
        }
       ],
       "layout": {
        "coloraxis": {
         "colorbar": {
          "title": {
           "text": "score"
          }
         },
         "colorscale": [
          [
           0,
           "#0d0887"
          ],
          [
           0.1111111111111111,
           "#46039f"
          ],
          [
           0.2222222222222222,
           "#7201a8"
          ],
          [
           0.3333333333333333,
           "#9c179e"
          ],
          [
           0.4444444444444444,
           "#bd3786"
          ],
          [
           0.5555555555555556,
           "#d8576b"
          ],
          [
           0.6666666666666666,
           "#ed7953"
          ],
          [
           0.7777777777777778,
           "#fb9f3a"
          ],
          [
           0.8888888888888888,
           "#fdca26"
          ],
          [
           1,
           "#f0f921"
          ]
         ]
        },
        "legend": {
         "tracegroupgap": 0
        },
        "mapbox": {
         "center": {
          "lat": 45.90166332571823,
          "lon": 6.130100492415632
         },
         "domain": {
          "x": [
           0,
           1
          ],
          "y": [
           0,
           1
          ]
         },
         "style": "open-street-map",
         "zoom": 8
        },
        "template": {
         "data": {
          "bar": [
           {
            "error_x": {
             "color": "#2a3f5f"
            },
            "error_y": {
             "color": "#2a3f5f"
            },
            "marker": {
             "line": {
              "color": "#E5ECF6",
              "width": 0.5
             },
             "pattern": {
              "fillmode": "overlay",
              "size": 10,
              "solidity": 0.2
             }
            },
            "type": "bar"
           }
          ],
          "barpolar": [
           {
            "marker": {
             "line": {
              "color": "#E5ECF6",
              "width": 0.5
             },
             "pattern": {
              "fillmode": "overlay",
              "size": 10,
              "solidity": 0.2
             }
            },
            "type": "barpolar"
           }
          ],
          "carpet": [
           {
            "aaxis": {
             "endlinecolor": "#2a3f5f",
             "gridcolor": "white",
             "linecolor": "white",
             "minorgridcolor": "white",
             "startlinecolor": "#2a3f5f"
            },
            "baxis": {
             "endlinecolor": "#2a3f5f",
             "gridcolor": "white",
             "linecolor": "white",
             "minorgridcolor": "white",
             "startlinecolor": "#2a3f5f"
            },
            "type": "carpet"
           }
          ],
          "choropleth": [
           {
            "colorbar": {
             "outlinewidth": 0,
             "ticks": ""
            },
            "type": "choropleth"
           }
          ],
          "contour": [
           {
            "colorbar": {
             "outlinewidth": 0,
             "ticks": ""
            },
            "colorscale": [
             [
              0,
              "#0d0887"
             ],
             [
              0.1111111111111111,
              "#46039f"
             ],
             [
              0.2222222222222222,
              "#7201a8"
             ],
             [
              0.3333333333333333,
              "#9c179e"
             ],
             [
              0.4444444444444444,
              "#bd3786"
             ],
             [
              0.5555555555555556,
              "#d8576b"
             ],
             [
              0.6666666666666666,
              "#ed7953"
             ],
             [
              0.7777777777777778,
              "#fb9f3a"
             ],
             [
              0.8888888888888888,
              "#fdca26"
             ],
             [
              1,
              "#f0f921"
             ]
            ],
            "type": "contour"
           }
          ],
          "contourcarpet": [
           {
            "colorbar": {
             "outlinewidth": 0,
             "ticks": ""
            },
            "type": "contourcarpet"
           }
          ],
          "heatmap": [
           {
            "colorbar": {
             "outlinewidth": 0,
             "ticks": ""
            },
            "colorscale": [
             [
              0,
              "#0d0887"
             ],
             [
              0.1111111111111111,
              "#46039f"
             ],
             [
              0.2222222222222222,
              "#7201a8"
             ],
             [
              0.3333333333333333,
              "#9c179e"
             ],
             [
              0.4444444444444444,
              "#bd3786"
             ],
             [
              0.5555555555555556,
              "#d8576b"
             ],
             [
              0.6666666666666666,
              "#ed7953"
             ],
             [
              0.7777777777777778,
              "#fb9f3a"
             ],
             [
              0.8888888888888888,
              "#fdca26"
             ],
             [
              1,
              "#f0f921"
             ]
            ],
            "type": "heatmap"
           }
          ],
          "heatmapgl": [
           {
            "colorbar": {
             "outlinewidth": 0,
             "ticks": ""
            },
            "colorscale": [
             [
              0,
              "#0d0887"
             ],
             [
              0.1111111111111111,
              "#46039f"
             ],
             [
              0.2222222222222222,
              "#7201a8"
             ],
             [
              0.3333333333333333,
              "#9c179e"
             ],
             [
              0.4444444444444444,
              "#bd3786"
             ],
             [
              0.5555555555555556,
              "#d8576b"
             ],
             [
              0.6666666666666666,
              "#ed7953"
             ],
             [
              0.7777777777777778,
              "#fb9f3a"
             ],
             [
              0.8888888888888888,
              "#fdca26"
             ],
             [
              1,
              "#f0f921"
             ]
            ],
            "type": "heatmapgl"
           }
          ],
          "histogram": [
           {
            "marker": {
             "pattern": {
              "fillmode": "overlay",
              "size": 10,
              "solidity": 0.2
             }
            },
            "type": "histogram"
           }
          ],
          "histogram2d": [
           {
            "colorbar": {
             "outlinewidth": 0,
             "ticks": ""
            },
            "colorscale": [
             [
              0,
              "#0d0887"
             ],
             [
              0.1111111111111111,
              "#46039f"
             ],
             [
              0.2222222222222222,
              "#7201a8"
             ],
             [
              0.3333333333333333,
              "#9c179e"
             ],
             [
              0.4444444444444444,
              "#bd3786"
             ],
             [
              0.5555555555555556,
              "#d8576b"
             ],
             [
              0.6666666666666666,
              "#ed7953"
             ],
             [
              0.7777777777777778,
              "#fb9f3a"
             ],
             [
              0.8888888888888888,
              "#fdca26"
             ],
             [
              1,
              "#f0f921"
             ]
            ],
            "type": "histogram2d"
           }
          ],
          "histogram2dcontour": [
           {
            "colorbar": {
             "outlinewidth": 0,
             "ticks": ""
            },
            "colorscale": [
             [
              0,
              "#0d0887"
             ],
             [
              0.1111111111111111,
              "#46039f"
             ],
             [
              0.2222222222222222,
              "#7201a8"
             ],
             [
              0.3333333333333333,
              "#9c179e"
             ],
             [
              0.4444444444444444,
              "#bd3786"
             ],
             [
              0.5555555555555556,
              "#d8576b"
             ],
             [
              0.6666666666666666,
              "#ed7953"
             ],
             [
              0.7777777777777778,
              "#fb9f3a"
             ],
             [
              0.8888888888888888,
              "#fdca26"
             ],
             [
              1,
              "#f0f921"
             ]
            ],
            "type": "histogram2dcontour"
           }
          ],
          "mesh3d": [
           {
            "colorbar": {
             "outlinewidth": 0,
             "ticks": ""
            },
            "type": "mesh3d"
           }
          ],
          "parcoords": [
           {
            "line": {
             "colorbar": {
              "outlinewidth": 0,
              "ticks": ""
             }
            },
            "type": "parcoords"
           }
          ],
          "pie": [
           {
            "automargin": true,
            "type": "pie"
           }
          ],
          "scatter": [
           {
            "fillpattern": {
             "fillmode": "overlay",
             "size": 10,
             "solidity": 0.2
            },
            "type": "scatter"
           }
          ],
          "scatter3d": [
           {
            "line": {
             "colorbar": {
              "outlinewidth": 0,
              "ticks": ""
             }
            },
            "marker": {
             "colorbar": {
              "outlinewidth": 0,
              "ticks": ""
             }
            },
            "type": "scatter3d"
           }
          ],
          "scattercarpet": [
           {
            "marker": {
             "colorbar": {
              "outlinewidth": 0,
              "ticks": ""
             }
            },
            "type": "scattercarpet"
           }
          ],
          "scattergeo": [
           {
            "marker": {
             "colorbar": {
              "outlinewidth": 0,
              "ticks": ""
             }
            },
            "type": "scattergeo"
           }
          ],
          "scattergl": [
           {
            "marker": {
             "colorbar": {
              "outlinewidth": 0,
              "ticks": ""
             }
            },
            "type": "scattergl"
           }
          ],
          "scattermapbox": [
           {
            "marker": {
             "colorbar": {
              "outlinewidth": 0,
              "ticks": ""
             }
            },
            "type": "scattermapbox"
           }
          ],
          "scatterpolar": [
           {
            "marker": {
             "colorbar": {
              "outlinewidth": 0,
              "ticks": ""
             }
            },
            "type": "scatterpolar"
           }
          ],
          "scatterpolargl": [
           {
            "marker": {
             "colorbar": {
              "outlinewidth": 0,
              "ticks": ""
             }
            },
            "type": "scatterpolargl"
           }
          ],
          "scatterternary": [
           {
            "marker": {
             "colorbar": {
              "outlinewidth": 0,
              "ticks": ""
             }
            },
            "type": "scatterternary"
           }
          ],
          "surface": [
           {
            "colorbar": {
             "outlinewidth": 0,
             "ticks": ""
            },
            "colorscale": [
             [
              0,
              "#0d0887"
             ],
             [
              0.1111111111111111,
              "#46039f"
             ],
             [
              0.2222222222222222,
              "#7201a8"
             ],
             [
              0.3333333333333333,
              "#9c179e"
             ],
             [
              0.4444444444444444,
              "#bd3786"
             ],
             [
              0.5555555555555556,
              "#d8576b"
             ],
             [
              0.6666666666666666,
              "#ed7953"
             ],
             [
              0.7777777777777778,
              "#fb9f3a"
             ],
             [
              0.8888888888888888,
              "#fdca26"
             ],
             [
              1,
              "#f0f921"
             ]
            ],
            "type": "surface"
           }
          ],
          "table": [
           {
            "cells": {
             "fill": {
              "color": "#EBF0F8"
             },
             "line": {
              "color": "white"
             }
            },
            "header": {
             "fill": {
              "color": "#C8D4E3"
             },
             "line": {
              "color": "white"
             }
            },
            "type": "table"
           }
          ]
         },
         "layout": {
          "annotationdefaults": {
           "arrowcolor": "#2a3f5f",
           "arrowhead": 0,
           "arrowwidth": 1
          },
          "autotypenumbers": "strict",
          "coloraxis": {
           "colorbar": {
            "outlinewidth": 0,
            "ticks": ""
           }
          },
          "colorscale": {
           "diverging": [
            [
             0,
             "#8e0152"
            ],
            [
             0.1,
             "#c51b7d"
            ],
            [
             0.2,
             "#de77ae"
            ],
            [
             0.3,
             "#f1b6da"
            ],
            [
             0.4,
             "#fde0ef"
            ],
            [
             0.5,
             "#f7f7f7"
            ],
            [
             0.6,
             "#e6f5d0"
            ],
            [
             0.7,
             "#b8e186"
            ],
            [
             0.8,
             "#7fbc41"
            ],
            [
             0.9,
             "#4d9221"
            ],
            [
             1,
             "#276419"
            ]
           ],
           "sequential": [
            [
             0,
             "#0d0887"
            ],
            [
             0.1111111111111111,
             "#46039f"
            ],
            [
             0.2222222222222222,
             "#7201a8"
            ],
            [
             0.3333333333333333,
             "#9c179e"
            ],
            [
             0.4444444444444444,
             "#bd3786"
            ],
            [
             0.5555555555555556,
             "#d8576b"
            ],
            [
             0.6666666666666666,
             "#ed7953"
            ],
            [
             0.7777777777777778,
             "#fb9f3a"
            ],
            [
             0.8888888888888888,
             "#fdca26"
            ],
            [
             1,
             "#f0f921"
            ]
           ],
           "sequentialminus": [
            [
             0,
             "#0d0887"
            ],
            [
             0.1111111111111111,
             "#46039f"
            ],
            [
             0.2222222222222222,
             "#7201a8"
            ],
            [
             0.3333333333333333,
             "#9c179e"
            ],
            [
             0.4444444444444444,
             "#bd3786"
            ],
            [
             0.5555555555555556,
             "#d8576b"
            ],
            [
             0.6666666666666666,
             "#ed7953"
            ],
            [
             0.7777777777777778,
             "#fb9f3a"
            ],
            [
             0.8888888888888888,
             "#fdca26"
            ],
            [
             1,
             "#f0f921"
            ]
           ]
          },
          "colorway": [
           "#636efa",
           "#EF553B",
           "#00cc96",
           "#ab63fa",
           "#FFA15A",
           "#19d3f3",
           "#FF6692",
           "#B6E880",
           "#FF97FF",
           "#FECB52"
          ],
          "font": {
           "color": "#2a3f5f"
          },
          "geo": {
           "bgcolor": "white",
           "lakecolor": "white",
           "landcolor": "#E5ECF6",
           "showlakes": true,
           "showland": true,
           "subunitcolor": "white"
          },
          "hoverlabel": {
           "align": "left"
          },
          "hovermode": "closest",
          "mapbox": {
           "style": "light"
          },
          "paper_bgcolor": "white",
          "plot_bgcolor": "#E5ECF6",
          "polar": {
           "angularaxis": {
            "gridcolor": "white",
            "linecolor": "white",
            "ticks": ""
           },
           "bgcolor": "#E5ECF6",
           "radialaxis": {
            "gridcolor": "white",
            "linecolor": "white",
            "ticks": ""
           }
          },
          "scene": {
           "xaxis": {
            "backgroundcolor": "#E5ECF6",
            "gridcolor": "white",
            "gridwidth": 2,
            "linecolor": "white",
            "showbackground": true,
            "ticks": "",
            "zerolinecolor": "white"
           },
           "yaxis": {
            "backgroundcolor": "#E5ECF6",
            "gridcolor": "white",
            "gridwidth": 2,
            "linecolor": "white",
            "showbackground": true,
            "ticks": "",
            "zerolinecolor": "white"
           },
           "zaxis": {
            "backgroundcolor": "#E5ECF6",
            "gridcolor": "white",
            "gridwidth": 2,
            "linecolor": "white",
            "showbackground": true,
            "ticks": "",
            "zerolinecolor": "white"
           }
          },
          "shapedefaults": {
           "line": {
            "color": "#2a3f5f"
           }
          },
          "ternary": {
           "aaxis": {
            "gridcolor": "white",
            "linecolor": "white",
            "ticks": ""
           },
           "baxis": {
            "gridcolor": "white",
            "linecolor": "white",
            "ticks": ""
           },
           "bgcolor": "#E5ECF6",
           "caxis": {
            "gridcolor": "white",
            "linecolor": "white",
            "ticks": ""
           }
          },
          "title": {
           "x": 0.05
          },
          "xaxis": {
           "automargin": true,
           "gridcolor": "white",
           "linecolor": "white",
           "ticks": "",
           "title": {
            "standoff": 15
           },
           "zerolinecolor": "white",
           "zerolinewidth": 2
          },
          "yaxis": {
           "automargin": true,
           "gridcolor": "white",
           "linecolor": "white",
           "ticks": "",
           "title": {
            "standoff": 15
           },
           "zerolinecolor": "white",
           "zerolinewidth": 2
          }
         }
        },
        "title": {
         "text": "Annecy"
        },
        "width": 800
       }
      }
     },
     "metadata": {},
     "output_type": "display_data"
    },
    {
     "data": {
      "application/vnd.plotly.v1+json": {
       "config": {
        "plotlyServerURL": "https://plot.ly"
       },
       "data": [
        {
         "customdata": [
          [
           "https://www.booking.com/hotel/fr/le-neptune-en-camargue.fr.html"
          ],
          [
           "https://www.booking.com/hotel/fr/auberge-de-la-fadaise.fr.html"
          ],
          [
           "https://www.booking.com/hotel/fr/ha-tel-les-arcades.fr.html"
          ],
          [
           "https://www.booking.com/hotel/fr/bastide-blanche-saintes-maries-de-la-mer.fr.html"
          ],
          [
           "https://www.booking.com/hotel/fr/les-vagues-saintes-maries-de-la-mer.fr.html"
          ],
          [
           "https://www.booking.com/hotel/fr/le-petit-mas-des-barres.fr.html"
          ],
          [
           "https://www.booking.com/hotel/fr/mas-des-lys-les-saintes-maries-de-la-mer.fr.html"
          ],
          [
           "https://www.booking.com/hotel/fr/lodge-sainte-helene.fr.html"
          ],
          [
           "https://www.booking.com/hotel/fr/mangio-fango.fr.html"
          ],
          [
           "https://www.booking.com/hotel/fr/gites-equestres-les-cabanes-de-cambon-saintes-maries-de-la-mer.fr.html"
          ],
          [
           "https://www.booking.com/hotel/fr/ra-c-sidence-palma.fr.html"
          ],
          [
           "https://www.booking.com/hotel/fr/le-mas-de-cocagne-les-saintes-maries-de-la-mer.fr.html"
          ],
          [
           "https://www.booking.com/hotel/fr/thalacap-camargue.fr.html"
          ],
          [
           "https://www.booking.com/hotel/fr/lou-marques.fr.html"
          ],
          [
           "https://www.booking.com/hotel/fr/ha-tel-le-mirage.fr.html"
          ],
          [
           "https://www.booking.com/hotel/fr/mas-des-salicornes.fr.html"
          ],
          [
           "https://www.booking.com/hotel/fr/clamador.fr.html"
          ],
          [
           "https://www.booking.com/hotel/fr/le-dauphin-bleu.fr.html"
          ],
          [
           "https://www.booking.com/hotel/fr/abrivado.fr.html"
          ],
          [
           "https://www.booking.com/hotel/fr/camille.fr.html"
          ]
         ],
         "hovertemplate": "<b>%{hovertext}</b><br><br>lat_hotel=%{lat}<br>long_hotel=%{lon}<br>url=%{customdata[0]}<br>score=%{marker.color}<extra></extra>",
         "hovertext": [
          "Hôtel Le Neptune en Camargue",
          "Auberge de la Fadaise",
          "Hôtel Les Arcades",
          "Vila De La Mar & Spa",
          "Les Vagues",
          "Hotel Mas Des Barres",
          "Hotel Mas des Lys",
          "Lodge Sainte Helene",
          "Mangio Fango Hotel et Spa",
          "Gîtes Equestres Lou Caloun - Les Saintes Maries de la Mer",
          "Résidence La Palma",
          "Le Mas de Cocagne",
          "Thalacap Camargue",
          "Hotel Lou Marquès",
          "Hôtel Le Mirage",
          "Mas Des Salicornes",
          "Clamador",
          "Le Dauphin Bleu",
          "Abrivado",
          "Hotel Camille"
         ],
         "lat": [
          43.452127000000004,
          43.4864701791231,
          43.452627798089495,
          43.4533453118068,
          43.450351999999995,
          43.5192831997138,
          43.474188435235405,
          43.4657555562672,
          43.459787950427895,
          43.518430956329496,
          43.451056442520596,
          43.4583160753576,
          43.453491344763705,
          43.4551249427373,
          43.4531019227618,
          43.4568714223921,
          43.4682125774839,
          43.4523308598002,
          43.4503369544425,
          43.4503914761662
         ],
         "legendgroup": "",
         "lon": [
          4.425347,
          4.404155015945435,
          4.430766552686695,
          4.430665969848629,
          4.425047,
          4.398849606513975,
          4.4102060794830305,
          4.413934350013735,
          4.42328453063965,
          4.3778264522552455,
          4.425156712532045,
          4.4252318143844604,
          4.4354510307312,
          4.42874014377594,
          4.430585503578185,
          4.4261759519577,
          4.395632296800615,
          4.4336499273777,
          4.426224231719971,
          4.42991226911545
         ],
         "marker": {
          "color": [
           7.8,
           8.3,
           8.5,
           8,
           8.9,
           8,
           8.5,
           9,
           8.7,
           9,
           8.2,
           8.6,
           7.7,
           8.4,
           8.3,
           8.8,
           8.2,
           8.5,
           8.5,
           7.9
          ],
          "coloraxis": "coloraxis"
         },
         "mode": "markers",
         "name": "",
         "showlegend": false,
         "subplot": "mapbox",
         "type": "scattermapbox"
        }
       ],
       "layout": {
        "coloraxis": {
         "colorbar": {
          "title": {
           "text": "score"
          }
         },
         "colorscale": [
          [
           0,
           "#0d0887"
          ],
          [
           0.1111111111111111,
           "#46039f"
          ],
          [
           0.2222222222222222,
           "#7201a8"
          ],
          [
           0.3333333333333333,
           "#9c179e"
          ],
          [
           0.4444444444444444,
           "#bd3786"
          ],
          [
           0.5555555555555556,
           "#d8576b"
          ],
          [
           0.6666666666666666,
           "#ed7953"
          ],
          [
           0.7777777777777778,
           "#fb9f3a"
          ],
          [
           0.8888888888888888,
           "#fdca26"
          ],
          [
           1,
           "#f0f921"
          ]
         ]
        },
        "legend": {
         "tracegroupgap": 0
        },
        "mapbox": {
         "center": {
          "lat": 43.46408012027096,
          "lon": 4.419842121967983
         },
         "domain": {
          "x": [
           0,
           1
          ],
          "y": [
           0,
           1
          ]
         },
         "style": "open-street-map",
         "zoom": 8
        },
        "template": {
         "data": {
          "bar": [
           {
            "error_x": {
             "color": "#2a3f5f"
            },
            "error_y": {
             "color": "#2a3f5f"
            },
            "marker": {
             "line": {
              "color": "#E5ECF6",
              "width": 0.5
             },
             "pattern": {
              "fillmode": "overlay",
              "size": 10,
              "solidity": 0.2
             }
            },
            "type": "bar"
           }
          ],
          "barpolar": [
           {
            "marker": {
             "line": {
              "color": "#E5ECF6",
              "width": 0.5
             },
             "pattern": {
              "fillmode": "overlay",
              "size": 10,
              "solidity": 0.2
             }
            },
            "type": "barpolar"
           }
          ],
          "carpet": [
           {
            "aaxis": {
             "endlinecolor": "#2a3f5f",
             "gridcolor": "white",
             "linecolor": "white",
             "minorgridcolor": "white",
             "startlinecolor": "#2a3f5f"
            },
            "baxis": {
             "endlinecolor": "#2a3f5f",
             "gridcolor": "white",
             "linecolor": "white",
             "minorgridcolor": "white",
             "startlinecolor": "#2a3f5f"
            },
            "type": "carpet"
           }
          ],
          "choropleth": [
           {
            "colorbar": {
             "outlinewidth": 0,
             "ticks": ""
            },
            "type": "choropleth"
           }
          ],
          "contour": [
           {
            "colorbar": {
             "outlinewidth": 0,
             "ticks": ""
            },
            "colorscale": [
             [
              0,
              "#0d0887"
             ],
             [
              0.1111111111111111,
              "#46039f"
             ],
             [
              0.2222222222222222,
              "#7201a8"
             ],
             [
              0.3333333333333333,
              "#9c179e"
             ],
             [
              0.4444444444444444,
              "#bd3786"
             ],
             [
              0.5555555555555556,
              "#d8576b"
             ],
             [
              0.6666666666666666,
              "#ed7953"
             ],
             [
              0.7777777777777778,
              "#fb9f3a"
             ],
             [
              0.8888888888888888,
              "#fdca26"
             ],
             [
              1,
              "#f0f921"
             ]
            ],
            "type": "contour"
           }
          ],
          "contourcarpet": [
           {
            "colorbar": {
             "outlinewidth": 0,
             "ticks": ""
            },
            "type": "contourcarpet"
           }
          ],
          "heatmap": [
           {
            "colorbar": {
             "outlinewidth": 0,
             "ticks": ""
            },
            "colorscale": [
             [
              0,
              "#0d0887"
             ],
             [
              0.1111111111111111,
              "#46039f"
             ],
             [
              0.2222222222222222,
              "#7201a8"
             ],
             [
              0.3333333333333333,
              "#9c179e"
             ],
             [
              0.4444444444444444,
              "#bd3786"
             ],
             [
              0.5555555555555556,
              "#d8576b"
             ],
             [
              0.6666666666666666,
              "#ed7953"
             ],
             [
              0.7777777777777778,
              "#fb9f3a"
             ],
             [
              0.8888888888888888,
              "#fdca26"
             ],
             [
              1,
              "#f0f921"
             ]
            ],
            "type": "heatmap"
           }
          ],
          "heatmapgl": [
           {
            "colorbar": {
             "outlinewidth": 0,
             "ticks": ""
            },
            "colorscale": [
             [
              0,
              "#0d0887"
             ],
             [
              0.1111111111111111,
              "#46039f"
             ],
             [
              0.2222222222222222,
              "#7201a8"
             ],
             [
              0.3333333333333333,
              "#9c179e"
             ],
             [
              0.4444444444444444,
              "#bd3786"
             ],
             [
              0.5555555555555556,
              "#d8576b"
             ],
             [
              0.6666666666666666,
              "#ed7953"
             ],
             [
              0.7777777777777778,
              "#fb9f3a"
             ],
             [
              0.8888888888888888,
              "#fdca26"
             ],
             [
              1,
              "#f0f921"
             ]
            ],
            "type": "heatmapgl"
           }
          ],
          "histogram": [
           {
            "marker": {
             "pattern": {
              "fillmode": "overlay",
              "size": 10,
              "solidity": 0.2
             }
            },
            "type": "histogram"
           }
          ],
          "histogram2d": [
           {
            "colorbar": {
             "outlinewidth": 0,
             "ticks": ""
            },
            "colorscale": [
             [
              0,
              "#0d0887"
             ],
             [
              0.1111111111111111,
              "#46039f"
             ],
             [
              0.2222222222222222,
              "#7201a8"
             ],
             [
              0.3333333333333333,
              "#9c179e"
             ],
             [
              0.4444444444444444,
              "#bd3786"
             ],
             [
              0.5555555555555556,
              "#d8576b"
             ],
             [
              0.6666666666666666,
              "#ed7953"
             ],
             [
              0.7777777777777778,
              "#fb9f3a"
             ],
             [
              0.8888888888888888,
              "#fdca26"
             ],
             [
              1,
              "#f0f921"
             ]
            ],
            "type": "histogram2d"
           }
          ],
          "histogram2dcontour": [
           {
            "colorbar": {
             "outlinewidth": 0,
             "ticks": ""
            },
            "colorscale": [
             [
              0,
              "#0d0887"
             ],
             [
              0.1111111111111111,
              "#46039f"
             ],
             [
              0.2222222222222222,
              "#7201a8"
             ],
             [
              0.3333333333333333,
              "#9c179e"
             ],
             [
              0.4444444444444444,
              "#bd3786"
             ],
             [
              0.5555555555555556,
              "#d8576b"
             ],
             [
              0.6666666666666666,
              "#ed7953"
             ],
             [
              0.7777777777777778,
              "#fb9f3a"
             ],
             [
              0.8888888888888888,
              "#fdca26"
             ],
             [
              1,
              "#f0f921"
             ]
            ],
            "type": "histogram2dcontour"
           }
          ],
          "mesh3d": [
           {
            "colorbar": {
             "outlinewidth": 0,
             "ticks": ""
            },
            "type": "mesh3d"
           }
          ],
          "parcoords": [
           {
            "line": {
             "colorbar": {
              "outlinewidth": 0,
              "ticks": ""
             }
            },
            "type": "parcoords"
           }
          ],
          "pie": [
           {
            "automargin": true,
            "type": "pie"
           }
          ],
          "scatter": [
           {
            "fillpattern": {
             "fillmode": "overlay",
             "size": 10,
             "solidity": 0.2
            },
            "type": "scatter"
           }
          ],
          "scatter3d": [
           {
            "line": {
             "colorbar": {
              "outlinewidth": 0,
              "ticks": ""
             }
            },
            "marker": {
             "colorbar": {
              "outlinewidth": 0,
              "ticks": ""
             }
            },
            "type": "scatter3d"
           }
          ],
          "scattercarpet": [
           {
            "marker": {
             "colorbar": {
              "outlinewidth": 0,
              "ticks": ""
             }
            },
            "type": "scattercarpet"
           }
          ],
          "scattergeo": [
           {
            "marker": {
             "colorbar": {
              "outlinewidth": 0,
              "ticks": ""
             }
            },
            "type": "scattergeo"
           }
          ],
          "scattergl": [
           {
            "marker": {
             "colorbar": {
              "outlinewidth": 0,
              "ticks": ""
             }
            },
            "type": "scattergl"
           }
          ],
          "scattermapbox": [
           {
            "marker": {
             "colorbar": {
              "outlinewidth": 0,
              "ticks": ""
             }
            },
            "type": "scattermapbox"
           }
          ],
          "scatterpolar": [
           {
            "marker": {
             "colorbar": {
              "outlinewidth": 0,
              "ticks": ""
             }
            },
            "type": "scatterpolar"
           }
          ],
          "scatterpolargl": [
           {
            "marker": {
             "colorbar": {
              "outlinewidth": 0,
              "ticks": ""
             }
            },
            "type": "scatterpolargl"
           }
          ],
          "scatterternary": [
           {
            "marker": {
             "colorbar": {
              "outlinewidth": 0,
              "ticks": ""
             }
            },
            "type": "scatterternary"
           }
          ],
          "surface": [
           {
            "colorbar": {
             "outlinewidth": 0,
             "ticks": ""
            },
            "colorscale": [
             [
              0,
              "#0d0887"
             ],
             [
              0.1111111111111111,
              "#46039f"
             ],
             [
              0.2222222222222222,
              "#7201a8"
             ],
             [
              0.3333333333333333,
              "#9c179e"
             ],
             [
              0.4444444444444444,
              "#bd3786"
             ],
             [
              0.5555555555555556,
              "#d8576b"
             ],
             [
              0.6666666666666666,
              "#ed7953"
             ],
             [
              0.7777777777777778,
              "#fb9f3a"
             ],
             [
              0.8888888888888888,
              "#fdca26"
             ],
             [
              1,
              "#f0f921"
             ]
            ],
            "type": "surface"
           }
          ],
          "table": [
           {
            "cells": {
             "fill": {
              "color": "#EBF0F8"
             },
             "line": {
              "color": "white"
             }
            },
            "header": {
             "fill": {
              "color": "#C8D4E3"
             },
             "line": {
              "color": "white"
             }
            },
            "type": "table"
           }
          ]
         },
         "layout": {
          "annotationdefaults": {
           "arrowcolor": "#2a3f5f",
           "arrowhead": 0,
           "arrowwidth": 1
          },
          "autotypenumbers": "strict",
          "coloraxis": {
           "colorbar": {
            "outlinewidth": 0,
            "ticks": ""
           }
          },
          "colorscale": {
           "diverging": [
            [
             0,
             "#8e0152"
            ],
            [
             0.1,
             "#c51b7d"
            ],
            [
             0.2,
             "#de77ae"
            ],
            [
             0.3,
             "#f1b6da"
            ],
            [
             0.4,
             "#fde0ef"
            ],
            [
             0.5,
             "#f7f7f7"
            ],
            [
             0.6,
             "#e6f5d0"
            ],
            [
             0.7,
             "#b8e186"
            ],
            [
             0.8,
             "#7fbc41"
            ],
            [
             0.9,
             "#4d9221"
            ],
            [
             1,
             "#276419"
            ]
           ],
           "sequential": [
            [
             0,
             "#0d0887"
            ],
            [
             0.1111111111111111,
             "#46039f"
            ],
            [
             0.2222222222222222,
             "#7201a8"
            ],
            [
             0.3333333333333333,
             "#9c179e"
            ],
            [
             0.4444444444444444,
             "#bd3786"
            ],
            [
             0.5555555555555556,
             "#d8576b"
            ],
            [
             0.6666666666666666,
             "#ed7953"
            ],
            [
             0.7777777777777778,
             "#fb9f3a"
            ],
            [
             0.8888888888888888,
             "#fdca26"
            ],
            [
             1,
             "#f0f921"
            ]
           ],
           "sequentialminus": [
            [
             0,
             "#0d0887"
            ],
            [
             0.1111111111111111,
             "#46039f"
            ],
            [
             0.2222222222222222,
             "#7201a8"
            ],
            [
             0.3333333333333333,
             "#9c179e"
            ],
            [
             0.4444444444444444,
             "#bd3786"
            ],
            [
             0.5555555555555556,
             "#d8576b"
            ],
            [
             0.6666666666666666,
             "#ed7953"
            ],
            [
             0.7777777777777778,
             "#fb9f3a"
            ],
            [
             0.8888888888888888,
             "#fdca26"
            ],
            [
             1,
             "#f0f921"
            ]
           ]
          },
          "colorway": [
           "#636efa",
           "#EF553B",
           "#00cc96",
           "#ab63fa",
           "#FFA15A",
           "#19d3f3",
           "#FF6692",
           "#B6E880",
           "#FF97FF",
           "#FECB52"
          ],
          "font": {
           "color": "#2a3f5f"
          },
          "geo": {
           "bgcolor": "white",
           "lakecolor": "white",
           "landcolor": "#E5ECF6",
           "showlakes": true,
           "showland": true,
           "subunitcolor": "white"
          },
          "hoverlabel": {
           "align": "left"
          },
          "hovermode": "closest",
          "mapbox": {
           "style": "light"
          },
          "paper_bgcolor": "white",
          "plot_bgcolor": "#E5ECF6",
          "polar": {
           "angularaxis": {
            "gridcolor": "white",
            "linecolor": "white",
            "ticks": ""
           },
           "bgcolor": "#E5ECF6",
           "radialaxis": {
            "gridcolor": "white",
            "linecolor": "white",
            "ticks": ""
           }
          },
          "scene": {
           "xaxis": {
            "backgroundcolor": "#E5ECF6",
            "gridcolor": "white",
            "gridwidth": 2,
            "linecolor": "white",
            "showbackground": true,
            "ticks": "",
            "zerolinecolor": "white"
           },
           "yaxis": {
            "backgroundcolor": "#E5ECF6",
            "gridcolor": "white",
            "gridwidth": 2,
            "linecolor": "white",
            "showbackground": true,
            "ticks": "",
            "zerolinecolor": "white"
           },
           "zaxis": {
            "backgroundcolor": "#E5ECF6",
            "gridcolor": "white",
            "gridwidth": 2,
            "linecolor": "white",
            "showbackground": true,
            "ticks": "",
            "zerolinecolor": "white"
           }
          },
          "shapedefaults": {
           "line": {
            "color": "#2a3f5f"
           }
          },
          "ternary": {
           "aaxis": {
            "gridcolor": "white",
            "linecolor": "white",
            "ticks": ""
           },
           "baxis": {
            "gridcolor": "white",
            "linecolor": "white",
            "ticks": ""
           },
           "bgcolor": "#E5ECF6",
           "caxis": {
            "gridcolor": "white",
            "linecolor": "white",
            "ticks": ""
           }
          },
          "title": {
           "x": 0.05
          },
          "xaxis": {
           "automargin": true,
           "gridcolor": "white",
           "linecolor": "white",
           "ticks": "",
           "title": {
            "standoff": 15
           },
           "zerolinecolor": "white",
           "zerolinewidth": 2
          },
          "yaxis": {
           "automargin": true,
           "gridcolor": "white",
           "linecolor": "white",
           "ticks": "",
           "title": {
            "standoff": 15
           },
           "zerolinecolor": "white",
           "zerolinewidth": 2
          }
         }
        },
        "title": {
         "text": "Saintes Maries de la mer"
        },
        "width": 800
       }
      }
     },
     "metadata": {},
     "output_type": "display_data"
    },
    {
     "data": {
      "application/vnd.plotly.v1+json": {
       "config": {
        "plotlyServerURL": "https://plot.ly"
       },
       "data": [
        {
         "customdata": [
          [
           "https://www.booking.com/hotel/fr/boquier.fr.html"
          ],
          [
           "https://www.booking.com/hotel/fr/ibis-avignon-centre-gare.fr.html"
          ],
          [
           "https://www.booking.com/hotel/fr/a-l-39-ombre-du-palais.fr.html"
          ],
          [
           "https://www.booking.com/hotel/fr/la-demoiselle.fr.html"
          ],
          [
           "https://www.booking.com/hotel/fr/my-pad-provence.fr.html"
          ],
          [
           "https://www.booking.com/hotel/fr/au-saint-roch-et-jardin.fr.html"
          ],
          [
           "https://www.booking.com/hotel/fr/hoteldanieli.fr.html"
          ],
          [
           "https://www.booking.com/hotel/fr/cristol-avignon-sud.fr.html"
          ],
          [
           "https://www.booking.com/hotel/fr/le-medieval-avignon.fr.html"
          ],
          [
           "https://www.booking.com/hotel/fr/les-jardins-de-baracane.fr.html"
          ],
          [
           "https://www.booking.com/hotel/fr/hotellelavarin.fr.html"
          ],
          [
           "https://www.booking.com/hotel/fr/la-banasterie.fr.html"
          ],
          [
           "https://www.booking.com/hotel/fr/hypercentre-cosy-carnot-avignonsmile.fr.html"
          ],
          [
           "https://www.booking.com/hotel/fr/de-l-horloge.fr.html"
          ],
          [
           "https://www.booking.com/hotel/fr/citea-avignon.fr.html"
          ],
          [
           "https://www.booking.com/hotel/fr/hotel-bristol-avignon.fr.html"
          ],
          [
           "https://www.booking.com/hotel/fr/avignongrandhotel.fr.html"
          ],
          [
           "https://www.booking.com/hotel/fr/paradouavignon.fr.html"
          ],
          [
           "https://www.booking.com/hotel/fr/d-angleterre-avignon.fr.html"
          ],
          [
           "https://www.booking.com/hotel/fr/hotellemagnan.fr.html"
          ]
         ],
         "hovertemplate": "<b>%{hovertext}</b><br><br>lat_hotel=%{lat}<br>long_hotel=%{lon}<br>url=%{customdata[0]}<br>score=%{marker.color}<extra></extra>",
         "hovertext": [
          "Hotel Boquier",
          "ibis Avignon Centre Gare",
          "A l'ombre du Palais",
          "La Demoiselle",
          "My Pad Provence",
          "Au Saint Roch - Hôtel et Jardin",
          "Hôtel Danieli",
          "Hotel Cristol",
          "Hôtel Le Médiéval",
          "Les Jardins de Baracane",
          "Best Western Plus Le Lavarin",
          "La Banasterie",
          "CLIMATISATION-Hypercentre-PARKING-COSY CARNOT-AVIGNONSMILE",
          "Hôtel de l'Horloge",
          "Aparthotel Adagio Access Avignon",
          "Hôtel Le Bristol",
          "Avignon Grand Hotel",
          "Best Western Hôtel Le Paradou Avignon Sud.",
          "Hotel d'Angleterre",
          "Le Magnan"
         ],
         "lat": [
          43.9446965967306,
          43.942290693241304,
          43.951729,
          43.950707,
          43.9525142512378,
          43.9429013767361,
          43.9475661897886,
          43.9263393482337,
          43.949306107046795,
          43.9446093348181,
          43.9227576581892,
          43.9498699760739,
          43.949177566369,
          43.9489672037393,
          43.9262311665796,
          43.9440321278147,
          43.94254505532995,
          43.904892495745,
          43.9446163246851,
          43.9436294631586
         ],
         "legendgroup": "",
         "lon": [
          4.804993117791015,
          4.807274341733545,
          4.810339,
          4.811875000000001,
          4.81585921973499,
          4.7980427742004395,
          4.8060303926467896,
          4.850131273269655,
          4.809345602989195,
          4.80928240613423,
          4.804295003414156,
          4.80851545929909,
          4.810831185285,
          4.80547249317169,
          4.78592723608017,
          4.80533167719841,
          4.804362058639525,
          4.895530343055725,
          4.80061233043671,
          4.812171310186385
         ],
         "marker": {
          "color": [
           8.4,
           7.5,
           8.3,
           9.4,
           9.1,
           7.9,
           7.4,
           6.4,
           7.9,
           9.7,
           8.3,
           9.3,
           8.5,
           8.2,
           7.6,
           7.9,
           8.2,
           7.7,
           7.5,
           8.3
          ],
          "coloraxis": "coloraxis"
         },
         "mode": "markers",
         "name": "",
         "showlegend": false,
         "subplot": "mapbox",
         "type": "scattermapbox"
        }
       ],
       "layout": {
        "coloraxis": {
         "colorbar": {
          "title": {
           "text": "score"
          }
         },
         "colorscale": [
          [
           0,
           "#0d0887"
          ],
          [
           0.1111111111111111,
           "#46039f"
          ],
          [
           0.2222222222222222,
           "#7201a8"
          ],
          [
           0.3333333333333333,
           "#9c179e"
          ],
          [
           0.4444444444444444,
           "#bd3786"
          ],
          [
           0.5555555555555556,
           "#d8576b"
          ],
          [
           0.6666666666666666,
           "#ed7953"
          ],
          [
           0.7777777777777778,
           "#fb9f3a"
          ],
          [
           0.8888888888888888,
           "#fdca26"
          ],
          [
           1,
           "#f0f921"
          ]
         ]
        },
        "legend": {
         "tracegroupgap": 0
        },
        "mapbox": {
         "center": {
          "lat": 43.94146894677586,
          "lon": 4.812811111263336
         },
         "domain": {
          "x": [
           0,
           1
          ],
          "y": [
           0,
           1
          ]
         },
         "style": "open-street-map",
         "zoom": 8
        },
        "template": {
         "data": {
          "bar": [
           {
            "error_x": {
             "color": "#2a3f5f"
            },
            "error_y": {
             "color": "#2a3f5f"
            },
            "marker": {
             "line": {
              "color": "#E5ECF6",
              "width": 0.5
             },
             "pattern": {
              "fillmode": "overlay",
              "size": 10,
              "solidity": 0.2
             }
            },
            "type": "bar"
           }
          ],
          "barpolar": [
           {
            "marker": {
             "line": {
              "color": "#E5ECF6",
              "width": 0.5
             },
             "pattern": {
              "fillmode": "overlay",
              "size": 10,
              "solidity": 0.2
             }
            },
            "type": "barpolar"
           }
          ],
          "carpet": [
           {
            "aaxis": {
             "endlinecolor": "#2a3f5f",
             "gridcolor": "white",
             "linecolor": "white",
             "minorgridcolor": "white",
             "startlinecolor": "#2a3f5f"
            },
            "baxis": {
             "endlinecolor": "#2a3f5f",
             "gridcolor": "white",
             "linecolor": "white",
             "minorgridcolor": "white",
             "startlinecolor": "#2a3f5f"
            },
            "type": "carpet"
           }
          ],
          "choropleth": [
           {
            "colorbar": {
             "outlinewidth": 0,
             "ticks": ""
            },
            "type": "choropleth"
           }
          ],
          "contour": [
           {
            "colorbar": {
             "outlinewidth": 0,
             "ticks": ""
            },
            "colorscale": [
             [
              0,
              "#0d0887"
             ],
             [
              0.1111111111111111,
              "#46039f"
             ],
             [
              0.2222222222222222,
              "#7201a8"
             ],
             [
              0.3333333333333333,
              "#9c179e"
             ],
             [
              0.4444444444444444,
              "#bd3786"
             ],
             [
              0.5555555555555556,
              "#d8576b"
             ],
             [
              0.6666666666666666,
              "#ed7953"
             ],
             [
              0.7777777777777778,
              "#fb9f3a"
             ],
             [
              0.8888888888888888,
              "#fdca26"
             ],
             [
              1,
              "#f0f921"
             ]
            ],
            "type": "contour"
           }
          ],
          "contourcarpet": [
           {
            "colorbar": {
             "outlinewidth": 0,
             "ticks": ""
            },
            "type": "contourcarpet"
           }
          ],
          "heatmap": [
           {
            "colorbar": {
             "outlinewidth": 0,
             "ticks": ""
            },
            "colorscale": [
             [
              0,
              "#0d0887"
             ],
             [
              0.1111111111111111,
              "#46039f"
             ],
             [
              0.2222222222222222,
              "#7201a8"
             ],
             [
              0.3333333333333333,
              "#9c179e"
             ],
             [
              0.4444444444444444,
              "#bd3786"
             ],
             [
              0.5555555555555556,
              "#d8576b"
             ],
             [
              0.6666666666666666,
              "#ed7953"
             ],
             [
              0.7777777777777778,
              "#fb9f3a"
             ],
             [
              0.8888888888888888,
              "#fdca26"
             ],
             [
              1,
              "#f0f921"
             ]
            ],
            "type": "heatmap"
           }
          ],
          "heatmapgl": [
           {
            "colorbar": {
             "outlinewidth": 0,
             "ticks": ""
            },
            "colorscale": [
             [
              0,
              "#0d0887"
             ],
             [
              0.1111111111111111,
              "#46039f"
             ],
             [
              0.2222222222222222,
              "#7201a8"
             ],
             [
              0.3333333333333333,
              "#9c179e"
             ],
             [
              0.4444444444444444,
              "#bd3786"
             ],
             [
              0.5555555555555556,
              "#d8576b"
             ],
             [
              0.6666666666666666,
              "#ed7953"
             ],
             [
              0.7777777777777778,
              "#fb9f3a"
             ],
             [
              0.8888888888888888,
              "#fdca26"
             ],
             [
              1,
              "#f0f921"
             ]
            ],
            "type": "heatmapgl"
           }
          ],
          "histogram": [
           {
            "marker": {
             "pattern": {
              "fillmode": "overlay",
              "size": 10,
              "solidity": 0.2
             }
            },
            "type": "histogram"
           }
          ],
          "histogram2d": [
           {
            "colorbar": {
             "outlinewidth": 0,
             "ticks": ""
            },
            "colorscale": [
             [
              0,
              "#0d0887"
             ],
             [
              0.1111111111111111,
              "#46039f"
             ],
             [
              0.2222222222222222,
              "#7201a8"
             ],
             [
              0.3333333333333333,
              "#9c179e"
             ],
             [
              0.4444444444444444,
              "#bd3786"
             ],
             [
              0.5555555555555556,
              "#d8576b"
             ],
             [
              0.6666666666666666,
              "#ed7953"
             ],
             [
              0.7777777777777778,
              "#fb9f3a"
             ],
             [
              0.8888888888888888,
              "#fdca26"
             ],
             [
              1,
              "#f0f921"
             ]
            ],
            "type": "histogram2d"
           }
          ],
          "histogram2dcontour": [
           {
            "colorbar": {
             "outlinewidth": 0,
             "ticks": ""
            },
            "colorscale": [
             [
              0,
              "#0d0887"
             ],
             [
              0.1111111111111111,
              "#46039f"
             ],
             [
              0.2222222222222222,
              "#7201a8"
             ],
             [
              0.3333333333333333,
              "#9c179e"
             ],
             [
              0.4444444444444444,
              "#bd3786"
             ],
             [
              0.5555555555555556,
              "#d8576b"
             ],
             [
              0.6666666666666666,
              "#ed7953"
             ],
             [
              0.7777777777777778,
              "#fb9f3a"
             ],
             [
              0.8888888888888888,
              "#fdca26"
             ],
             [
              1,
              "#f0f921"
             ]
            ],
            "type": "histogram2dcontour"
           }
          ],
          "mesh3d": [
           {
            "colorbar": {
             "outlinewidth": 0,
             "ticks": ""
            },
            "type": "mesh3d"
           }
          ],
          "parcoords": [
           {
            "line": {
             "colorbar": {
              "outlinewidth": 0,
              "ticks": ""
             }
            },
            "type": "parcoords"
           }
          ],
          "pie": [
           {
            "automargin": true,
            "type": "pie"
           }
          ],
          "scatter": [
           {
            "fillpattern": {
             "fillmode": "overlay",
             "size": 10,
             "solidity": 0.2
            },
            "type": "scatter"
           }
          ],
          "scatter3d": [
           {
            "line": {
             "colorbar": {
              "outlinewidth": 0,
              "ticks": ""
             }
            },
            "marker": {
             "colorbar": {
              "outlinewidth": 0,
              "ticks": ""
             }
            },
            "type": "scatter3d"
           }
          ],
          "scattercarpet": [
           {
            "marker": {
             "colorbar": {
              "outlinewidth": 0,
              "ticks": ""
             }
            },
            "type": "scattercarpet"
           }
          ],
          "scattergeo": [
           {
            "marker": {
             "colorbar": {
              "outlinewidth": 0,
              "ticks": ""
             }
            },
            "type": "scattergeo"
           }
          ],
          "scattergl": [
           {
            "marker": {
             "colorbar": {
              "outlinewidth": 0,
              "ticks": ""
             }
            },
            "type": "scattergl"
           }
          ],
          "scattermapbox": [
           {
            "marker": {
             "colorbar": {
              "outlinewidth": 0,
              "ticks": ""
             }
            },
            "type": "scattermapbox"
           }
          ],
          "scatterpolar": [
           {
            "marker": {
             "colorbar": {
              "outlinewidth": 0,
              "ticks": ""
             }
            },
            "type": "scatterpolar"
           }
          ],
          "scatterpolargl": [
           {
            "marker": {
             "colorbar": {
              "outlinewidth": 0,
              "ticks": ""
             }
            },
            "type": "scatterpolargl"
           }
          ],
          "scatterternary": [
           {
            "marker": {
             "colorbar": {
              "outlinewidth": 0,
              "ticks": ""
             }
            },
            "type": "scatterternary"
           }
          ],
          "surface": [
           {
            "colorbar": {
             "outlinewidth": 0,
             "ticks": ""
            },
            "colorscale": [
             [
              0,
              "#0d0887"
             ],
             [
              0.1111111111111111,
              "#46039f"
             ],
             [
              0.2222222222222222,
              "#7201a8"
             ],
             [
              0.3333333333333333,
              "#9c179e"
             ],
             [
              0.4444444444444444,
              "#bd3786"
             ],
             [
              0.5555555555555556,
              "#d8576b"
             ],
             [
              0.6666666666666666,
              "#ed7953"
             ],
             [
              0.7777777777777778,
              "#fb9f3a"
             ],
             [
              0.8888888888888888,
              "#fdca26"
             ],
             [
              1,
              "#f0f921"
             ]
            ],
            "type": "surface"
           }
          ],
          "table": [
           {
            "cells": {
             "fill": {
              "color": "#EBF0F8"
             },
             "line": {
              "color": "white"
             }
            },
            "header": {
             "fill": {
              "color": "#C8D4E3"
             },
             "line": {
              "color": "white"
             }
            },
            "type": "table"
           }
          ]
         },
         "layout": {
          "annotationdefaults": {
           "arrowcolor": "#2a3f5f",
           "arrowhead": 0,
           "arrowwidth": 1
          },
          "autotypenumbers": "strict",
          "coloraxis": {
           "colorbar": {
            "outlinewidth": 0,
            "ticks": ""
           }
          },
          "colorscale": {
           "diverging": [
            [
             0,
             "#8e0152"
            ],
            [
             0.1,
             "#c51b7d"
            ],
            [
             0.2,
             "#de77ae"
            ],
            [
             0.3,
             "#f1b6da"
            ],
            [
             0.4,
             "#fde0ef"
            ],
            [
             0.5,
             "#f7f7f7"
            ],
            [
             0.6,
             "#e6f5d0"
            ],
            [
             0.7,
             "#b8e186"
            ],
            [
             0.8,
             "#7fbc41"
            ],
            [
             0.9,
             "#4d9221"
            ],
            [
             1,
             "#276419"
            ]
           ],
           "sequential": [
            [
             0,
             "#0d0887"
            ],
            [
             0.1111111111111111,
             "#46039f"
            ],
            [
             0.2222222222222222,
             "#7201a8"
            ],
            [
             0.3333333333333333,
             "#9c179e"
            ],
            [
             0.4444444444444444,
             "#bd3786"
            ],
            [
             0.5555555555555556,
             "#d8576b"
            ],
            [
             0.6666666666666666,
             "#ed7953"
            ],
            [
             0.7777777777777778,
             "#fb9f3a"
            ],
            [
             0.8888888888888888,
             "#fdca26"
            ],
            [
             1,
             "#f0f921"
            ]
           ],
           "sequentialminus": [
            [
             0,
             "#0d0887"
            ],
            [
             0.1111111111111111,
             "#46039f"
            ],
            [
             0.2222222222222222,
             "#7201a8"
            ],
            [
             0.3333333333333333,
             "#9c179e"
            ],
            [
             0.4444444444444444,
             "#bd3786"
            ],
            [
             0.5555555555555556,
             "#d8576b"
            ],
            [
             0.6666666666666666,
             "#ed7953"
            ],
            [
             0.7777777777777778,
             "#fb9f3a"
            ],
            [
             0.8888888888888888,
             "#fdca26"
            ],
            [
             1,
             "#f0f921"
            ]
           ]
          },
          "colorway": [
           "#636efa",
           "#EF553B",
           "#00cc96",
           "#ab63fa",
           "#FFA15A",
           "#19d3f3",
           "#FF6692",
           "#B6E880",
           "#FF97FF",
           "#FECB52"
          ],
          "font": {
           "color": "#2a3f5f"
          },
          "geo": {
           "bgcolor": "white",
           "lakecolor": "white",
           "landcolor": "#E5ECF6",
           "showlakes": true,
           "showland": true,
           "subunitcolor": "white"
          },
          "hoverlabel": {
           "align": "left"
          },
          "hovermode": "closest",
          "mapbox": {
           "style": "light"
          },
          "paper_bgcolor": "white",
          "plot_bgcolor": "#E5ECF6",
          "polar": {
           "angularaxis": {
            "gridcolor": "white",
            "linecolor": "white",
            "ticks": ""
           },
           "bgcolor": "#E5ECF6",
           "radialaxis": {
            "gridcolor": "white",
            "linecolor": "white",
            "ticks": ""
           }
          },
          "scene": {
           "xaxis": {
            "backgroundcolor": "#E5ECF6",
            "gridcolor": "white",
            "gridwidth": 2,
            "linecolor": "white",
            "showbackground": true,
            "ticks": "",
            "zerolinecolor": "white"
           },
           "yaxis": {
            "backgroundcolor": "#E5ECF6",
            "gridcolor": "white",
            "gridwidth": 2,
            "linecolor": "white",
            "showbackground": true,
            "ticks": "",
            "zerolinecolor": "white"
           },
           "zaxis": {
            "backgroundcolor": "#E5ECF6",
            "gridcolor": "white",
            "gridwidth": 2,
            "linecolor": "white",
            "showbackground": true,
            "ticks": "",
            "zerolinecolor": "white"
           }
          },
          "shapedefaults": {
           "line": {
            "color": "#2a3f5f"
           }
          },
          "ternary": {
           "aaxis": {
            "gridcolor": "white",
            "linecolor": "white",
            "ticks": ""
           },
           "baxis": {
            "gridcolor": "white",
            "linecolor": "white",
            "ticks": ""
           },
           "bgcolor": "#E5ECF6",
           "caxis": {
            "gridcolor": "white",
            "linecolor": "white",
            "ticks": ""
           }
          },
          "title": {
           "x": 0.05
          },
          "xaxis": {
           "automargin": true,
           "gridcolor": "white",
           "linecolor": "white",
           "ticks": "",
           "title": {
            "standoff": 15
           },
           "zerolinecolor": "white",
           "zerolinewidth": 2
          },
          "yaxis": {
           "automargin": true,
           "gridcolor": "white",
           "linecolor": "white",
           "ticks": "",
           "title": {
            "standoff": 15
           },
           "zerolinecolor": "white",
           "zerolinewidth": 2
          }
         }
        },
        "title": {
         "text": "Avignon"
        },
        "width": 800
       }
      }
     },
     "metadata": {},
     "output_type": "display_data"
    },
    {
     "data": {
      "application/vnd.plotly.v1+json": {
       "config": {
        "plotlyServerURL": "https://plot.ly"
       },
       "data": [
        {
         "customdata": [
          [
           "https://www.booking.com/hotel/fr/esprit-bistrot-rent4night-grenoble.fr.html"
          ],
          [
           "https://www.booking.com/hotel/fr/happy-appart-grenoble-gare.fr.html"
          ],
          [
           "https://www.booking.com/hotel/fr/le-hub-hostel-grenoble.fr.html"
          ],
          [
           "https://www.booking.com/hotel/fr/royal-grenoble.fr.html"
          ],
          [
           "https://www.booking.com/hotel/fr/coeur-europole-grand-t1-cosy.fr.html"
          ],
          [
           "https://www.booking.com/hotel/fr/gallia-grenoble.fr.html"
          ],
          [
           "https://www.booking.com/hotel/fr/mercure-grenoble-centre-alpotel.fr.html"
          ],
          [
           "https://www.booking.com/hotel/fr/le-vallier-spacieux-appartement-garage-clim.fr.html"
          ],
          [
           "https://www.booking.com/hotel/fr/tempologis-grenoble.fr.html"
          ],
          [
           "https://www.booking.com/hotel/fr/residhotel-le-central-gare.fr.html"
          ],
          [
           "https://www.booking.com/hotel/fr/okko-hotels-grenoble-jardin-hoche.fr.html"
          ],
          [
           "https://www.booking.com/hotel/fr/victoria-grenoble.fr.html"
          ],
          [
           "https://www.booking.com/hotel/fr/europole.fr.html"
          ],
          [
           "https://www.booking.com/hotel/fr/grenoble-centre.fr.html"
          ],
          [
           "https://www.booking.com/hotel/fr/hotel-lux.fr.html"
          ],
          [
           "https://www.booking.com/hotel/fr/hipark.fr.html"
          ],
          [
           "https://www.booking.com/hotel/fr/suisse-et-bordeaux.fr.html"
          ],
          [
           "https://www.booking.com/hotel/fr/le-hub-grenoble.fr.html"
          ],
          [
           "https://www.booking.com/hotel/fr/maison-barbillon-grenoble.fr.html"
          ],
          [
           "https://www.booking.com/hotel/fr/le-grand-grenoble-centre.fr.html"
          ]
         ],
         "hovertemplate": "<b>%{hovertext}</b><br><br>lat_hotel=%{lat}<br>long_hotel=%{lon}<br>url=%{customdata[0]}<br>score=%{marker.color}<extra></extra>",
         "hovertext": [
          "Esprit Bistrot / Rent4night Grenoble",
          "HAPPY APPART Gare Europole",
          "Le Hüb hostel - Grenoble",
          "1924 Hôtel",
          "Cosy-T1-Gare de Grenoble",
          "Hôtel Gloria",
          "Mercure Grenoble Centre Alpotel",
          "Le Vallier - Spacieux appartement - Garage/Clim",
          "Tempologis Grenoble",
          "Residhotel Le Central'Gare",
          "Okko Hotels Grenoble Jardin Hoche",
          "Hôtel Victoria",
          "Hotel Europole",
          "Novotel Grenoble Centre",
          "Hotel Lux",
          "Adagio Grenoble Centre",
          "Brit Hotel Suisse et Bordeaux - Centre Gare",
          "Le Hüb - Grenoble",
          "Maison Barbillon Grenoble",
          "Le Grand Hôtel Grenoble"
         ],
         "lat": [
          45.185432107053,
          45.1897287711379,
          45.192873,
          45.1892848318128,
          45.190343,
          45.191437879382505,
          45.183273258218605,
          45.179299560290005,
          45.1792734023642,
          45.190858984123395,
          45.184950180039095,
          45.187494,
          45.1902375512313,
          45.1906950021105,
          45.189522,
          45.1896090228493,
          45.1905192053067,
          45.192873,
          45.1907932968609,
          45.1908150351
         ],
         "legendgroup": "",
         "lon": [
          5.743996417196995,
          5.710986584655755,
          5.711916999999994,
          5.7186198234558105,
          5.7111216,
          5.718498453497885,
          5.729691982269285,
          5.715794061377,
          5.73433890938759,
          5.715724378824235,
          5.72598980937039,
          5.721472,
          5.71266397833824,
          5.712595582008365,
          5.716226000000005,
          5.712178498506545,
          5.716019421815875,
          5.711916999999994,
          5.71669667959213,
          5.728548020124435
         ],
         "marker": {
          "color": [
           7.8,
           8.5,
           7.5,
           8.5,
           9.1,
           7.6,
           7.5,
           9,
           8.2,
           7.7,
           8.1,
           8.6,
           7.7,
           7.5,
           7.9,
           7.3,
           7.7,
           8.2,
           8.3,
           8.4
          ],
          "coloraxis": "coloraxis"
         },
         "mode": "markers",
         "name": "",
         "showlegend": false,
         "subplot": "mapbox",
         "type": "scattermapbox"
        }
       ],
       "layout": {
        "coloraxis": {
         "colorbar": {
          "title": {
           "text": "score"
          }
         },
         "colorscale": [
          [
           0,
           "#0d0887"
          ],
          [
           0.1111111111111111,
           "#46039f"
          ],
          [
           0.2222222222222222,
           "#7201a8"
          ],
          [
           0.3333333333333333,
           "#9c179e"
          ],
          [
           0.4444444444444444,
           "#bd3786"
          ],
          [
           0.5555555555555556,
           "#d8576b"
          ],
          [
           0.6666666666666666,
           "#ed7953"
          ],
          [
           0.7777777777777778,
           "#fb9f3a"
          ],
          [
           0.8888888888888888,
           "#fdca26"
          ],
          [
           1,
           "#f0f921"
          ]
         ]
        },
        "legend": {
         "tracegroupgap": 0
        },
        "mapbox": {
         "center": {
          "lat": 45.18846565439401,
          "lon": 5.719249810021027
         },
         "domain": {
          "x": [
           0,
           1
          ],
          "y": [
           0,
           1
          ]
         },
         "style": "open-street-map",
         "zoom": 8
        },
        "template": {
         "data": {
          "bar": [
           {
            "error_x": {
             "color": "#2a3f5f"
            },
            "error_y": {
             "color": "#2a3f5f"
            },
            "marker": {
             "line": {
              "color": "#E5ECF6",
              "width": 0.5
             },
             "pattern": {
              "fillmode": "overlay",
              "size": 10,
              "solidity": 0.2
             }
            },
            "type": "bar"
           }
          ],
          "barpolar": [
           {
            "marker": {
             "line": {
              "color": "#E5ECF6",
              "width": 0.5
             },
             "pattern": {
              "fillmode": "overlay",
              "size": 10,
              "solidity": 0.2
             }
            },
            "type": "barpolar"
           }
          ],
          "carpet": [
           {
            "aaxis": {
             "endlinecolor": "#2a3f5f",
             "gridcolor": "white",
             "linecolor": "white",
             "minorgridcolor": "white",
             "startlinecolor": "#2a3f5f"
            },
            "baxis": {
             "endlinecolor": "#2a3f5f",
             "gridcolor": "white",
             "linecolor": "white",
             "minorgridcolor": "white",
             "startlinecolor": "#2a3f5f"
            },
            "type": "carpet"
           }
          ],
          "choropleth": [
           {
            "colorbar": {
             "outlinewidth": 0,
             "ticks": ""
            },
            "type": "choropleth"
           }
          ],
          "contour": [
           {
            "colorbar": {
             "outlinewidth": 0,
             "ticks": ""
            },
            "colorscale": [
             [
              0,
              "#0d0887"
             ],
             [
              0.1111111111111111,
              "#46039f"
             ],
             [
              0.2222222222222222,
              "#7201a8"
             ],
             [
              0.3333333333333333,
              "#9c179e"
             ],
             [
              0.4444444444444444,
              "#bd3786"
             ],
             [
              0.5555555555555556,
              "#d8576b"
             ],
             [
              0.6666666666666666,
              "#ed7953"
             ],
             [
              0.7777777777777778,
              "#fb9f3a"
             ],
             [
              0.8888888888888888,
              "#fdca26"
             ],
             [
              1,
              "#f0f921"
             ]
            ],
            "type": "contour"
           }
          ],
          "contourcarpet": [
           {
            "colorbar": {
             "outlinewidth": 0,
             "ticks": ""
            },
            "type": "contourcarpet"
           }
          ],
          "heatmap": [
           {
            "colorbar": {
             "outlinewidth": 0,
             "ticks": ""
            },
            "colorscale": [
             [
              0,
              "#0d0887"
             ],
             [
              0.1111111111111111,
              "#46039f"
             ],
             [
              0.2222222222222222,
              "#7201a8"
             ],
             [
              0.3333333333333333,
              "#9c179e"
             ],
             [
              0.4444444444444444,
              "#bd3786"
             ],
             [
              0.5555555555555556,
              "#d8576b"
             ],
             [
              0.6666666666666666,
              "#ed7953"
             ],
             [
              0.7777777777777778,
              "#fb9f3a"
             ],
             [
              0.8888888888888888,
              "#fdca26"
             ],
             [
              1,
              "#f0f921"
             ]
            ],
            "type": "heatmap"
           }
          ],
          "heatmapgl": [
           {
            "colorbar": {
             "outlinewidth": 0,
             "ticks": ""
            },
            "colorscale": [
             [
              0,
              "#0d0887"
             ],
             [
              0.1111111111111111,
              "#46039f"
             ],
             [
              0.2222222222222222,
              "#7201a8"
             ],
             [
              0.3333333333333333,
              "#9c179e"
             ],
             [
              0.4444444444444444,
              "#bd3786"
             ],
             [
              0.5555555555555556,
              "#d8576b"
             ],
             [
              0.6666666666666666,
              "#ed7953"
             ],
             [
              0.7777777777777778,
              "#fb9f3a"
             ],
             [
              0.8888888888888888,
              "#fdca26"
             ],
             [
              1,
              "#f0f921"
             ]
            ],
            "type": "heatmapgl"
           }
          ],
          "histogram": [
           {
            "marker": {
             "pattern": {
              "fillmode": "overlay",
              "size": 10,
              "solidity": 0.2
             }
            },
            "type": "histogram"
           }
          ],
          "histogram2d": [
           {
            "colorbar": {
             "outlinewidth": 0,
             "ticks": ""
            },
            "colorscale": [
             [
              0,
              "#0d0887"
             ],
             [
              0.1111111111111111,
              "#46039f"
             ],
             [
              0.2222222222222222,
              "#7201a8"
             ],
             [
              0.3333333333333333,
              "#9c179e"
             ],
             [
              0.4444444444444444,
              "#bd3786"
             ],
             [
              0.5555555555555556,
              "#d8576b"
             ],
             [
              0.6666666666666666,
              "#ed7953"
             ],
             [
              0.7777777777777778,
              "#fb9f3a"
             ],
             [
              0.8888888888888888,
              "#fdca26"
             ],
             [
              1,
              "#f0f921"
             ]
            ],
            "type": "histogram2d"
           }
          ],
          "histogram2dcontour": [
           {
            "colorbar": {
             "outlinewidth": 0,
             "ticks": ""
            },
            "colorscale": [
             [
              0,
              "#0d0887"
             ],
             [
              0.1111111111111111,
              "#46039f"
             ],
             [
              0.2222222222222222,
              "#7201a8"
             ],
             [
              0.3333333333333333,
              "#9c179e"
             ],
             [
              0.4444444444444444,
              "#bd3786"
             ],
             [
              0.5555555555555556,
              "#d8576b"
             ],
             [
              0.6666666666666666,
              "#ed7953"
             ],
             [
              0.7777777777777778,
              "#fb9f3a"
             ],
             [
              0.8888888888888888,
              "#fdca26"
             ],
             [
              1,
              "#f0f921"
             ]
            ],
            "type": "histogram2dcontour"
           }
          ],
          "mesh3d": [
           {
            "colorbar": {
             "outlinewidth": 0,
             "ticks": ""
            },
            "type": "mesh3d"
           }
          ],
          "parcoords": [
           {
            "line": {
             "colorbar": {
              "outlinewidth": 0,
              "ticks": ""
             }
            },
            "type": "parcoords"
           }
          ],
          "pie": [
           {
            "automargin": true,
            "type": "pie"
           }
          ],
          "scatter": [
           {
            "fillpattern": {
             "fillmode": "overlay",
             "size": 10,
             "solidity": 0.2
            },
            "type": "scatter"
           }
          ],
          "scatter3d": [
           {
            "line": {
             "colorbar": {
              "outlinewidth": 0,
              "ticks": ""
             }
            },
            "marker": {
             "colorbar": {
              "outlinewidth": 0,
              "ticks": ""
             }
            },
            "type": "scatter3d"
           }
          ],
          "scattercarpet": [
           {
            "marker": {
             "colorbar": {
              "outlinewidth": 0,
              "ticks": ""
             }
            },
            "type": "scattercarpet"
           }
          ],
          "scattergeo": [
           {
            "marker": {
             "colorbar": {
              "outlinewidth": 0,
              "ticks": ""
             }
            },
            "type": "scattergeo"
           }
          ],
          "scattergl": [
           {
            "marker": {
             "colorbar": {
              "outlinewidth": 0,
              "ticks": ""
             }
            },
            "type": "scattergl"
           }
          ],
          "scattermapbox": [
           {
            "marker": {
             "colorbar": {
              "outlinewidth": 0,
              "ticks": ""
             }
            },
            "type": "scattermapbox"
           }
          ],
          "scatterpolar": [
           {
            "marker": {
             "colorbar": {
              "outlinewidth": 0,
              "ticks": ""
             }
            },
            "type": "scatterpolar"
           }
          ],
          "scatterpolargl": [
           {
            "marker": {
             "colorbar": {
              "outlinewidth": 0,
              "ticks": ""
             }
            },
            "type": "scatterpolargl"
           }
          ],
          "scatterternary": [
           {
            "marker": {
             "colorbar": {
              "outlinewidth": 0,
              "ticks": ""
             }
            },
            "type": "scatterternary"
           }
          ],
          "surface": [
           {
            "colorbar": {
             "outlinewidth": 0,
             "ticks": ""
            },
            "colorscale": [
             [
              0,
              "#0d0887"
             ],
             [
              0.1111111111111111,
              "#46039f"
             ],
             [
              0.2222222222222222,
              "#7201a8"
             ],
             [
              0.3333333333333333,
              "#9c179e"
             ],
             [
              0.4444444444444444,
              "#bd3786"
             ],
             [
              0.5555555555555556,
              "#d8576b"
             ],
             [
              0.6666666666666666,
              "#ed7953"
             ],
             [
              0.7777777777777778,
              "#fb9f3a"
             ],
             [
              0.8888888888888888,
              "#fdca26"
             ],
             [
              1,
              "#f0f921"
             ]
            ],
            "type": "surface"
           }
          ],
          "table": [
           {
            "cells": {
             "fill": {
              "color": "#EBF0F8"
             },
             "line": {
              "color": "white"
             }
            },
            "header": {
             "fill": {
              "color": "#C8D4E3"
             },
             "line": {
              "color": "white"
             }
            },
            "type": "table"
           }
          ]
         },
         "layout": {
          "annotationdefaults": {
           "arrowcolor": "#2a3f5f",
           "arrowhead": 0,
           "arrowwidth": 1
          },
          "autotypenumbers": "strict",
          "coloraxis": {
           "colorbar": {
            "outlinewidth": 0,
            "ticks": ""
           }
          },
          "colorscale": {
           "diverging": [
            [
             0,
             "#8e0152"
            ],
            [
             0.1,
             "#c51b7d"
            ],
            [
             0.2,
             "#de77ae"
            ],
            [
             0.3,
             "#f1b6da"
            ],
            [
             0.4,
             "#fde0ef"
            ],
            [
             0.5,
             "#f7f7f7"
            ],
            [
             0.6,
             "#e6f5d0"
            ],
            [
             0.7,
             "#b8e186"
            ],
            [
             0.8,
             "#7fbc41"
            ],
            [
             0.9,
             "#4d9221"
            ],
            [
             1,
             "#276419"
            ]
           ],
           "sequential": [
            [
             0,
             "#0d0887"
            ],
            [
             0.1111111111111111,
             "#46039f"
            ],
            [
             0.2222222222222222,
             "#7201a8"
            ],
            [
             0.3333333333333333,
             "#9c179e"
            ],
            [
             0.4444444444444444,
             "#bd3786"
            ],
            [
             0.5555555555555556,
             "#d8576b"
            ],
            [
             0.6666666666666666,
             "#ed7953"
            ],
            [
             0.7777777777777778,
             "#fb9f3a"
            ],
            [
             0.8888888888888888,
             "#fdca26"
            ],
            [
             1,
             "#f0f921"
            ]
           ],
           "sequentialminus": [
            [
             0,
             "#0d0887"
            ],
            [
             0.1111111111111111,
             "#46039f"
            ],
            [
             0.2222222222222222,
             "#7201a8"
            ],
            [
             0.3333333333333333,
             "#9c179e"
            ],
            [
             0.4444444444444444,
             "#bd3786"
            ],
            [
             0.5555555555555556,
             "#d8576b"
            ],
            [
             0.6666666666666666,
             "#ed7953"
            ],
            [
             0.7777777777777778,
             "#fb9f3a"
            ],
            [
             0.8888888888888888,
             "#fdca26"
            ],
            [
             1,
             "#f0f921"
            ]
           ]
          },
          "colorway": [
           "#636efa",
           "#EF553B",
           "#00cc96",
           "#ab63fa",
           "#FFA15A",
           "#19d3f3",
           "#FF6692",
           "#B6E880",
           "#FF97FF",
           "#FECB52"
          ],
          "font": {
           "color": "#2a3f5f"
          },
          "geo": {
           "bgcolor": "white",
           "lakecolor": "white",
           "landcolor": "#E5ECF6",
           "showlakes": true,
           "showland": true,
           "subunitcolor": "white"
          },
          "hoverlabel": {
           "align": "left"
          },
          "hovermode": "closest",
          "mapbox": {
           "style": "light"
          },
          "paper_bgcolor": "white",
          "plot_bgcolor": "#E5ECF6",
          "polar": {
           "angularaxis": {
            "gridcolor": "white",
            "linecolor": "white",
            "ticks": ""
           },
           "bgcolor": "#E5ECF6",
           "radialaxis": {
            "gridcolor": "white",
            "linecolor": "white",
            "ticks": ""
           }
          },
          "scene": {
           "xaxis": {
            "backgroundcolor": "#E5ECF6",
            "gridcolor": "white",
            "gridwidth": 2,
            "linecolor": "white",
            "showbackground": true,
            "ticks": "",
            "zerolinecolor": "white"
           },
           "yaxis": {
            "backgroundcolor": "#E5ECF6",
            "gridcolor": "white",
            "gridwidth": 2,
            "linecolor": "white",
            "showbackground": true,
            "ticks": "",
            "zerolinecolor": "white"
           },
           "zaxis": {
            "backgroundcolor": "#E5ECF6",
            "gridcolor": "white",
            "gridwidth": 2,
            "linecolor": "white",
            "showbackground": true,
            "ticks": "",
            "zerolinecolor": "white"
           }
          },
          "shapedefaults": {
           "line": {
            "color": "#2a3f5f"
           }
          },
          "ternary": {
           "aaxis": {
            "gridcolor": "white",
            "linecolor": "white",
            "ticks": ""
           },
           "baxis": {
            "gridcolor": "white",
            "linecolor": "white",
            "ticks": ""
           },
           "bgcolor": "#E5ECF6",
           "caxis": {
            "gridcolor": "white",
            "linecolor": "white",
            "ticks": ""
           }
          },
          "title": {
           "x": 0.05
          },
          "xaxis": {
           "automargin": true,
           "gridcolor": "white",
           "linecolor": "white",
           "ticks": "",
           "title": {
            "standoff": 15
           },
           "zerolinecolor": "white",
           "zerolinewidth": 2
          },
          "yaxis": {
           "automargin": true,
           "gridcolor": "white",
           "linecolor": "white",
           "ticks": "",
           "title": {
            "standoff": 15
           },
           "zerolinecolor": "white",
           "zerolinewidth": 2
          }
         }
        },
        "title": {
         "text": "Grenoble"
        },
        "width": 800
       }
      }
     },
     "metadata": {},
     "output_type": "display_data"
    }
   ],
   "source": [
    "for id , city in top_5_cities.values:\n",
    "     mask = df_booking_weather[\"city_id\"] == id\n",
    "     df = df_booking_weather.loc[mask,:].head(20)\n",
    "     fig = px.scatter_mapbox(\n",
    "          df,\n",
    "          lat = \"lat_hotel\",\n",
    "          lon = \"long_hotel\",\n",
    "          color = \"score\",\n",
    "          hover_name = \"name_hotel\",\n",
    "          hover_data = ['url'],\n",
    "          zoom = 8,\n",
    "          mapbox_style = \"open-street-map\",\n",
    "          width = 800,\n",
    "          title = f'{city}')\n",
    "     fig.show()\n",
    "     "
   ]
  },
  {
   "cell_type": "markdown",
   "id": "b71d6776",
   "metadata": {},
   "source": [
    "Create a data lake using S3"
   ]
  },
  {
   "cell_type": "code",
   "execution_count": 37,
   "id": "7d8b9557",
   "metadata": {},
   "outputs": [],
   "source": [
    "from credentials import MY_ACCESS_KEY_ID, MY_SECRET_ACCESS_KEY\n",
    "\n",
    "# create a Boto3 session\n",
    "session = boto3.Session(aws_access_key_id = MY_ACCESS_KEY_ID, \n",
    "                        aws_secret_access_key = MY_SECRET_ACCESS_KEY)"
   ]
  },
  {
   "cell_type": "code",
   "execution_count": 38,
   "id": "9aad6d98",
   "metadata": {},
   "outputs": [],
   "source": [
    "# create a resource session\n",
    "s3 = session.resource(\"s3\")"
   ]
  },
  {
   "cell_type": "code",
   "execution_count": 95,
   "id": "791e11b6",
   "metadata": {},
   "outputs": [],
   "source": [
    "# Create a Bucket \n",
    "bucket_booking =s3.create_bucket(Bucket=\"booking-cities-weather\")"
   ]
  },
  {
   "cell_type": "code",
   "execution_count": 97,
   "id": "4cb600e0",
   "metadata": {},
   "outputs": [],
   "source": [
    "# to export your DataFrame as a csv file\n",
    "csv = df_booking_weather.to_csv()"
   ]
  },
  {
   "cell_type": "code",
   "execution_count": 108,
   "id": "e060173b",
   "metadata": {},
   "outputs": [],
   "source": [
    "# put_object() function to create an Object within the bucket \n",
    "put_object = bucket_booking.put_object(Key=\"booking_weather_s3.csv\", Body=csv)"
   ]
  },
  {
   "cell_type": "markdown",
   "id": "05de82aa",
   "metadata": {},
   "source": [
    "create a SQL Database using AWS RDS, extract your data from S3 and store it in your newly created DB."
   ]
  },
  {
   "cell_type": "code",
   "execution_count": 42,
   "id": "0f36b1a5",
   "metadata": {},
   "outputs": [],
   "source": [
    "# Create an sqlalchemy engine that is connected to your AWS RDS instance\n",
    "\n",
    "from credentials import USERNAME_DB, PASSWORD_DB, HOSTNAME_DB\n",
    "\n",
    "USERNAME = USERNAME_DB\n",
    "PASSWORD = PASSWORD_DB\n",
    "HOSTNAME = HOSTNAME_DB\n",
    "\n",
    "engine = create_engine(f\"postgresql+psycopg2://{USERNAME}:{PASSWORD}@{HOSTNAME}/postgres\", echo=True)"
   ]
  },
  {
   "cell_type": "code",
   "execution_count": 109,
   "id": "ef21887a",
   "metadata": {},
   "outputs": [
    {
     "name": "stdout",
     "output_type": "stream",
     "text": [
      "booking_weather.csv\n",
      "booking_weather_s3.csv\n"
     ]
    }
   ],
   "source": [
    "for my_bucket_object in bucket_booking.objects.all(): # list all files in bucket\n",
    "    print(my_bucket_object.key)"
   ]
  },
  {
   "cell_type": "code",
   "execution_count": 111,
   "id": "bf8b0523",
   "metadata": {},
   "outputs": [],
   "source": [
    "# extract your data from S3\n",
    "bucket_booking.download_file('booking_weather.csv', 'src/booking_weather_s3.csv')"
   ]
  },
  {
   "cell_type": "code",
   "execution_count": 112,
   "id": "3132703c",
   "metadata": {},
   "outputs": [
    {
     "name": "stdout",
     "output_type": "stream",
     "text": [
      "2022-10-14 13:20:16,757 INFO sqlalchemy.engine.Engine select relname from pg_class c join pg_namespace n on n.oid=c.relnamespace where pg_catalog.pg_table_is_visible(c.oid) and relname=%(name)s\n",
      "2022-10-14 13:20:16,758 INFO sqlalchemy.engine.Engine [cached since 3384s ago] {'name': 'booking_cities_weather'}\n",
      "2022-10-14 13:20:16,847 INFO sqlalchemy.engine.Engine BEGIN (implicit)\n",
      "2022-10-14 13:20:16,850 INFO sqlalchemy.engine.Engine \n",
      "CREATE TABLE booking_cities_weather (\n",
      "\tindex BIGINT, \n",
      "\turl TEXT, \n",
      "\tcity_id BIGINT, \n",
      "\tname_hotel TEXT, \n",
      "\tscore FLOAT(53), \n",
      "\ttext_description TEXT, \n",
      "\tcity TEXT, \n",
      "\tlatitude FLOAT(53), \n",
      "\tlongitude FLOAT(53), \n",
      "\ttemperature FLOAT(53), \n",
      "\tclear_weather FLOAT(53), \n",
      "\tlong_hotel FLOAT(53), \n",
      "\tlat_hotel FLOAT(53)\n",
      ")\n",
      "\n",
      "\n",
      "2022-10-14 13:20:16,851 INFO sqlalchemy.engine.Engine [no key 0.00098s] {}\n",
      "2022-10-14 13:20:16,939 INFO sqlalchemy.engine.Engine CREATE INDEX ix_booking_cities_weather_index ON booking_cities_weather (index)\n",
      "2022-10-14 13:20:16,941 INFO sqlalchemy.engine.Engine [no key 0.00213s] {}\n",
      "2022-10-14 13:20:16,976 INFO sqlalchemy.engine.Engine COMMIT\n",
      "2022-10-14 13:20:17,013 INFO sqlalchemy.engine.Engine BEGIN (implicit)\n",
      "2022-10-14 13:20:17,030 INFO sqlalchemy.engine.Engine INSERT INTO booking_cities_weather (index, url, city_id, name_hotel, score, text_description, city, latitude, longitude, temperature, clear_weather, long_hotel, lat_hotel) VALUES (%(index)s, %(url)s, %(city_id)s, %(name_hotel)s, %(score)s, %(text_description)s, %(city)s, %(latitude)s, %(longitude)s, %(temperature)s, %(clear_weather)s, %(long_hotel)s, %(lat_hotel)s)\n",
      "2022-10-14 13:20:17,032 INFO sqlalchemy.engine.Engine [generated in 0.01415s] ({'index': 0, 'url': 'https://www.booking.com/hotel/fr/express-by-holiday-inn.fr.html', 'city_id': 297534793, 'name_hotel': 'Holiday Inn Express Amiens, an IHG Hotel', 'score': 7.9, 'text_description': 'Rénové en avril 2015, le Holiday Inn Express Amiens comprend des chambres confortables avec une connexion Wi-Fi gratuite. Vous séjournerez dans le ce ... (507 characters truncated) ... passage et de blanchisserie. Situé dans les environs, un parking public souterrain est accessible aux voitures d’une hauteur maximale de 1,80 mètre. ', 'city': 'Amiens', 'latitude': 49.8941708, 'longitude': 2.2956951, 'temperature': 18.958571428571428, 'clear_weather': 28.571428571428573, 'long_hotel': 2.30775386095047, 'lat_hotel': 49.8916761979058}, {'index': 1, 'url': 'https://www.booking.com/hotel/fr/le-cange.fr.html', 'city_id': 297534793, 'name_hotel': 'LE CANGE', 'score': 9.5, 'text_description': \"Doté d'un jardin et d'une terrasse, l'établissement LE CANGE propose des hébergements à Amiens avec une connexion Wi-Fi gratuite et une vue sur le ja ... (339 characters truncated) ... parc des jardins flottants, du musée Berny et du tribunal de grande instance d'Amiens. L'aéroport d'Abbeville, le plus proche, est implanté à 56 km. \", 'city': 'Amiens', 'latitude': 49.8941708, 'longitude': 2.2956951, 'temperature': 18.958571428571428, 'clear_weather': 28.571428571428573, 'long_hotel': 2.306378, 'lat_hotel': 49.896384}, {'index': 2, 'url': 'https://www.booking.com/hotel/fr/cocon-perche-duplex-au-coeur-de-la-ville.fr.html', 'city_id': 297534793, 'name_hotel': 'Cocon perché, duplex au coeur de la ville', 'score': 9.0, 'text_description': \"Le Cocon perché, duplex au coeur de la ville propose un hébergement avec connexion Wi-Fi gratuite à Amiens, à 400 mètres de la gare, à 4 km du Zénith ... (170 characters truncated) ... nd une chambre, une télévision à écran plat et une cuisine. Vous séjournerez à 600 mètres du musée Berny et du tribunal de grande instance d'Amiens. \", 'city': 'Amiens', 'latitude': 49.8941708, 'longitude': 2.2956951, 'temperature': 18.958571428571428, 'clear_weather': 28.571428571428573, 'long_hotel': 2.308479, 'lat_hotel': 49.8927393}, {'index': 3, 'url': 'https://www.booking.com/hotel/fr/grand-appart-terrasse-parking-design.fr.html', 'city_id': 297534793, 'name_hotel': 'GRAND APPART TERRASSE PARKING DESIGN', 'score': None, 'text_description': \"GRAND APPART TERRASSE PARKING DESIGN in Amiens offers accommodation with free WiFi, 3.2 km from Amiens Train Station, 3.1 km from Berny's Museum and  ... (394 characters truncated) ... al de Grande Instance of Amiens is 3.9 km away. The nearest airport is Aerodrome Abbeville Airport, 58 km from GRAND APPART TERRASSE PARKING DESIGN. \", 'city': 'Amiens', 'latitude': 49.8941708, 'longitude': 2.2956951, 'temperature': 18.958571428571428, 'clear_weather': 28.571428571428573, 'long_hotel': 2.27966, 'lat_hotel': 49.884472}, {'index': 4, 'url': 'https://www.booking.com/hotel/fr/le-toit-des-federes.fr.html', 'city_id': 297534793, 'name_hotel': 'Le toit des Fédérés', 'score': 8.0, 'text_description': \"Vous pouvez bénéficier d'une réduction Genius dans l'établissement Le toit des Fédérés\\xa0!   pour économiser. Situé à Amiens, à seulement 1,3 km du  ... (483 characters truncated) ... ont fournis. Vous séjournerez à 2,3 km de la gare d'Amiens et à 1,7 km du musée Berny. L'aéroport d'Abbeville, le plus proche, est implanté à 57 km. \", 'city': 'Amiens', 'latitude': 49.8941708, 'longitude': 2.2956951, 'temperature': 18.958571428571428, 'clear_weather': 28.571428571428573, 'long_hotel': 2.2825902, 'lat_hotel': 49.8965252}, {'index': 5, 'url': 'https://www.booking.com/hotel/fr/le-perret-cathedrale-b-amp-b-inn-centre-ville-wifi-netflix.fr.html', 'city_id': 297534793, 'name_hotel': 'LE PERRET-CATHEDRALE B&B INN Centre-Ville WIFI NETFLIX', 'score': 8.6, 'text_description': \"Situé à Amiens, à 1,3 km de la gare et à 3,4 km du Zénith, l'établissement LE PERRET-CATHEDRALE B&B INN Centre-Ville WIFI NETFLIX propose des héberge ... (494 characters truncated) ... parc des jardins flottants, le musée Berny et le tribunal de grande instance d'Amiens. L'aéroport d'Abbeville, le plus proche, est implanté à 56 km. \", 'city': 'Amiens', 'latitude': 49.8941708, 'longitude': 2.2956951, 'temperature': 18.958571428571428, 'clear_weather': 28.571428571428573, 'long_hotel': 2.3011536, 'lat_hotel': 49.8979842}, {'index': 6, 'url': 'https://www.booking.com/hotel/fr/comme-une-parenthese-au-coeur-des-hortillonnages.fr.html', 'city_id': 297534793, 'name_hotel': 'Comme une parenthèse au coeur des hortillonnages', 'score': 9.0, 'text_description': \"Vous pouvez bénéficier d'une réduction Genius dans l'établissement Comme une parenthèse au coeur des hortillonnages\\xa0!   pour économiser. Situé à A ... (817 characters truncated) ... séjournerez à 5,5 km du Zénith d'Amiens et à 2 km du parc des jardins flottants. L'aéroport le plus proche est celui Aérodrome d'Abbeville, à 62 km. \", 'city': 'Amiens', 'latitude': 49.8941708, 'longitude': 2.2956951, 'temperature': 18.958571428571428, 'clear_weather': 28.571428571428573, 'long_hotel': 2.33134900000005, 'lat_hotel': 49.888542}, {'index': 7, 'url': 'https://www.booking.com/hotel/fr/amiens-loft.fr.html', 'city_id': 297534793, 'name_hotel': 'Amiens LOFT', 'score': 9.3, 'text_description': \"Vous pouvez bénéficier d'une réduction Genius dans l'établissement Amiens LOFT\\xa0!   pour économiser. L'Amiens LOFT propose un appartement dans le q ... (458 characters truncated) ... lusieurs commerces et restaurants. L'Amiens LOFT se situe à 500 mètres des hortillonnages d'Amiens et à 51 km de l'aéroport de Paris Beauvais Tillé. \", 'city': 'Amiens', 'latitude': 49.8941708, 'longitude': 2.2956951, 'temperature': 18.958571428571428, 'clear_weather': 28.571428571428573, 'long_hotel': 2.30412349104881, 'lat_hotel': 49.895825189742}  ... displaying 10 of 875 total bound parameter sets ...  {'index': 873, 'url': 'https://www.booking.com/hotel/fr/altica-la-rochelle.fr.html', 'city_id': 297653650, 'name_hotel': 'B&B HOTEL La Rochelle Centre Les Minimes', 'score': 7.6, 'text_description': \"Vous pouvez bénéficier d'une réduction Genius dans l'établissement B&B HOTEL La Rochelle Centre Les Minimes\\xa0!   pour économiser. Le B&B HOTEL La R ... (397 characters truncated) ... divers lieux d’intérêt, notamment à 400 mètres du Musée Maritime et à 800 mètres de l’Aquarium La Rochelle, où vivent plus de 12 000 animaux marins. \", 'city': 'La Rochelle', 'latitude': 46.1591126, 'longitude': -1.1520434, 'temperature': 19.767142857142854, 'clear_weather': 5.0, 'long_hotel': -1.15375220775604, 'lat_hotel': 46.1493906601131}, {'index': 874, 'url': 'https://www.booking.com/hotel/fr/appartement-avec-cour-privee-centre-ville-classe-4-etoiles.fr.html', 'city_id': 297653650, 'name_hotel': 'Appartement avec cour privée Centre ville Classé 4 étoiles', 'score': 9.0, 'text_description': \"Situé à La Rochelle, à 200 mètres de la Concurrence, à 1,6 km de la gare et de l'Espace Encan, l'Appartement avec cour privée Centre ville Classé 4 é ... (579 characters truncated) ...  du parc des expositions de La Rochelle, de la Grosse Horloge et du parc Charruyer. L'aéroport de La Rochelle-Île de Ré, le plus proche, est à 5 km. \", 'city': 'La Rochelle', 'latitude': 46.1591126, 'longitude': -1.1520434, 'temperature': 19.767142857142854, 'clear_weather': 5.0, 'long_hotel': -1.1583862, 'lat_hotel': 46.1558467})\n",
      "2022-10-14 13:20:56,629 INFO sqlalchemy.engine.Engine COMMIT\n"
     ]
    },
    {
     "data": {
      "text/plain": [
       "875"
      ]
     },
     "execution_count": 112,
     "metadata": {},
     "output_type": "execute_result"
    }
   ],
   "source": [
    "df = pd.read_csv('src/booking_weather_s3.csv', index_col=0)\n",
    "# sCreate a table in your remote database containing the information of the dataset\n",
    "df.to_sql(\n",
    "    \"booking_cities_weather\",\n",
    "    engine\n",
    ")"
   ]
  },
  {
   "cell_type": "code",
   "execution_count": 113,
   "id": "eb68564c",
   "metadata": {},
   "outputs": [
    {
     "name": "stdout",
     "output_type": "stream",
     "text": [
      "2022-10-14 13:21:25,560 INFO sqlalchemy.engine.Engine select relname from pg_class c join pg_namespace n on n.oid=c.relnamespace where pg_catalog.pg_table_is_visible(c.oid) and relname=%(name)s\n",
      "2022-10-14 13:21:25,564 INFO sqlalchemy.engine.Engine [cached since 3452s ago] {'name': 'SELECT DISTINCT city FROM booking_cities_weather'}\n",
      "2022-10-14 13:21:25,676 INFO sqlalchemy.engine.Engine SELECT DISTINCT city FROM booking_cities_weather\n",
      "2022-10-14 13:21:25,679 INFO sqlalchemy.engine.Engine [cached since 2217s ago] {}\n"
     ]
    },
    {
     "data": {
      "text/html": [
       "<div>\n",
       "<style scoped>\n",
       "    .dataframe tbody tr th:only-of-type {\n",
       "        vertical-align: middle;\n",
       "    }\n",
       "\n",
       "    .dataframe tbody tr th {\n",
       "        vertical-align: top;\n",
       "    }\n",
       "\n",
       "    .dataframe thead th {\n",
       "        text-align: right;\n",
       "    }\n",
       "</style>\n",
       "<table border=\"1\" class=\"dataframe\">\n",
       "  <thead>\n",
       "    <tr style=\"text-align: right;\">\n",
       "      <th></th>\n",
       "      <th>city</th>\n",
       "    </tr>\n",
       "  </thead>\n",
       "  <tbody>\n",
       "    <tr>\n",
       "      <th>0</th>\n",
       "      <td>Bayonne</td>\n",
       "    </tr>\n",
       "    <tr>\n",
       "      <th>1</th>\n",
       "      <td>Aigues Mortes</td>\n",
       "    </tr>\n",
       "    <tr>\n",
       "      <th>2</th>\n",
       "      <td>Strasbourg</td>\n",
       "    </tr>\n",
       "    <tr>\n",
       "      <th>3</th>\n",
       "      <td>Toulouse</td>\n",
       "    </tr>\n",
       "    <tr>\n",
       "      <th>4</th>\n",
       "      <td>La Rochelle</td>\n",
       "    </tr>\n",
       "    <tr>\n",
       "      <th>5</th>\n",
       "      <td>Uzes</td>\n",
       "    </tr>\n",
       "    <tr>\n",
       "      <th>6</th>\n",
       "      <td>Mont Saint Michel</td>\n",
       "    </tr>\n",
       "    <tr>\n",
       "      <th>7</th>\n",
       "      <td>Paris</td>\n",
       "    </tr>\n",
       "    <tr>\n",
       "      <th>8</th>\n",
       "      <td>Avignon</td>\n",
       "    </tr>\n",
       "    <tr>\n",
       "      <th>9</th>\n",
       "      <td>Aix en Provence</td>\n",
       "    </tr>\n",
       "    <tr>\n",
       "      <th>10</th>\n",
       "      <td>Dijon</td>\n",
       "    </tr>\n",
       "    <tr>\n",
       "      <th>11</th>\n",
       "      <td>Lyon</td>\n",
       "    </tr>\n",
       "    <tr>\n",
       "      <th>12</th>\n",
       "      <td>Lille</td>\n",
       "    </tr>\n",
       "    <tr>\n",
       "      <th>13</th>\n",
       "      <td>Nimes</td>\n",
       "    </tr>\n",
       "    <tr>\n",
       "      <th>14</th>\n",
       "      <td>Carcassonne</td>\n",
       "    </tr>\n",
       "    <tr>\n",
       "      <th>15</th>\n",
       "      <td>Chateau du Haut Koenigsbourg</td>\n",
       "    </tr>\n",
       "    <tr>\n",
       "      <th>16</th>\n",
       "      <td>Montauban</td>\n",
       "    </tr>\n",
       "    <tr>\n",
       "      <th>17</th>\n",
       "      <td>Collioure</td>\n",
       "    </tr>\n",
       "    <tr>\n",
       "      <th>18</th>\n",
       "      <td>Rouen</td>\n",
       "    </tr>\n",
       "    <tr>\n",
       "      <th>19</th>\n",
       "      <td>Biarritz</td>\n",
       "    </tr>\n",
       "    <tr>\n",
       "      <th>20</th>\n",
       "      <td>Le Havre</td>\n",
       "    </tr>\n",
       "    <tr>\n",
       "      <th>21</th>\n",
       "      <td>Amiens</td>\n",
       "    </tr>\n",
       "    <tr>\n",
       "      <th>22</th>\n",
       "      <td>Grenoble</td>\n",
       "    </tr>\n",
       "    <tr>\n",
       "      <th>23</th>\n",
       "      <td>Besancon</td>\n",
       "    </tr>\n",
       "    <tr>\n",
       "      <th>24</th>\n",
       "      <td>St Malo</td>\n",
       "    </tr>\n",
       "    <tr>\n",
       "      <th>25</th>\n",
       "      <td>Cassis</td>\n",
       "    </tr>\n",
       "    <tr>\n",
       "      <th>26</th>\n",
       "      <td>Gorges du Verdon</td>\n",
       "    </tr>\n",
       "    <tr>\n",
       "      <th>27</th>\n",
       "      <td>Eguisheim</td>\n",
       "    </tr>\n",
       "    <tr>\n",
       "      <th>28</th>\n",
       "      <td>Bayeux</td>\n",
       "    </tr>\n",
       "    <tr>\n",
       "      <th>29</th>\n",
       "      <td>Bormes les Mimosas</td>\n",
       "    </tr>\n",
       "    <tr>\n",
       "      <th>30</th>\n",
       "      <td>Ariege</td>\n",
       "    </tr>\n",
       "    <tr>\n",
       "      <th>31</th>\n",
       "      <td>Saintes Maries de la mer</td>\n",
       "    </tr>\n",
       "    <tr>\n",
       "      <th>32</th>\n",
       "      <td>Annecy</td>\n",
       "    </tr>\n",
       "    <tr>\n",
       "      <th>33</th>\n",
       "      <td>Colmar</td>\n",
       "    </tr>\n",
       "    <tr>\n",
       "      <th>34</th>\n",
       "      <td>Marseille</td>\n",
       "    </tr>\n",
       "  </tbody>\n",
       "</table>\n",
       "</div>"
      ],
      "text/plain": [
       "                            city\n",
       "0                        Bayonne\n",
       "1                  Aigues Mortes\n",
       "2                     Strasbourg\n",
       "3                       Toulouse\n",
       "4                    La Rochelle\n",
       "5                           Uzes\n",
       "6              Mont Saint Michel\n",
       "7                          Paris\n",
       "8                        Avignon\n",
       "9                Aix en Provence\n",
       "10                         Dijon\n",
       "11                          Lyon\n",
       "12                         Lille\n",
       "13                         Nimes\n",
       "14                   Carcassonne\n",
       "15  Chateau du Haut Koenigsbourg\n",
       "16                     Montauban\n",
       "17                     Collioure\n",
       "18                         Rouen\n",
       "19                      Biarritz\n",
       "20                      Le Havre\n",
       "21                        Amiens\n",
       "22                      Grenoble\n",
       "23                      Besancon\n",
       "24                       St Malo\n",
       "25                        Cassis\n",
       "26              Gorges du Verdon\n",
       "27                     Eguisheim\n",
       "28                        Bayeux\n",
       "29            Bormes les Mimosas\n",
       "30                        Ariege\n",
       "31      Saintes Maries de la mer\n",
       "32                        Annecy\n",
       "33                        Colmar\n",
       "34                     Marseille"
      ]
     },
     "execution_count": 113,
     "metadata": {},
     "output_type": "execute_result"
    }
   ],
   "source": [
    "# Create a statement \n",
    "# Within the text() method is a SQL query. Check out our SQL reminder course if you feel a little rusty\n",
    "stmt = text(\"SELECT DISTINCT city FROM booking_cities_weather\")\n",
    "\n",
    "# Read a dataFrame using SQL\n",
    "\n",
    "df_cities = pd.read_sql(\n",
    "        stmt,\n",
    "        engine\n",
    "    )               \n",
    "\n",
    "df_cities"
   ]
  }
 ],
 "metadata": {
  "kernelspec": {
   "display_name": "Python 3.10.4 ('venv': venv)",
   "language": "python",
   "name": "python3"
  },
  "language_info": {
   "codemirror_mode": {
    "name": "ipython",
    "version": 3
   },
   "file_extension": ".py",
   "mimetype": "text/x-python",
   "name": "python",
   "nbconvert_exporter": "python",
   "pygments_lexer": "ipython3",
   "version": "3.10.4"
  },
  "vscode": {
   "interpreter": {
    "hash": "f3eba2feea660b87d73c35b595a4436ac02e76341c0153ec8cc0cc68f3fbc657"
   }
  }
 },
 "nbformat": 4,
 "nbformat_minor": 5
}
