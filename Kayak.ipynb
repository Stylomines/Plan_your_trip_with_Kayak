{
 "cells": [
  {
   "cell_type": "markdown",
   "id": "56366ef3-ff5f-441c-9e1a-cf2f98559b81",
   "metadata": {},
   "source": [
    "As the project has just started, your team doesn't have any data that can be used to create this application. Therefore, your job will be to:\n",
    "\n",
    "Scrape data from destinations\n",
    "Get weather data from each destination\n",
    "Get hotels' info about each destination\n",
    "Store all the information above in a data lake\n",
    "Extract, transform and load cleaned data from your datalake to a data warehouse"
   ]
  },
  {
   "cell_type": "code",
   "execution_count": 1,
   "id": "0bd41f97",
   "metadata": {},
   "outputs": [],
   "source": [
    "# import libraries\n",
    "import requests\n",
    "import json\n",
    "import pandas as pd\n",
    "from statistics import mean"
   ]
  },
  {
   "cell_type": "markdown",
   "id": "0579b55b-148f-47ec-97ce-7ed56fda8580",
   "metadata": {},
   "source": [
    "Marketing team wants to focus first on the best cities to travel to in France. According One Week In.com here are the top-35 cities to visit in France:"
   ]
  },
  {
   "cell_type": "code",
   "execution_count": 2,
   "id": "3f82c48e-1ca2-4282-88be-4c44272b548d",
   "metadata": {},
   "outputs": [],
   "source": [
    "# liste des villes étudiées\n",
    "\n",
    "top_35_cities = [\"Mont Saint Michel\",\n",
    "\"St Malo\",\n",
    "\"Bayeux\",\n",
    "\"Le Havre\",\n",
    "\"Rouen\",\n",
    "\"Paris\",\n",
    "\"Amiens\",\n",
    "\"Lille\",\n",
    "\"Strasbourg\",\n",
    "\"Chateau du Haut Koenigsbourg\",\n",
    "\"Colmar\",\n",
    "\"Eguisheim\",\n",
    "\"Besancon\",\n",
    "\"Dijon\",\n",
    "\"Annecy\",\n",
    "\"Grenoble\",\n",
    "\"Lyon\",\n",
    "\"Gorges du Verdon\",\n",
    "\"Bormes les Mimosas\",\n",
    "\"Cassis\",\n",
    "\"Marseille\",\n",
    "\"Aix en Provence\",\n",
    "\"Avignon\",\n",
    "\"Uzes\",\n",
    "\"Nimes\",\n",
    "\"Aigues Mortes\",\n",
    "\"Saintes Maries de la mer\",\n",
    "\"Collioure\",\n",
    "\"Carcassonne\",\n",
    "\"Ariege\",\n",
    "\"Toulouse\",\n",
    "\"Montauban\",\n",
    "\"Biarritz\",\n",
    "\"Bayonne\",\n",
    "\"La Rochelle\"]"
   ]
  },
  {
   "cell_type": "code",
   "execution_count": 3,
   "id": "c064a403-3b84-4bf0-9ed9-2eecbec5e429",
   "metadata": {},
   "outputs": [
    {
     "name": "stdout",
     "output_type": "stream",
     "text": [
      "Response code: <Response [200]> \n",
      " \n",
      "\n"
     ]
    }
   ],
   "source": [
    "# scrapper la geolocalisation des villes\n",
    "# Use https://nominatim.org/ \n",
    "\n",
    "#  https://nominatim.openstreetmap.org/search?<params>\n",
    "endpoint = \"https://nominatim.openstreetmap.org\"\n",
    "\n",
    "response =  requests.get(endpoint)\n",
    "print(\"Response code:\",response,\"\\n \\n\")"
   ]
  },
  {
   "cell_type": "code",
   "execution_count": 7,
   "id": "740330c9-a809-48db-9aff-3912d7658ee0",
   "metadata": {},
   "outputs": [
    {
     "name": "stdout",
     "output_type": "stream",
     "text": [
      "Response code: <Response [200]> \n",
      " \n",
      "\n",
      "Response data:\n",
      "\n"
     ]
    },
    {
     "data": {
      "text/plain": [
       "b'[{\"place_id\":297389050,\"licence\":\"Data \\xc2\\xa9 OpenStreetMap contributors, ODbL 1.0. https://osm.org/copyright\",\"osm_type\":\"relation\",\"osm_id\":7439,\"boundingbox\":[\"42.5732416\",\"43.3162514\",\"0.8267506\",\"2.1758135\"],\"lat\":\"42.9455368\",\"lon\":\"1.4065544156065486\",\"display_name\":\"Ari\\xc3\\xa8ge, Occitanie, France m\\xc3\\xa9tropolitaine, France\",\"class\":\"boundary\",\"type\":\"administrative\",\"importance\":0.6009114788084189,\"icon\":\"https://nominatim.openstreetmap.org/ui/mapicons/poi_boundary_administrative.p.20.png\"},{\"place_id\":299422341,\"licence\":\"Data \\xc2\\xa9 OpenStreetMap contributors, ODbL 1.0. https://osm.org/copyright\",\"osm_type\":\"relation\",\"osm_id\":13625918,\"boundingbox\":[\"51.1624195\",\"51.199616\",\"-56.0111241\",\"-55.9723346\"],\"lat\":\"51.18111155\",\"lon\":\"-55.98447423947262\",\"display_name\":\"Ariege (Belvy) Bay, Main Brook, Newfoundland, Newfoundland and Labrador, Canada\",\"class\":\"natural\",\"type\":\"bay\",\"importance\":0.29999999999999993},{\"place_id\":135201531,\"licence\":\"Data \\xc2\\xa9 OpenStreetMap contributors, ODbL 1.0. https://osm.org/copyright\",\"osm_type\":\"way\",\"osm_id\":127723368,\"boundingbox\":[\"42.9888173\",\"42.9951993\",\"1.6111888\",\"1.6138685\"],\"lat\":\"42.9927428\",\"lon\":\"1.6124975\",\"display_name\":\"Ari\\xc3\\xa8ge, La Coudounmine, Vernajoul, Foix, Ari\\xc3\\xa8ge, Occitanie, France m\\xc3\\xa9tropolitaine, 09000, France\",\"class\":\"waterway\",\"type\":\"river\",\"importance\":0.275},{\"place_id\":134954225,\"licence\":\"Data \\xc2\\xa9 OpenStreetMap contributors, ODbL 1.0. https://osm.org/copyright\",\"osm_type\":\"way\",\"osm_id\":127723369,\"boundingbox\":[\"43.0102686\",\"43.0147622\",\"1.6090879\",\"1.6120971\"],\"lat\":\"43.0118351\",\"lon\":\"1.6101314\",\"display_name\":\"Ari\\xc3\\xa8ge, Saint-Jean-de-Verges, Foix, Ari\\xc3\\xa8ge, Occitanie, France m\\xc3\\xa9tropolitaine, 09000, France\",\"class\":\"waterway\",\"type\":\"canal\",\"importance\":0.25},{\"place_id\":341123577,\"licence\":\"Data \\xc2\\xa9 OpenStreetMap contributors, ODbL 1.0. https://osm.org/copyright\",\"osm_type\":\"node\",\"osm_id\":8170122312,\"boundingbox\":[\"48.4102606\",\"48.4103606\",\"2.7857668\",\"2.7858668\"],\"lat\":\"48.4103106\",\"lon\":\"2.7858168\",\"display_name\":\"Ariege, Place Greff\\xc3\\xbclhe, Thomery, Fontainebleau, Seine-et-Marne, \\xc3\\x8ele-de-France, France m\\xc3\\xa9tropolitaine, 77810, France\",\"class\":\"man_made\",\"type\":\"street_cabinet\",\"importance\":0.11010000000000002}]'"
      ]
     },
     "execution_count": 7,
     "metadata": {},
     "output_type": "execute_result"
    }
   ],
   "source": [
    "response =  requests.get(\"https://nominatim.openstreetmap.org/search?q=Ariege&format=json\")\n",
    "print(\"Response code:\",response,\"\\n \\n\")\n",
    "print(\"Response data:\\n\")\n",
    "response.content"
   ]
  },
  {
   "cell_type": "code",
   "execution_count": 8,
   "id": "5803dc75-9ed3-4ab3-a9cc-1099130e64e1",
   "metadata": {},
   "outputs": [
    {
     "data": {
      "text/plain": [
       "[{'place_id': 297389050,\n",
       "  'licence': 'Data © OpenStreetMap contributors, ODbL 1.0. https://osm.org/copyright',\n",
       "  'osm_type': 'relation',\n",
       "  'osm_id': 7439,\n",
       "  'boundingbox': ['42.5732416', '43.3162514', '0.8267506', '2.1758135'],\n",
       "  'lat': '42.9455368',\n",
       "  'lon': '1.4065544156065486',\n",
       "  'display_name': 'Ariège, Occitanie, France métropolitaine, France',\n",
       "  'class': 'boundary',\n",
       "  'type': 'administrative',\n",
       "  'importance': 0.6009114788084189,\n",
       "  'icon': 'https://nominatim.openstreetmap.org/ui/mapicons/poi_boundary_administrative.p.20.png'},\n",
       " {'place_id': 299422341,\n",
       "  'licence': 'Data © OpenStreetMap contributors, ODbL 1.0. https://osm.org/copyright',\n",
       "  'osm_type': 'relation',\n",
       "  'osm_id': 13625918,\n",
       "  'boundingbox': ['51.1624195', '51.199616', '-56.0111241', '-55.9723346'],\n",
       "  'lat': '51.18111155',\n",
       "  'lon': '-55.98447423947262',\n",
       "  'display_name': 'Ariege (Belvy) Bay, Main Brook, Newfoundland, Newfoundland and Labrador, Canada',\n",
       "  'class': 'natural',\n",
       "  'type': 'bay',\n",
       "  'importance': 0.29999999999999993},\n",
       " {'place_id': 135201531,\n",
       "  'licence': 'Data © OpenStreetMap contributors, ODbL 1.0. https://osm.org/copyright',\n",
       "  'osm_type': 'way',\n",
       "  'osm_id': 127723368,\n",
       "  'boundingbox': ['42.9888173', '42.9951993', '1.6111888', '1.6138685'],\n",
       "  'lat': '42.9927428',\n",
       "  'lon': '1.6124975',\n",
       "  'display_name': 'Ariège, La Coudounmine, Vernajoul, Foix, Ariège, Occitanie, France métropolitaine, 09000, France',\n",
       "  'class': 'waterway',\n",
       "  'type': 'river',\n",
       "  'importance': 0.275},\n",
       " {'place_id': 134954225,\n",
       "  'licence': 'Data © OpenStreetMap contributors, ODbL 1.0. https://osm.org/copyright',\n",
       "  'osm_type': 'way',\n",
       "  'osm_id': 127723369,\n",
       "  'boundingbox': ['43.0102686', '43.0147622', '1.6090879', '1.6120971'],\n",
       "  'lat': '43.0118351',\n",
       "  'lon': '1.6101314',\n",
       "  'display_name': 'Ariège, Saint-Jean-de-Verges, Foix, Ariège, Occitanie, France métropolitaine, 09000, France',\n",
       "  'class': 'waterway',\n",
       "  'type': 'canal',\n",
       "  'importance': 0.25},\n",
       " {'place_id': 341123577,\n",
       "  'licence': 'Data © OpenStreetMap contributors, ODbL 1.0. https://osm.org/copyright',\n",
       "  'osm_type': 'node',\n",
       "  'osm_id': 8170122312,\n",
       "  'boundingbox': ['48.4102606', '48.4103606', '2.7857668', '2.7858668'],\n",
       "  'lat': '48.4103106',\n",
       "  'lon': '2.7858168',\n",
       "  'display_name': 'Ariege, Place Greffülhe, Thomery, Fontainebleau, Seine-et-Marne, Île-de-France, France métropolitaine, 77810, France',\n",
       "  'class': 'man_made',\n",
       "  'type': 'street_cabinet',\n",
       "  'importance': 0.11010000000000002}]"
      ]
     },
     "execution_count": 8,
     "metadata": {},
     "output_type": "execute_result"
    }
   ],
   "source": [
    "response.json()"
   ]
  },
  {
   "cell_type": "code",
   "execution_count": 9,
   "id": "54abf0cc-b7d2-424e-8991-5bbfcc589301",
   "metadata": {},
   "outputs": [],
   "source": [
    "# intialisation dataframe vide\n",
    "df_cities = pd.DataFrame(columns = ['Id', 'City' , 'Latitude', 'Longitude'])"
   ]
  },
  {
   "cell_type": "code",
   "execution_count": 10,
   "id": "9dd32122-e0cd-45dd-8bc4-f80e2ca80b3d",
   "metadata": {},
   "outputs": [],
   "source": [
    "# parcours la liste des 35 cités\n",
    "for counter, city in enumerate(top_35_cities):\n",
    "    response =  requests.get(f\"https://nominatim.openstreetmap.org/search?q={city}&format=json\")\n",
    "    # Complète le dataframe\n",
    "    df_cities.loc[counter] = [response.json()[0]['place_id'],\n",
    "                              city,\n",
    "                              response.json()[0]['lat'],\n",
    "                              response.json()[0]['lon']]"
   ]
  },
  {
   "cell_type": "code",
   "execution_count": 11,
   "id": "adf5c144-91da-488e-947a-0046f930f671",
   "metadata": {},
   "outputs": [
    {
     "data": {
      "text/html": [
       "<div>\n",
       "<style scoped>\n",
       "    .dataframe tbody tr th:only-of-type {\n",
       "        vertical-align: middle;\n",
       "    }\n",
       "\n",
       "    .dataframe tbody tr th {\n",
       "        vertical-align: top;\n",
       "    }\n",
       "\n",
       "    .dataframe thead th {\n",
       "        text-align: right;\n",
       "    }\n",
       "</style>\n",
       "<table border=\"1\" class=\"dataframe\">\n",
       "  <thead>\n",
       "    <tr style=\"text-align: right;\">\n",
       "      <th></th>\n",
       "      <th>Id</th>\n",
       "      <th>City</th>\n",
       "      <th>Latitude</th>\n",
       "      <th>Longitude</th>\n",
       "    </tr>\n",
       "  </thead>\n",
       "  <tbody>\n",
       "    <tr>\n",
       "      <th>0</th>\n",
       "      <td>156094680</td>\n",
       "      <td>Mont Saint Michel</td>\n",
       "      <td>48.6359541</td>\n",
       "      <td>-1.511459954959514</td>\n",
       "    </tr>\n",
       "    <tr>\n",
       "      <th>1</th>\n",
       "      <td>297756747</td>\n",
       "      <td>St Malo</td>\n",
       "      <td>48.649518</td>\n",
       "      <td>-2.0260409</td>\n",
       "    </tr>\n",
       "    <tr>\n",
       "      <th>2</th>\n",
       "      <td>297981358</td>\n",
       "      <td>Bayeux</td>\n",
       "      <td>49.2764624</td>\n",
       "      <td>-0.7024738</td>\n",
       "    </tr>\n",
       "    <tr>\n",
       "      <th>3</th>\n",
       "      <td>298137491</td>\n",
       "      <td>Le Havre</td>\n",
       "      <td>49.4938975</td>\n",
       "      <td>0.1079732</td>\n",
       "    </tr>\n",
       "    <tr>\n",
       "      <th>4</th>\n",
       "      <td>297518815</td>\n",
       "      <td>Rouen</td>\n",
       "      <td>49.4404591</td>\n",
       "      <td>1.0939658</td>\n",
       "    </tr>\n",
       "    <tr>\n",
       "      <th>5</th>\n",
       "      <td>297417241</td>\n",
       "      <td>Paris</td>\n",
       "      <td>48.8588897</td>\n",
       "      <td>2.3200410217200766</td>\n",
       "    </tr>\n",
       "    <tr>\n",
       "      <th>6</th>\n",
       "      <td>297534793</td>\n",
       "      <td>Amiens</td>\n",
       "      <td>49.8941708</td>\n",
       "      <td>2.2956951</td>\n",
       "    </tr>\n",
       "    <tr>\n",
       "      <th>7</th>\n",
       "      <td>297472400</td>\n",
       "      <td>Lille</td>\n",
       "      <td>50.6365654</td>\n",
       "      <td>3.0635282</td>\n",
       "    </tr>\n",
       "    <tr>\n",
       "      <th>8</th>\n",
       "      <td>297508568</td>\n",
       "      <td>Strasbourg</td>\n",
       "      <td>48.584614</td>\n",
       "      <td>7.7507127</td>\n",
       "    </tr>\n",
       "    <tr>\n",
       "      <th>9</th>\n",
       "      <td>120791766</td>\n",
       "      <td>Chateau du Haut Koenigsbourg</td>\n",
       "      <td>48.249489800000006</td>\n",
       "      <td>7.34429620253195</td>\n",
       "    </tr>\n",
       "    <tr>\n",
       "      <th>10</th>\n",
       "      <td>297504747</td>\n",
       "      <td>Colmar</td>\n",
       "      <td>48.0777517</td>\n",
       "      <td>7.3579641</td>\n",
       "    </tr>\n",
       "    <tr>\n",
       "      <th>11</th>\n",
       "      <td>297869324</td>\n",
       "      <td>Eguisheim</td>\n",
       "      <td>48.0447968</td>\n",
       "      <td>7.3079618</td>\n",
       "    </tr>\n",
       "    <tr>\n",
       "      <th>12</th>\n",
       "      <td>297668227</td>\n",
       "      <td>Besancon</td>\n",
       "      <td>47.2380222</td>\n",
       "      <td>6.0243622</td>\n",
       "    </tr>\n",
       "    <tr>\n",
       "      <th>13</th>\n",
       "      <td>297478568</td>\n",
       "      <td>Dijon</td>\n",
       "      <td>47.3215806</td>\n",
       "      <td>5.0414701</td>\n",
       "    </tr>\n",
       "    <tr>\n",
       "      <th>14</th>\n",
       "      <td>298516920</td>\n",
       "      <td>Annecy</td>\n",
       "      <td>45.8992348</td>\n",
       "      <td>6.1288847</td>\n",
       "    </tr>\n",
       "    <tr>\n",
       "      <th>15</th>\n",
       "      <td>297639071</td>\n",
       "      <td>Grenoble</td>\n",
       "      <td>45.1875602</td>\n",
       "      <td>5.7357819</td>\n",
       "    </tr>\n",
       "    <tr>\n",
       "      <th>16</th>\n",
       "      <td>297681191</td>\n",
       "      <td>Lyon</td>\n",
       "      <td>45.7578137</td>\n",
       "      <td>4.8320114</td>\n",
       "    </tr>\n",
       "    <tr>\n",
       "      <th>17</th>\n",
       "      <td>76036307</td>\n",
       "      <td>Gorges du Verdon</td>\n",
       "      <td>43.7496562</td>\n",
       "      <td>6.3285616</td>\n",
       "    </tr>\n",
       "    <tr>\n",
       "      <th>18</th>\n",
       "      <td>297749145</td>\n",
       "      <td>Bormes les Mimosas</td>\n",
       "      <td>43.1506968</td>\n",
       "      <td>6.3419285</td>\n",
       "    </tr>\n",
       "    <tr>\n",
       "      <th>19</th>\n",
       "      <td>298072685</td>\n",
       "      <td>Cassis</td>\n",
       "      <td>43.2140359</td>\n",
       "      <td>5.5396318</td>\n",
       "    </tr>\n",
       "    <tr>\n",
       "      <th>20</th>\n",
       "      <td>297763730</td>\n",
       "      <td>Marseille</td>\n",
       "      <td>43.2961743</td>\n",
       "      <td>5.3699525</td>\n",
       "    </tr>\n",
       "    <tr>\n",
       "      <th>21</th>\n",
       "      <td>297906924</td>\n",
       "      <td>Aix en Provence</td>\n",
       "      <td>43.5298424</td>\n",
       "      <td>5.4474738</td>\n",
       "    </tr>\n",
       "    <tr>\n",
       "      <th>22</th>\n",
       "      <td>297768703</td>\n",
       "      <td>Avignon</td>\n",
       "      <td>43.9492493</td>\n",
       "      <td>4.8059012</td>\n",
       "    </tr>\n",
       "    <tr>\n",
       "      <th>23</th>\n",
       "      <td>297655586</td>\n",
       "      <td>Uzes</td>\n",
       "      <td>44.0121279</td>\n",
       "      <td>4.4196718</td>\n",
       "    </tr>\n",
       "    <tr>\n",
       "      <th>24</th>\n",
       "      <td>297997049</td>\n",
       "      <td>Nimes</td>\n",
       "      <td>43.8374249</td>\n",
       "      <td>4.3600687</td>\n",
       "    </tr>\n",
       "    <tr>\n",
       "      <th>25</th>\n",
       "      <td>298018344</td>\n",
       "      <td>Aigues Mortes</td>\n",
       "      <td>43.5658225</td>\n",
       "      <td>4.1912837</td>\n",
       "    </tr>\n",
       "    <tr>\n",
       "      <th>26</th>\n",
       "      <td>298011281</td>\n",
       "      <td>Saintes Maries de la mer</td>\n",
       "      <td>43.4522771</td>\n",
       "      <td>4.4287172</td>\n",
       "    </tr>\n",
       "    <tr>\n",
       "      <th>27</th>\n",
       "      <td>298221742</td>\n",
       "      <td>Collioure</td>\n",
       "      <td>42.52505</td>\n",
       "      <td>3.0831554</td>\n",
       "    </tr>\n",
       "    <tr>\n",
       "      <th>28</th>\n",
       "      <td>297466626</td>\n",
       "      <td>Carcassonne</td>\n",
       "      <td>43.2130358</td>\n",
       "      <td>2.3491069</td>\n",
       "    </tr>\n",
       "    <tr>\n",
       "      <th>29</th>\n",
       "      <td>297389050</td>\n",
       "      <td>Ariege</td>\n",
       "      <td>42.9455368</td>\n",
       "      <td>1.4065544156065486</td>\n",
       "    </tr>\n",
       "    <tr>\n",
       "      <th>30</th>\n",
       "      <td>298222566</td>\n",
       "      <td>Toulouse</td>\n",
       "      <td>43.6044622</td>\n",
       "      <td>1.4442469</td>\n",
       "    </tr>\n",
       "    <tr>\n",
       "      <th>31</th>\n",
       "      <td>297932490</td>\n",
       "      <td>Montauban</td>\n",
       "      <td>44.0175835</td>\n",
       "      <td>1.3549991</td>\n",
       "    </tr>\n",
       "    <tr>\n",
       "      <th>32</th>\n",
       "      <td>298516909</td>\n",
       "      <td>Biarritz</td>\n",
       "      <td>43.471143749999996</td>\n",
       "      <td>-1.552726590666314</td>\n",
       "    </tr>\n",
       "    <tr>\n",
       "      <th>33</th>\n",
       "      <td>298271847</td>\n",
       "      <td>Bayonne</td>\n",
       "      <td>43.4945144</td>\n",
       "      <td>-1.4736657</td>\n",
       "    </tr>\n",
       "    <tr>\n",
       "      <th>34</th>\n",
       "      <td>297653650</td>\n",
       "      <td>La Rochelle</td>\n",
       "      <td>46.1591126</td>\n",
       "      <td>-1.1520434</td>\n",
       "    </tr>\n",
       "  </tbody>\n",
       "</table>\n",
       "</div>"
      ],
      "text/plain": [
       "           Id                          City            Latitude  \\\n",
       "0   156094680             Mont Saint Michel          48.6359541   \n",
       "1   297756747                       St Malo           48.649518   \n",
       "2   297981358                        Bayeux          49.2764624   \n",
       "3   298137491                      Le Havre          49.4938975   \n",
       "4   297518815                         Rouen          49.4404591   \n",
       "5   297417241                         Paris          48.8588897   \n",
       "6   297534793                        Amiens          49.8941708   \n",
       "7   297472400                         Lille          50.6365654   \n",
       "8   297508568                    Strasbourg           48.584614   \n",
       "9   120791766  Chateau du Haut Koenigsbourg  48.249489800000006   \n",
       "10  297504747                        Colmar          48.0777517   \n",
       "11  297869324                     Eguisheim          48.0447968   \n",
       "12  297668227                      Besancon          47.2380222   \n",
       "13  297478568                         Dijon          47.3215806   \n",
       "14  298516920                        Annecy          45.8992348   \n",
       "15  297639071                      Grenoble          45.1875602   \n",
       "16  297681191                          Lyon          45.7578137   \n",
       "17   76036307              Gorges du Verdon          43.7496562   \n",
       "18  297749145            Bormes les Mimosas          43.1506968   \n",
       "19  298072685                        Cassis          43.2140359   \n",
       "20  297763730                     Marseille          43.2961743   \n",
       "21  297906924               Aix en Provence          43.5298424   \n",
       "22  297768703                       Avignon          43.9492493   \n",
       "23  297655586                          Uzes          44.0121279   \n",
       "24  297997049                         Nimes          43.8374249   \n",
       "25  298018344                 Aigues Mortes          43.5658225   \n",
       "26  298011281      Saintes Maries de la mer          43.4522771   \n",
       "27  298221742                     Collioure            42.52505   \n",
       "28  297466626                   Carcassonne          43.2130358   \n",
       "29  297389050                        Ariege          42.9455368   \n",
       "30  298222566                      Toulouse          43.6044622   \n",
       "31  297932490                     Montauban          44.0175835   \n",
       "32  298516909                      Biarritz  43.471143749999996   \n",
       "33  298271847                       Bayonne          43.4945144   \n",
       "34  297653650                   La Rochelle          46.1591126   \n",
       "\n",
       "             Longitude  \n",
       "0   -1.511459954959514  \n",
       "1           -2.0260409  \n",
       "2           -0.7024738  \n",
       "3            0.1079732  \n",
       "4            1.0939658  \n",
       "5   2.3200410217200766  \n",
       "6            2.2956951  \n",
       "7            3.0635282  \n",
       "8            7.7507127  \n",
       "9     7.34429620253195  \n",
       "10           7.3579641  \n",
       "11           7.3079618  \n",
       "12           6.0243622  \n",
       "13           5.0414701  \n",
       "14           6.1288847  \n",
       "15           5.7357819  \n",
       "16           4.8320114  \n",
       "17           6.3285616  \n",
       "18           6.3419285  \n",
       "19           5.5396318  \n",
       "20           5.3699525  \n",
       "21           5.4474738  \n",
       "22           4.8059012  \n",
       "23           4.4196718  \n",
       "24           4.3600687  \n",
       "25           4.1912837  \n",
       "26           4.4287172  \n",
       "27           3.0831554  \n",
       "28           2.3491069  \n",
       "29  1.4065544156065486  \n",
       "30           1.4442469  \n",
       "31           1.3549991  \n",
       "32  -1.552726590666314  \n",
       "33          -1.4736657  \n",
       "34          -1.1520434  "
      ]
     },
     "execution_count": 11,
     "metadata": {},
     "output_type": "execute_result"
    }
   ],
   "source": [
    "df_cities"
   ]
  },
  {
   "cell_type": "code",
   "execution_count": 13,
   "id": "62d25b49",
   "metadata": {},
   "outputs": [
    {
     "data": {
      "text/plain": [
       "35"
      ]
     },
     "execution_count": 13,
     "metadata": {},
     "output_type": "execute_result"
    }
   ],
   "source": [
    "len(df_cities)"
   ]
  },
  {
   "cell_type": "code",
   "execution_count": 14,
   "id": "42c8d491",
   "metadata": {},
   "outputs": [
    {
     "name": "stdout",
     "output_type": "stream",
     "text": [
      "<class 'pandas.core.frame.DataFrame'>\n",
      "Int64Index: 35 entries, 0 to 34\n",
      "Data columns (total 4 columns):\n",
      " #   Column     Non-Null Count  Dtype \n",
      "---  ------     --------------  ----- \n",
      " 0   Id         35 non-null     int64 \n",
      " 1   City       35 non-null     object\n",
      " 2   Latitude   35 non-null     object\n",
      " 3   Longitude  35 non-null     object\n",
      "dtypes: int64(1), object(3)\n",
      "memory usage: 1.4+ KB\n"
     ]
    }
   ],
   "source": [
    "df_cities.info()"
   ]
  },
  {
   "cell_type": "code",
   "execution_count": 15,
   "id": "138e3bb4-d5da-44bd-a705-eef90e7c7908",
   "metadata": {},
   "outputs": [],
   "source": [
    "# scrap the weather\n",
    "# Use https://openweathermap.org/appid \n",
    "\n",
    "# some information about the weather for the 35 cities\n",
    "# https://api.openweathermap.org/data/2.5/onecall?lat={lat}&lon={lon}&exclude={part}&appid={API key}\n",
    "\n",
    "# import libraries\n",
    "\n",
    "from credentials import APIKEY \n",
    "\n",
    "# API key\n",
    "APPID = APIKEY\n",
    "\n",
    "EXCLUDE = 'current,minutely,hourly'"
   ]
  },
  {
   "cell_type": "code",
   "execution_count": 16,
   "id": "7b5eaf86",
   "metadata": {},
   "outputs": [
    {
     "name": "stdout",
     "output_type": "stream",
     "text": [
      "Response code: <Response [200]> \n",
      " \n",
      "\n"
     ]
    },
    {
     "data": {
      "text/plain": [
       "{'lat': 48.636,\n",
       " 'lon': -1.5115,\n",
       " 'timezone': 'Europe/Paris',\n",
       " 'timezone_offset': 7200,\n",
       " 'daily': [{'dt': 1665313200,\n",
       "   'sunrise': 1665296200,\n",
       "   'sunset': 1665336585,\n",
       "   'moonrise': 1665336960,\n",
       "   'moonset': 1665293340,\n",
       "   'moon_phase': 0.5,\n",
       "   'temp': {'day': 18.09,\n",
       "    'min': 7.95,\n",
       "    'max': 19.49,\n",
       "    'night': 13.91,\n",
       "    'eve': 17.83,\n",
       "    'morn': 7.97},\n",
       "   'feels_like': {'day': 17.21, 'night': 12.92, 'eve': 16.97, 'morn': 5.42},\n",
       "   'pressure': 1015,\n",
       "   'humidity': 48,\n",
       "   'dew_point': 6.92,\n",
       "   'wind_speed': 6.89,\n",
       "   'wind_deg': 139,\n",
       "   'wind_gust': 12.08,\n",
       "   'weather': [{'id': 801,\n",
       "     'main': 'Clouds',\n",
       "     'description': 'few clouds',\n",
       "     'icon': '02d'}],\n",
       "   'clouds': 20,\n",
       "   'pop': 0,\n",
       "   'uvi': 2.71},\n",
       "  {'dt': 1665399600,\n",
       "   'sunrise': 1665382688,\n",
       "   'sunset': 1665422864,\n",
       "   'moonrise': 1665424380,\n",
       "   'moonset': 1665384300,\n",
       "   'moon_phase': 0.52,\n",
       "   'temp': {'day': 17.46,\n",
       "    'min': 9.92,\n",
       "    'max': 17.7,\n",
       "    'night': 9.92,\n",
       "    'eve': 14.17,\n",
       "    'morn': 14.75},\n",
       "   'feels_like': {'day': 17.48, 'night': 8.07, 'eve': 13.44, 'morn': 14.76},\n",
       "   'pressure': 1018,\n",
       "   'humidity': 85,\n",
       "   'dew_point': 14.74,\n",
       "   'wind_speed': 7.14,\n",
       "   'wind_deg': 20,\n",
       "   'wind_gust': 8.67,\n",
       "   'weather': [{'id': 500,\n",
       "     'main': 'Rain',\n",
       "     'description': 'light rain',\n",
       "     'icon': '10d'}],\n",
       "   'clouds': 98,\n",
       "   'pop': 0.3,\n",
       "   'rain': 0.52,\n",
       "   'uvi': 2.21},\n",
       "  {'dt': 1665486000,\n",
       "   'sunrise': 1665469177,\n",
       "   'sunset': 1665509143,\n",
       "   'moonrise': 1665511860,\n",
       "   'moonset': 1665475320,\n",
       "   'moon_phase': 0.55,\n",
       "   'temp': {'day': 15.95,\n",
       "    'min': 7.04,\n",
       "    'max': 17.87,\n",
       "    'night': 10.15,\n",
       "    'eve': 14.44,\n",
       "    'morn': 7.3},\n",
       "   'feels_like': {'day': 14.78, 'night': 8.89, 'eve': 13.35, 'morn': 4.95},\n",
       "   'pressure': 1027,\n",
       "   'humidity': 45,\n",
       "   'dew_point': 3.96,\n",
       "   'wind_speed': 4.39,\n",
       "   'wind_deg': 75,\n",
       "   'wind_gust': 7.53,\n",
       "   'weather': [{'id': 802,\n",
       "     'main': 'Clouds',\n",
       "     'description': 'scattered clouds',\n",
       "     'icon': '03d'}],\n",
       "   'clouds': 31,\n",
       "   'pop': 0,\n",
       "   'uvi': 2.71},\n",
       "  {'dt': 1665572400,\n",
       "   'sunrise': 1665555666,\n",
       "   'sunset': 1665595422,\n",
       "   'moonrise': 1665599520,\n",
       "   'moonset': 1665566220,\n",
       "   'moon_phase': 0.59,\n",
       "   'temp': {'day': 17.15,\n",
       "    'min': 9.15,\n",
       "    'max': 17.15,\n",
       "    'night': 11.8,\n",
       "    'eve': 12.38,\n",
       "    'morn': 9.72},\n",
       "   'feels_like': {'day': 16.1, 'night': 10.97, 'eve': 11.63, 'morn': 9.72},\n",
       "   'pressure': 1025,\n",
       "   'humidity': 45,\n",
       "   'dew_point': 4.93,\n",
       "   'wind_speed': 2.46,\n",
       "   'wind_deg': 316,\n",
       "   'wind_gust': 2.77,\n",
       "   'weather': [{'id': 803,\n",
       "     'main': 'Clouds',\n",
       "     'description': 'broken clouds',\n",
       "     'icon': '04d'}],\n",
       "   'clouds': 65,\n",
       "   'pop': 0,\n",
       "   'uvi': 2.64},\n",
       "  {'dt': 1665658800,\n",
       "   'sunrise': 1665642156,\n",
       "   'sunset': 1665681703,\n",
       "   'moonrise': 1665687540,\n",
       "   'moonset': 1665657000,\n",
       "   'moon_phase': 0.62,\n",
       "   'temp': {'day': 17.5,\n",
       "    'min': 10.83,\n",
       "    'max': 17.5,\n",
       "    'night': 15.85,\n",
       "    'eve': 14.69,\n",
       "    'morn': 11.32},\n",
       "   'feels_like': {'day': 16.77, 'night': 15.84, 'eve': 14.56, 'morn': 10.18},\n",
       "   'pressure': 1020,\n",
       "   'humidity': 56,\n",
       "   'dew_point': 8.37,\n",
       "   'wind_speed': 8,\n",
       "   'wind_deg': 210,\n",
       "   'wind_gust': 15.32,\n",
       "   'weather': [{'id': 501,\n",
       "     'main': 'Rain',\n",
       "     'description': 'moderate rain',\n",
       "     'icon': '10d'}],\n",
       "   'clouds': 98,\n",
       "   'pop': 1,\n",
       "   'rain': 4.78,\n",
       "   'uvi': 1.35},\n",
       "  {'dt': 1665745200,\n",
       "   'sunrise': 1665728646,\n",
       "   'sunset': 1665767984,\n",
       "   'moonrise': 1665775920,\n",
       "   'moonset': 1665747600,\n",
       "   'moon_phase': 0.65,\n",
       "   'temp': {'day': 16.71,\n",
       "    'min': 14.24,\n",
       "    'max': 18.85,\n",
       "    'night': 16.42,\n",
       "    'eve': 16.41,\n",
       "    'morn': 14.24},\n",
       "   'feels_like': {'day': 16.5, 'night': 16.6, 'eve': 16.4, 'morn': 14.1},\n",
       "   'pressure': 1020,\n",
       "   'humidity': 79,\n",
       "   'dew_point': 12.77,\n",
       "   'wind_speed': 6.22,\n",
       "   'wind_deg': 241,\n",
       "   'wind_gust': 11.8,\n",
       "   'weather': [{'id': 500,\n",
       "     'main': 'Rain',\n",
       "     'description': 'light rain',\n",
       "     'icon': '10d'}],\n",
       "   'clouds': 100,\n",
       "   'pop': 0.24,\n",
       "   'rain': 0.27,\n",
       "   'uvi': 2},\n",
       "  {'dt': 1665831600,\n",
       "   'sunrise': 1665815136,\n",
       "   'sunset': 1665854266,\n",
       "   'moonrise': 1665864840,\n",
       "   'moonset': 1665837780,\n",
       "   'moon_phase': 0.68,\n",
       "   'temp': {'day': 16.23,\n",
       "    'min': 12.01,\n",
       "    'max': 17.54,\n",
       "    'night': 12.01,\n",
       "    'eve': 13.95,\n",
       "    'morn': 15.59},\n",
       "   'feels_like': {'day': 15.58, 'night': 11.07, 'eve': 12.81, 'morn': 15.55},\n",
       "   'pressure': 1013,\n",
       "   'humidity': 64,\n",
       "   'dew_point': 9.17,\n",
       "   'wind_speed': 10.91,\n",
       "   'wind_deg': 214,\n",
       "   'wind_gust': 18.68,\n",
       "   'weather': [{'id': 500,\n",
       "     'main': 'Rain',\n",
       "     'description': 'light rain',\n",
       "     'icon': '10d'}],\n",
       "   'clouds': 90,\n",
       "   'pop': 0.73,\n",
       "   'rain': 2.14,\n",
       "   'uvi': 2},\n",
       "  {'dt': 1665918000,\n",
       "   'sunrise': 1665901627,\n",
       "   'sunset': 1665940549,\n",
       "   'moonrise': 1665954420,\n",
       "   'moonset': 1665927420,\n",
       "   'moon_phase': 0.71,\n",
       "   'temp': {'day': 16.15,\n",
       "    'min': 10.33,\n",
       "    'max': 18.39,\n",
       "    'night': 12.81,\n",
       "    'eve': 15.99,\n",
       "    'morn': 11.09},\n",
       "   'feels_like': {'day': 15.94, 'night': 12.37, 'eve': 15.97, 'morn': 10.66},\n",
       "   'pressure': 1003,\n",
       "   'humidity': 81,\n",
       "   'dew_point': 12.76,\n",
       "   'wind_speed': 11.38,\n",
       "   'wind_deg': 231,\n",
       "   'wind_gust': 17.75,\n",
       "   'weather': [{'id': 500,\n",
       "     'main': 'Rain',\n",
       "     'description': 'light rain',\n",
       "     'icon': '10d'}],\n",
       "   'clouds': 100,\n",
       "   'pop': 1,\n",
       "   'rain': 10.32,\n",
       "   'uvi': 2}]}"
      ]
     },
     "execution_count": 16,
     "metadata": {},
     "output_type": "execute_result"
    }
   ],
   "source": [
    "#  https://nominatim.openstreetmap.org/search?<params>\n",
    "endpoint = \"https://api.openweathermap.org/data/2.5/onecall?\"\n",
    "\n",
    "# example\n",
    "params = {'exclude' : EXCLUDE ,\n",
    "          'appid' : APPID ,\n",
    "          'lat' : '48.6359541' ,\n",
    "          'lon' : -1.511459954959514,\n",
    "          'units' : 'metric'}\n",
    "\n",
    "response =  requests.get(endpoint, params = params)\n",
    "print(\"Response code:\",response,\"\\n \\n\")\n",
    "response.json()"
   ]
  },
  {
   "cell_type": "code",
   "execution_count": 17,
   "id": "781646f5",
   "metadata": {},
   "outputs": [
    {
     "data": {
      "text/plain": [
       "'2022-10-09T13:00:00'"
      ]
     },
     "execution_count": 17,
     "metadata": {},
     "output_type": "execute_result"
    }
   ],
   "source": [
    "import datetime\n",
    "\n",
    "# date of extraction\n",
    "date = response.json()['daily'][0]['dt']\n",
    "readable = datetime.datetime.fromtimestamp(date).isoformat()\n",
    "readable"
   ]
  },
  {
   "cell_type": "code",
   "execution_count": 74,
   "id": "d5f7cd93",
   "metadata": {},
   "outputs": [],
   "source": [
    "# params\n",
    "params = {'exclude' : EXCLUDE ,\n",
    "          'appid' : APPID ,\n",
    "          'units' : 'metric'}\n",
    "\n",
    "# initialization of an empty dataframe\n",
    "df_weather = pd.DataFrame(columns = ['Id', 'City','lat','lon','temperature', 'clear_weather'])\n",
    "\n",
    "# browse the list of 35 cities by latitude and longitude\n",
    "for counter, (id, city, lat, lon) in enumerate(zip(df_cities['Id'],\n",
    "                                                   df_cities['City'],\n",
    "                                                   df_cities['Latitude'],\n",
    "                                                   df_cities['Longitude'])):\n",
    "    # latitude and longitude of each city\n",
    "    localpoint = endpoint + f\"lat={lat}&lon={lon}\"\n",
    "    response =  requests.get(localpoint, params = params)\n",
    "    \n",
    "    # Retrieves weather information for the next 7 days\n",
    "    temp = []\n",
    "    clear_weather = []\n",
    "    for i in range(1, len(response.json()['daily'])):\n",
    "        # Day temperature\n",
    "        temp.append((response.json()['daily'][i]['temp']['day']))\n",
    "        # clear weather: 100 - Cloudiness, %\n",
    "        clear_weather.append(100 - (response.json()['daily'][i]['clouds']))\n",
    "        \n",
    "    # Complete the dataframe\n",
    "    df_weather.loc[counter] = [id, city, float(lat), float(lon), mean(temp), mean(clear_weather)]"
   ]
  },
  {
   "cell_type": "code",
   "execution_count": 75,
   "id": "89eef122",
   "metadata": {},
   "outputs": [
    {
     "data": {
      "text/html": [
       "<div>\n",
       "<style scoped>\n",
       "    .dataframe tbody tr th:only-of-type {\n",
       "        vertical-align: middle;\n",
       "    }\n",
       "\n",
       "    .dataframe tbody tr th {\n",
       "        vertical-align: top;\n",
       "    }\n",
       "\n",
       "    .dataframe thead th {\n",
       "        text-align: right;\n",
       "    }\n",
       "</style>\n",
       "<table border=\"1\" class=\"dataframe\">\n",
       "  <thead>\n",
       "    <tr style=\"text-align: right;\">\n",
       "      <th></th>\n",
       "      <th>Id</th>\n",
       "      <th>City</th>\n",
       "      <th>lat</th>\n",
       "      <th>lon</th>\n",
       "      <th>temperature</th>\n",
       "      <th>clear_weather</th>\n",
       "    </tr>\n",
       "  </thead>\n",
       "  <tbody>\n",
       "    <tr>\n",
       "      <th>0</th>\n",
       "      <td>156094680</td>\n",
       "      <td>Mont Saint Michel</td>\n",
       "      <td>48.635954</td>\n",
       "      <td>-1.511460</td>\n",
       "      <td>16.735714</td>\n",
       "      <td>16.857143</td>\n",
       "    </tr>\n",
       "    <tr>\n",
       "      <th>1</th>\n",
       "      <td>297756747</td>\n",
       "      <td>St Malo</td>\n",
       "      <td>48.649518</td>\n",
       "      <td>-2.026041</td>\n",
       "      <td>16.392857</td>\n",
       "      <td>16.000000</td>\n",
       "    </tr>\n",
       "    <tr>\n",
       "      <th>2</th>\n",
       "      <td>297981358</td>\n",
       "      <td>Bayeux</td>\n",
       "      <td>49.276462</td>\n",
       "      <td>-0.702474</td>\n",
       "      <td>15.268571</td>\n",
       "      <td>15.285714</td>\n",
       "    </tr>\n",
       "    <tr>\n",
       "      <th>3</th>\n",
       "      <td>298137491</td>\n",
       "      <td>Le Havre</td>\n",
       "      <td>49.493898</td>\n",
       "      <td>0.107973</td>\n",
       "      <td>14.871429</td>\n",
       "      <td>11.142857</td>\n",
       "    </tr>\n",
       "    <tr>\n",
       "      <th>4</th>\n",
       "      <td>297518815</td>\n",
       "      <td>Rouen</td>\n",
       "      <td>49.440459</td>\n",
       "      <td>1.093966</td>\n",
       "      <td>15.597143</td>\n",
       "      <td>7.285714</td>\n",
       "    </tr>\n",
       "    <tr>\n",
       "      <th>5</th>\n",
       "      <td>297417241</td>\n",
       "      <td>Paris</td>\n",
       "      <td>48.858890</td>\n",
       "      <td>2.320041</td>\n",
       "      <td>17.527143</td>\n",
       "      <td>12.285714</td>\n",
       "    </tr>\n",
       "    <tr>\n",
       "      <th>6</th>\n",
       "      <td>297534793</td>\n",
       "      <td>Amiens</td>\n",
       "      <td>49.894171</td>\n",
       "      <td>2.295695</td>\n",
       "      <td>15.315714</td>\n",
       "      <td>6.000000</td>\n",
       "    </tr>\n",
       "    <tr>\n",
       "      <th>7</th>\n",
       "      <td>297472400</td>\n",
       "      <td>Lille</td>\n",
       "      <td>50.636565</td>\n",
       "      <td>3.063528</td>\n",
       "      <td>14.641429</td>\n",
       "      <td>3.142857</td>\n",
       "    </tr>\n",
       "    <tr>\n",
       "      <th>8</th>\n",
       "      <td>297508568</td>\n",
       "      <td>Strasbourg</td>\n",
       "      <td>48.584614</td>\n",
       "      <td>7.750713</td>\n",
       "      <td>17.552857</td>\n",
       "      <td>23.142857</td>\n",
       "    </tr>\n",
       "    <tr>\n",
       "      <th>9</th>\n",
       "      <td>120791766</td>\n",
       "      <td>Chateau du Haut Koenigsbourg</td>\n",
       "      <td>48.249490</td>\n",
       "      <td>7.344296</td>\n",
       "      <td>15.498571</td>\n",
       "      <td>23.857143</td>\n",
       "    </tr>\n",
       "    <tr>\n",
       "      <th>10</th>\n",
       "      <td>297504747</td>\n",
       "      <td>Colmar</td>\n",
       "      <td>48.077752</td>\n",
       "      <td>7.357964</td>\n",
       "      <td>18.625714</td>\n",
       "      <td>23.428571</td>\n",
       "    </tr>\n",
       "    <tr>\n",
       "      <th>11</th>\n",
       "      <td>297869324</td>\n",
       "      <td>Eguisheim</td>\n",
       "      <td>48.044797</td>\n",
       "      <td>7.307962</td>\n",
       "      <td>18.722857</td>\n",
       "      <td>23.142857</td>\n",
       "    </tr>\n",
       "    <tr>\n",
       "      <th>12</th>\n",
       "      <td>297668227</td>\n",
       "      <td>Besancon</td>\n",
       "      <td>47.238022</td>\n",
       "      <td>6.024362</td>\n",
       "      <td>19.120000</td>\n",
       "      <td>23.285714</td>\n",
       "    </tr>\n",
       "    <tr>\n",
       "      <th>13</th>\n",
       "      <td>297478568</td>\n",
       "      <td>Dijon</td>\n",
       "      <td>47.321581</td>\n",
       "      <td>5.041470</td>\n",
       "      <td>18.985714</td>\n",
       "      <td>17.714286</td>\n",
       "    </tr>\n",
       "    <tr>\n",
       "      <th>14</th>\n",
       "      <td>298516920</td>\n",
       "      <td>Annecy</td>\n",
       "      <td>45.899235</td>\n",
       "      <td>6.128885</td>\n",
       "      <td>20.000000</td>\n",
       "      <td>49.000000</td>\n",
       "    </tr>\n",
       "    <tr>\n",
       "      <th>15</th>\n",
       "      <td>297639071</td>\n",
       "      <td>Grenoble</td>\n",
       "      <td>45.187560</td>\n",
       "      <td>5.735782</td>\n",
       "      <td>23.117143</td>\n",
       "      <td>56.285714</td>\n",
       "    </tr>\n",
       "    <tr>\n",
       "      <th>16</th>\n",
       "      <td>297681191</td>\n",
       "      <td>Lyon</td>\n",
       "      <td>45.757814</td>\n",
       "      <td>4.832011</td>\n",
       "      <td>21.004286</td>\n",
       "      <td>49.714286</td>\n",
       "    </tr>\n",
       "    <tr>\n",
       "      <th>17</th>\n",
       "      <td>76036307</td>\n",
       "      <td>Gorges du Verdon</td>\n",
       "      <td>43.749656</td>\n",
       "      <td>6.328562</td>\n",
       "      <td>18.840000</td>\n",
       "      <td>36.142857</td>\n",
       "    </tr>\n",
       "    <tr>\n",
       "      <th>18</th>\n",
       "      <td>297749145</td>\n",
       "      <td>Bormes les Mimosas</td>\n",
       "      <td>43.150697</td>\n",
       "      <td>6.341928</td>\n",
       "      <td>21.842857</td>\n",
       "      <td>41.857143</td>\n",
       "    </tr>\n",
       "    <tr>\n",
       "      <th>19</th>\n",
       "      <td>298072685</td>\n",
       "      <td>Cassis</td>\n",
       "      <td>43.214036</td>\n",
       "      <td>5.539632</td>\n",
       "      <td>21.768571</td>\n",
       "      <td>41.142857</td>\n",
       "    </tr>\n",
       "    <tr>\n",
       "      <th>20</th>\n",
       "      <td>297763730</td>\n",
       "      <td>Marseille</td>\n",
       "      <td>43.296174</td>\n",
       "      <td>5.369953</td>\n",
       "      <td>21.681429</td>\n",
       "      <td>43.428571</td>\n",
       "    </tr>\n",
       "    <tr>\n",
       "      <th>21</th>\n",
       "      <td>297906924</td>\n",
       "      <td>Aix en Provence</td>\n",
       "      <td>43.529842</td>\n",
       "      <td>5.447474</td>\n",
       "      <td>22.852857</td>\n",
       "      <td>41.571429</td>\n",
       "    </tr>\n",
       "    <tr>\n",
       "      <th>22</th>\n",
       "      <td>297768703</td>\n",
       "      <td>Avignon</td>\n",
       "      <td>43.949249</td>\n",
       "      <td>4.805901</td>\n",
       "      <td>24.055714</td>\n",
       "      <td>47.000000</td>\n",
       "    </tr>\n",
       "    <tr>\n",
       "      <th>23</th>\n",
       "      <td>297655586</td>\n",
       "      <td>Uzes</td>\n",
       "      <td>44.012128</td>\n",
       "      <td>4.419672</td>\n",
       "      <td>23.382857</td>\n",
       "      <td>49.000000</td>\n",
       "    </tr>\n",
       "    <tr>\n",
       "      <th>24</th>\n",
       "      <td>297997049</td>\n",
       "      <td>Nimes</td>\n",
       "      <td>43.837425</td>\n",
       "      <td>4.360069</td>\n",
       "      <td>23.945714</td>\n",
       "      <td>44.571429</td>\n",
       "    </tr>\n",
       "    <tr>\n",
       "      <th>25</th>\n",
       "      <td>298018344</td>\n",
       "      <td>Aigues Mortes</td>\n",
       "      <td>43.565823</td>\n",
       "      <td>4.191284</td>\n",
       "      <td>21.904286</td>\n",
       "      <td>43.142857</td>\n",
       "    </tr>\n",
       "    <tr>\n",
       "      <th>26</th>\n",
       "      <td>298011281</td>\n",
       "      <td>Saintes Maries de la mer</td>\n",
       "      <td>43.452277</td>\n",
       "      <td>4.428717</td>\n",
       "      <td>21.267143</td>\n",
       "      <td>44.142857</td>\n",
       "    </tr>\n",
       "    <tr>\n",
       "      <th>27</th>\n",
       "      <td>298221742</td>\n",
       "      <td>Collioure</td>\n",
       "      <td>42.525050</td>\n",
       "      <td>3.083155</td>\n",
       "      <td>22.808571</td>\n",
       "      <td>35.571429</td>\n",
       "    </tr>\n",
       "    <tr>\n",
       "      <th>28</th>\n",
       "      <td>297466626</td>\n",
       "      <td>Carcassonne</td>\n",
       "      <td>43.213036</td>\n",
       "      <td>2.349107</td>\n",
       "      <td>23.685714</td>\n",
       "      <td>43.714286</td>\n",
       "    </tr>\n",
       "    <tr>\n",
       "      <th>29</th>\n",
       "      <td>297389050</td>\n",
       "      <td>Ariege</td>\n",
       "      <td>42.945537</td>\n",
       "      <td>1.406554</td>\n",
       "      <td>18.812857</td>\n",
       "      <td>47.000000</td>\n",
       "    </tr>\n",
       "    <tr>\n",
       "      <th>30</th>\n",
       "      <td>298222566</td>\n",
       "      <td>Toulouse</td>\n",
       "      <td>43.604462</td>\n",
       "      <td>1.444247</td>\n",
       "      <td>23.140000</td>\n",
       "      <td>47.142857</td>\n",
       "    </tr>\n",
       "    <tr>\n",
       "      <th>31</th>\n",
       "      <td>297932490</td>\n",
       "      <td>Montauban</td>\n",
       "      <td>44.017584</td>\n",
       "      <td>1.354999</td>\n",
       "      <td>22.944286</td>\n",
       "      <td>48.142857</td>\n",
       "    </tr>\n",
       "    <tr>\n",
       "      <th>32</th>\n",
       "      <td>298516909</td>\n",
       "      <td>Biarritz</td>\n",
       "      <td>43.471144</td>\n",
       "      <td>-1.552727</td>\n",
       "      <td>20.342857</td>\n",
       "      <td>47.714286</td>\n",
       "    </tr>\n",
       "    <tr>\n",
       "      <th>33</th>\n",
       "      <td>298271847</td>\n",
       "      <td>Bayonne</td>\n",
       "      <td>43.494514</td>\n",
       "      <td>-1.473666</td>\n",
       "      <td>21.047143</td>\n",
       "      <td>45.428571</td>\n",
       "    </tr>\n",
       "    <tr>\n",
       "      <th>34</th>\n",
       "      <td>297653650</td>\n",
       "      <td>La Rochelle</td>\n",
       "      <td>46.159113</td>\n",
       "      <td>-1.152043</td>\n",
       "      <td>18.697143</td>\n",
       "      <td>9.428571</td>\n",
       "    </tr>\n",
       "  </tbody>\n",
       "</table>\n",
       "</div>"
      ],
      "text/plain": [
       "           Id                          City        lat       lon  temperature  \\\n",
       "0   156094680             Mont Saint Michel  48.635954 -1.511460    16.735714   \n",
       "1   297756747                       St Malo  48.649518 -2.026041    16.392857   \n",
       "2   297981358                        Bayeux  49.276462 -0.702474    15.268571   \n",
       "3   298137491                      Le Havre  49.493898  0.107973    14.871429   \n",
       "4   297518815                         Rouen  49.440459  1.093966    15.597143   \n",
       "5   297417241                         Paris  48.858890  2.320041    17.527143   \n",
       "6   297534793                        Amiens  49.894171  2.295695    15.315714   \n",
       "7   297472400                         Lille  50.636565  3.063528    14.641429   \n",
       "8   297508568                    Strasbourg  48.584614  7.750713    17.552857   \n",
       "9   120791766  Chateau du Haut Koenigsbourg  48.249490  7.344296    15.498571   \n",
       "10  297504747                        Colmar  48.077752  7.357964    18.625714   \n",
       "11  297869324                     Eguisheim  48.044797  7.307962    18.722857   \n",
       "12  297668227                      Besancon  47.238022  6.024362    19.120000   \n",
       "13  297478568                         Dijon  47.321581  5.041470    18.985714   \n",
       "14  298516920                        Annecy  45.899235  6.128885    20.000000   \n",
       "15  297639071                      Grenoble  45.187560  5.735782    23.117143   \n",
       "16  297681191                          Lyon  45.757814  4.832011    21.004286   \n",
       "17   76036307              Gorges du Verdon  43.749656  6.328562    18.840000   \n",
       "18  297749145            Bormes les Mimosas  43.150697  6.341928    21.842857   \n",
       "19  298072685                        Cassis  43.214036  5.539632    21.768571   \n",
       "20  297763730                     Marseille  43.296174  5.369953    21.681429   \n",
       "21  297906924               Aix en Provence  43.529842  5.447474    22.852857   \n",
       "22  297768703                       Avignon  43.949249  4.805901    24.055714   \n",
       "23  297655586                          Uzes  44.012128  4.419672    23.382857   \n",
       "24  297997049                         Nimes  43.837425  4.360069    23.945714   \n",
       "25  298018344                 Aigues Mortes  43.565823  4.191284    21.904286   \n",
       "26  298011281      Saintes Maries de la mer  43.452277  4.428717    21.267143   \n",
       "27  298221742                     Collioure  42.525050  3.083155    22.808571   \n",
       "28  297466626                   Carcassonne  43.213036  2.349107    23.685714   \n",
       "29  297389050                        Ariege  42.945537  1.406554    18.812857   \n",
       "30  298222566                      Toulouse  43.604462  1.444247    23.140000   \n",
       "31  297932490                     Montauban  44.017584  1.354999    22.944286   \n",
       "32  298516909                      Biarritz  43.471144 -1.552727    20.342857   \n",
       "33  298271847                       Bayonne  43.494514 -1.473666    21.047143   \n",
       "34  297653650                   La Rochelle  46.159113 -1.152043    18.697143   \n",
       "\n",
       "    clear_weather  \n",
       "0       16.857143  \n",
       "1       16.000000  \n",
       "2       15.285714  \n",
       "3       11.142857  \n",
       "4        7.285714  \n",
       "5       12.285714  \n",
       "6        6.000000  \n",
       "7        3.142857  \n",
       "8       23.142857  \n",
       "9       23.857143  \n",
       "10      23.428571  \n",
       "11      23.142857  \n",
       "12      23.285714  \n",
       "13      17.714286  \n",
       "14      49.000000  \n",
       "15      56.285714  \n",
       "16      49.714286  \n",
       "17      36.142857  \n",
       "18      41.857143  \n",
       "19      41.142857  \n",
       "20      43.428571  \n",
       "21      41.571429  \n",
       "22      47.000000  \n",
       "23      49.000000  \n",
       "24      44.571429  \n",
       "25      43.142857  \n",
       "26      44.142857  \n",
       "27      35.571429  \n",
       "28      43.714286  \n",
       "29      47.000000  \n",
       "30      47.142857  \n",
       "31      48.142857  \n",
       "32      47.714286  \n",
       "33      45.428571  \n",
       "34       9.428571  "
      ]
     },
     "execution_count": 75,
     "metadata": {},
     "output_type": "execute_result"
    }
   ],
   "source": [
    "df_weather"
   ]
  },
  {
   "cell_type": "code",
   "execution_count": 78,
   "id": "d3df9146",
   "metadata": {},
   "outputs": [
    {
     "data": {
      "application/vnd.plotly.v1+json": {
       "config": {
        "plotlyServerURL": "https://plot.ly"
       },
       "data": [
        {
         "hovertemplate": "<b>%{hovertext}</b><br><br>clear_weather=%{marker.size}<br>lat=%{lat}<br>lon=%{lon}<br>temperature=%{marker.color}<extra></extra>",
         "hovertext": [
          "Mont Saint Michel",
          "St Malo",
          "Bayeux",
          "Le Havre",
          "Rouen",
          "Paris",
          "Amiens",
          "Lille",
          "Strasbourg",
          "Chateau du Haut Koenigsbourg",
          "Colmar",
          "Eguisheim",
          "Besancon",
          "Dijon",
          "Annecy",
          "Grenoble",
          "Lyon",
          "Gorges du Verdon",
          "Bormes les Mimosas",
          "Cassis",
          "Marseille",
          "Aix en Provence",
          "Avignon",
          "Uzes",
          "Nimes",
          "Aigues Mortes",
          "Saintes Maries de la mer",
          "Collioure",
          "Carcassonne",
          "Ariege",
          "Toulouse",
          "Montauban",
          "Biarritz",
          "Bayonne",
          "La Rochelle"
         ],
         "lat": [
          48.6359541,
          48.649518,
          49.2764624,
          49.4938975,
          49.4404591,
          48.8588897,
          49.8941708,
          50.6365654,
          48.584614,
          48.249489800000006,
          48.0777517,
          48.0447968,
          47.2380222,
          47.3215806,
          45.8992348,
          45.1875602,
          45.7578137,
          43.7496562,
          43.1506968,
          43.2140359,
          43.2961743,
          43.5298424,
          43.9492493,
          44.0121279,
          43.8374249,
          43.5658225,
          43.4522771,
          42.52505,
          43.2130358,
          42.9455368,
          43.6044622,
          44.0175835,
          43.471143749999996,
          43.4945144,
          46.1591126
         ],
         "legendgroup": "",
         "lon": [
          -1.511459954959514,
          -2.0260409,
          -0.7024738,
          0.1079732,
          1.0939658,
          2.3200410217200766,
          2.2956951,
          3.0635282,
          7.7507127,
          7.34429620253195,
          7.3579641,
          7.3079618,
          6.0243622,
          5.0414701,
          6.1288847,
          5.7357819,
          4.8320114,
          6.3285616,
          6.3419285,
          5.5396318,
          5.3699525,
          5.4474738,
          4.8059012,
          4.4196718,
          4.3600687,
          4.1912837,
          4.4287172,
          3.0831554,
          2.3491069,
          1.4065544156065486,
          1.4442469,
          1.3549991,
          -1.552726590666314,
          -1.4736657,
          -1.1520434
         ],
         "marker": {
          "color": [
           16.735714285714284,
           16.392857142857142,
           15.268571428571429,
           14.871428571428572,
           15.597142857142856,
           17.527142857142856,
           15.315714285714286,
           14.641428571428571,
           17.552857142857142,
           15.498571428571429,
           18.625714285714285,
           18.722857142857144,
           19.12,
           18.985714285714284,
           20,
           23.117142857142856,
           21.004285714285714,
           18.84,
           21.84285714285714,
           21.768571428571427,
           21.681428571428572,
           22.852857142857143,
           24.055714285714284,
           23.382857142857144,
           23.94571428571429,
           21.904285714285713,
           21.267142857142858,
           22.80857142857143,
           23.685714285714287,
           18.812857142857144,
           23.14,
           22.944285714285712,
           20.34285714285714,
           21.04714285714286,
           18.697142857142858
          ],
          "coloraxis": "coloraxis",
          "size": [
           16.857142857142858,
           16,
           15.285714285714286,
           11.142857142857142,
           7.285714285714286,
           12.285714285714286,
           6,
           3.142857142857143,
           23.142857142857142,
           23.857142857142858,
           23.428571428571427,
           23.142857142857142,
           23.285714285714285,
           17.714285714285715,
           49,
           56.285714285714285,
           49.714285714285715,
           36.142857142857146,
           41.857142857142854,
           41.142857142857146,
           43.42857142857143,
           41.57142857142857,
           47,
           49,
           44.57142857142857,
           43.142857142857146,
           44.142857142857146,
           35.57142857142857,
           43.714285714285715,
           47,
           47.142857142857146,
           48.142857142857146,
           47.714285714285715,
           45.42857142857143,
           9.428571428571429
          ],
          "sizemode": "area",
          "sizeref": 0.1407142857142857
         },
         "mode": "markers",
         "name": "",
         "showlegend": false,
         "subplot": "mapbox",
         "type": "scattermapbox"
        }
       ],
       "layout": {
        "coloraxis": {
         "colorbar": {
          "title": {
           "text": "temperature"
          }
         },
         "colorscale": [
          [
           0,
           "#0d0887"
          ],
          [
           0.1111111111111111,
           "#46039f"
          ],
          [
           0.2222222222222222,
           "#7201a8"
          ],
          [
           0.3333333333333333,
           "#9c179e"
          ],
          [
           0.4444444444444444,
           "#bd3786"
          ],
          [
           0.5555555555555556,
           "#d8576b"
          ],
          [
           0.6666666666666666,
           "#ed7953"
          ],
          [
           0.7777777777777778,
           "#fb9f3a"
          ],
          [
           0.8888888888888888,
           "#fdca26"
          ],
          [
           1,
           "#f0f921"
          ]
         ]
        },
        "legend": {
         "itemsizing": "constant",
         "tracegroupgap": 0
        },
        "mapbox": {
         "center": {
          "lat": 45.840986490000006,
          "lon": 3.395928331263793
         },
         "domain": {
          "x": [
           0,
           1
          ],
          "y": [
           0,
           1
          ]
         },
         "style": "carto-positron",
         "zoom": 3.9
        },
        "margin": {
         "t": 60
        },
        "template": {
         "data": {
          "bar": [
           {
            "error_x": {
             "color": "#2a3f5f"
            },
            "error_y": {
             "color": "#2a3f5f"
            },
            "marker": {
             "line": {
              "color": "#E5ECF6",
              "width": 0.5
             },
             "pattern": {
              "fillmode": "overlay",
              "size": 10,
              "solidity": 0.2
             }
            },
            "type": "bar"
           }
          ],
          "barpolar": [
           {
            "marker": {
             "line": {
              "color": "#E5ECF6",
              "width": 0.5
             },
             "pattern": {
              "fillmode": "overlay",
              "size": 10,
              "solidity": 0.2
             }
            },
            "type": "barpolar"
           }
          ],
          "carpet": [
           {
            "aaxis": {
             "endlinecolor": "#2a3f5f",
             "gridcolor": "white",
             "linecolor": "white",
             "minorgridcolor": "white",
             "startlinecolor": "#2a3f5f"
            },
            "baxis": {
             "endlinecolor": "#2a3f5f",
             "gridcolor": "white",
             "linecolor": "white",
             "minorgridcolor": "white",
             "startlinecolor": "#2a3f5f"
            },
            "type": "carpet"
           }
          ],
          "choropleth": [
           {
            "colorbar": {
             "outlinewidth": 0,
             "ticks": ""
            },
            "type": "choropleth"
           }
          ],
          "contour": [
           {
            "colorbar": {
             "outlinewidth": 0,
             "ticks": ""
            },
            "colorscale": [
             [
              0,
              "#0d0887"
             ],
             [
              0.1111111111111111,
              "#46039f"
             ],
             [
              0.2222222222222222,
              "#7201a8"
             ],
             [
              0.3333333333333333,
              "#9c179e"
             ],
             [
              0.4444444444444444,
              "#bd3786"
             ],
             [
              0.5555555555555556,
              "#d8576b"
             ],
             [
              0.6666666666666666,
              "#ed7953"
             ],
             [
              0.7777777777777778,
              "#fb9f3a"
             ],
             [
              0.8888888888888888,
              "#fdca26"
             ],
             [
              1,
              "#f0f921"
             ]
            ],
            "type": "contour"
           }
          ],
          "contourcarpet": [
           {
            "colorbar": {
             "outlinewidth": 0,
             "ticks": ""
            },
            "type": "contourcarpet"
           }
          ],
          "heatmap": [
           {
            "colorbar": {
             "outlinewidth": 0,
             "ticks": ""
            },
            "colorscale": [
             [
              0,
              "#0d0887"
             ],
             [
              0.1111111111111111,
              "#46039f"
             ],
             [
              0.2222222222222222,
              "#7201a8"
             ],
             [
              0.3333333333333333,
              "#9c179e"
             ],
             [
              0.4444444444444444,
              "#bd3786"
             ],
             [
              0.5555555555555556,
              "#d8576b"
             ],
             [
              0.6666666666666666,
              "#ed7953"
             ],
             [
              0.7777777777777778,
              "#fb9f3a"
             ],
             [
              0.8888888888888888,
              "#fdca26"
             ],
             [
              1,
              "#f0f921"
             ]
            ],
            "type": "heatmap"
           }
          ],
          "heatmapgl": [
           {
            "colorbar": {
             "outlinewidth": 0,
             "ticks": ""
            },
            "colorscale": [
             [
              0,
              "#0d0887"
             ],
             [
              0.1111111111111111,
              "#46039f"
             ],
             [
              0.2222222222222222,
              "#7201a8"
             ],
             [
              0.3333333333333333,
              "#9c179e"
             ],
             [
              0.4444444444444444,
              "#bd3786"
             ],
             [
              0.5555555555555556,
              "#d8576b"
             ],
             [
              0.6666666666666666,
              "#ed7953"
             ],
             [
              0.7777777777777778,
              "#fb9f3a"
             ],
             [
              0.8888888888888888,
              "#fdca26"
             ],
             [
              1,
              "#f0f921"
             ]
            ],
            "type": "heatmapgl"
           }
          ],
          "histogram": [
           {
            "marker": {
             "pattern": {
              "fillmode": "overlay",
              "size": 10,
              "solidity": 0.2
             }
            },
            "type": "histogram"
           }
          ],
          "histogram2d": [
           {
            "colorbar": {
             "outlinewidth": 0,
             "ticks": ""
            },
            "colorscale": [
             [
              0,
              "#0d0887"
             ],
             [
              0.1111111111111111,
              "#46039f"
             ],
             [
              0.2222222222222222,
              "#7201a8"
             ],
             [
              0.3333333333333333,
              "#9c179e"
             ],
             [
              0.4444444444444444,
              "#bd3786"
             ],
             [
              0.5555555555555556,
              "#d8576b"
             ],
             [
              0.6666666666666666,
              "#ed7953"
             ],
             [
              0.7777777777777778,
              "#fb9f3a"
             ],
             [
              0.8888888888888888,
              "#fdca26"
             ],
             [
              1,
              "#f0f921"
             ]
            ],
            "type": "histogram2d"
           }
          ],
          "histogram2dcontour": [
           {
            "colorbar": {
             "outlinewidth": 0,
             "ticks": ""
            },
            "colorscale": [
             [
              0,
              "#0d0887"
             ],
             [
              0.1111111111111111,
              "#46039f"
             ],
             [
              0.2222222222222222,
              "#7201a8"
             ],
             [
              0.3333333333333333,
              "#9c179e"
             ],
             [
              0.4444444444444444,
              "#bd3786"
             ],
             [
              0.5555555555555556,
              "#d8576b"
             ],
             [
              0.6666666666666666,
              "#ed7953"
             ],
             [
              0.7777777777777778,
              "#fb9f3a"
             ],
             [
              0.8888888888888888,
              "#fdca26"
             ],
             [
              1,
              "#f0f921"
             ]
            ],
            "type": "histogram2dcontour"
           }
          ],
          "mesh3d": [
           {
            "colorbar": {
             "outlinewidth": 0,
             "ticks": ""
            },
            "type": "mesh3d"
           }
          ],
          "parcoords": [
           {
            "line": {
             "colorbar": {
              "outlinewidth": 0,
              "ticks": ""
             }
            },
            "type": "parcoords"
           }
          ],
          "pie": [
           {
            "automargin": true,
            "type": "pie"
           }
          ],
          "scatter": [
           {
            "fillpattern": {
             "fillmode": "overlay",
             "size": 10,
             "solidity": 0.2
            },
            "type": "scatter"
           }
          ],
          "scatter3d": [
           {
            "line": {
             "colorbar": {
              "outlinewidth": 0,
              "ticks": ""
             }
            },
            "marker": {
             "colorbar": {
              "outlinewidth": 0,
              "ticks": ""
             }
            },
            "type": "scatter3d"
           }
          ],
          "scattercarpet": [
           {
            "marker": {
             "colorbar": {
              "outlinewidth": 0,
              "ticks": ""
             }
            },
            "type": "scattercarpet"
           }
          ],
          "scattergeo": [
           {
            "marker": {
             "colorbar": {
              "outlinewidth": 0,
              "ticks": ""
             }
            },
            "type": "scattergeo"
           }
          ],
          "scattergl": [
           {
            "marker": {
             "colorbar": {
              "outlinewidth": 0,
              "ticks": ""
             }
            },
            "type": "scattergl"
           }
          ],
          "scattermapbox": [
           {
            "marker": {
             "colorbar": {
              "outlinewidth": 0,
              "ticks": ""
             }
            },
            "type": "scattermapbox"
           }
          ],
          "scatterpolar": [
           {
            "marker": {
             "colorbar": {
              "outlinewidth": 0,
              "ticks": ""
             }
            },
            "type": "scatterpolar"
           }
          ],
          "scatterpolargl": [
           {
            "marker": {
             "colorbar": {
              "outlinewidth": 0,
              "ticks": ""
             }
            },
            "type": "scatterpolargl"
           }
          ],
          "scatterternary": [
           {
            "marker": {
             "colorbar": {
              "outlinewidth": 0,
              "ticks": ""
             }
            },
            "type": "scatterternary"
           }
          ],
          "surface": [
           {
            "colorbar": {
             "outlinewidth": 0,
             "ticks": ""
            },
            "colorscale": [
             [
              0,
              "#0d0887"
             ],
             [
              0.1111111111111111,
              "#46039f"
             ],
             [
              0.2222222222222222,
              "#7201a8"
             ],
             [
              0.3333333333333333,
              "#9c179e"
             ],
             [
              0.4444444444444444,
              "#bd3786"
             ],
             [
              0.5555555555555556,
              "#d8576b"
             ],
             [
              0.6666666666666666,
              "#ed7953"
             ],
             [
              0.7777777777777778,
              "#fb9f3a"
             ],
             [
              0.8888888888888888,
              "#fdca26"
             ],
             [
              1,
              "#f0f921"
             ]
            ],
            "type": "surface"
           }
          ],
          "table": [
           {
            "cells": {
             "fill": {
              "color": "#EBF0F8"
             },
             "line": {
              "color": "white"
             }
            },
            "header": {
             "fill": {
              "color": "#C8D4E3"
             },
             "line": {
              "color": "white"
             }
            },
            "type": "table"
           }
          ]
         },
         "layout": {
          "annotationdefaults": {
           "arrowcolor": "#2a3f5f",
           "arrowhead": 0,
           "arrowwidth": 1
          },
          "autotypenumbers": "strict",
          "coloraxis": {
           "colorbar": {
            "outlinewidth": 0,
            "ticks": ""
           }
          },
          "colorscale": {
           "diverging": [
            [
             0,
             "#8e0152"
            ],
            [
             0.1,
             "#c51b7d"
            ],
            [
             0.2,
             "#de77ae"
            ],
            [
             0.3,
             "#f1b6da"
            ],
            [
             0.4,
             "#fde0ef"
            ],
            [
             0.5,
             "#f7f7f7"
            ],
            [
             0.6,
             "#e6f5d0"
            ],
            [
             0.7,
             "#b8e186"
            ],
            [
             0.8,
             "#7fbc41"
            ],
            [
             0.9,
             "#4d9221"
            ],
            [
             1,
             "#276419"
            ]
           ],
           "sequential": [
            [
             0,
             "#0d0887"
            ],
            [
             0.1111111111111111,
             "#46039f"
            ],
            [
             0.2222222222222222,
             "#7201a8"
            ],
            [
             0.3333333333333333,
             "#9c179e"
            ],
            [
             0.4444444444444444,
             "#bd3786"
            ],
            [
             0.5555555555555556,
             "#d8576b"
            ],
            [
             0.6666666666666666,
             "#ed7953"
            ],
            [
             0.7777777777777778,
             "#fb9f3a"
            ],
            [
             0.8888888888888888,
             "#fdca26"
            ],
            [
             1,
             "#f0f921"
            ]
           ],
           "sequentialminus": [
            [
             0,
             "#0d0887"
            ],
            [
             0.1111111111111111,
             "#46039f"
            ],
            [
             0.2222222222222222,
             "#7201a8"
            ],
            [
             0.3333333333333333,
             "#9c179e"
            ],
            [
             0.4444444444444444,
             "#bd3786"
            ],
            [
             0.5555555555555556,
             "#d8576b"
            ],
            [
             0.6666666666666666,
             "#ed7953"
            ],
            [
             0.7777777777777778,
             "#fb9f3a"
            ],
            [
             0.8888888888888888,
             "#fdca26"
            ],
            [
             1,
             "#f0f921"
            ]
           ]
          },
          "colorway": [
           "#636efa",
           "#EF553B",
           "#00cc96",
           "#ab63fa",
           "#FFA15A",
           "#19d3f3",
           "#FF6692",
           "#B6E880",
           "#FF97FF",
           "#FECB52"
          ],
          "font": {
           "color": "#2a3f5f"
          },
          "geo": {
           "bgcolor": "white",
           "lakecolor": "white",
           "landcolor": "#E5ECF6",
           "showlakes": true,
           "showland": true,
           "subunitcolor": "white"
          },
          "hoverlabel": {
           "align": "left"
          },
          "hovermode": "closest",
          "mapbox": {
           "style": "light"
          },
          "paper_bgcolor": "white",
          "plot_bgcolor": "#E5ECF6",
          "polar": {
           "angularaxis": {
            "gridcolor": "white",
            "linecolor": "white",
            "ticks": ""
           },
           "bgcolor": "#E5ECF6",
           "radialaxis": {
            "gridcolor": "white",
            "linecolor": "white",
            "ticks": ""
           }
          },
          "scene": {
           "xaxis": {
            "backgroundcolor": "#E5ECF6",
            "gridcolor": "white",
            "gridwidth": 2,
            "linecolor": "white",
            "showbackground": true,
            "ticks": "",
            "zerolinecolor": "white"
           },
           "yaxis": {
            "backgroundcolor": "#E5ECF6",
            "gridcolor": "white",
            "gridwidth": 2,
            "linecolor": "white",
            "showbackground": true,
            "ticks": "",
            "zerolinecolor": "white"
           },
           "zaxis": {
            "backgroundcolor": "#E5ECF6",
            "gridcolor": "white",
            "gridwidth": 2,
            "linecolor": "white",
            "showbackground": true,
            "ticks": "",
            "zerolinecolor": "white"
           }
          },
          "shapedefaults": {
           "line": {
            "color": "#2a3f5f"
           }
          },
          "ternary": {
           "aaxis": {
            "gridcolor": "white",
            "linecolor": "white",
            "ticks": ""
           },
           "baxis": {
            "gridcolor": "white",
            "linecolor": "white",
            "ticks": ""
           },
           "bgcolor": "#E5ECF6",
           "caxis": {
            "gridcolor": "white",
            "linecolor": "white",
            "ticks": ""
           }
          },
          "title": {
           "x": 0.05
          },
          "xaxis": {
           "automargin": true,
           "gridcolor": "white",
           "linecolor": "white",
           "ticks": "",
           "title": {
            "standoff": 15
           },
           "zerolinecolor": "white",
           "zerolinewidth": 2
          },
          "yaxis": {
           "automargin": true,
           "gridcolor": "white",
           "linecolor": "white",
           "ticks": "",
           "title": {
            "standoff": 15
           },
           "zerolinecolor": "white",
           "zerolinewidth": 2
          }
         }
        },
        "width": 800
       }
      }
     },
     "metadata": {},
     "output_type": "display_data"
    }
   ],
   "source": [
    "import plotly.express as px\n",
    "import plotly.io as pio\n",
    "\n",
    "# pio.renderers.default = \"svg\"\n",
    "\n",
    "fig = px.scatter_mapbox(df_weather,\n",
    "                        lat =\"lat\",\n",
    "                        lon = \"lon\",\n",
    "                        color = \"temperature\",\n",
    "                        hover_name = \"City\",\n",
    "                        size= \"clear_weather\",\n",
    "                        zoom = 3.9,\n",
    "                        mapbox_style = \"carto-positron\",\n",
    "                        width = 800)\n",
    "fig.show()"
   ]
  },
  {
   "cell_type": "code",
   "execution_count": 20,
   "id": "cffe5d5f",
   "metadata": {},
   "outputs": [],
   "source": [
    "df_weather.to_csv(\"cities_weather.csv\")"
   ]
  },
  {
   "cell_type": "markdown",
   "id": "4c9bcdf9-a169-4f1c-bfb5-f2e4df61f1c1",
   "metadata": {},
   "source": [
    "## Scrape Booking.com"
   ]
  },
  {
   "cell_type": "markdown",
   "id": "7cc910d9-44ad-48be-86f4-059da0d44613",
   "metadata": {},
   "source": [
    "Since BookingHoldings doesn't have aggregated databases, it will be much faster to scrape data directly from booking.com\n",
    "\n",
    "You can scrap as many information asyou want, but we suggest that you get at least:\n",
    "\n",
    "hotel name,\n",
    "Url to its booking.com page,\n",
    "Its coordinates: latitude and longitude\n",
    "Score given by the website users\n",
    "Text description of the hotel"
   ]
  },
  {
   "cell_type": "code",
   "execution_count": 29,
   "id": "e3c349dd",
   "metadata": {},
   "outputs": [
    {
     "name": "stderr",
     "output_type": "stream",
     "text": [
      "2022-10-09 17:07:07 [scrapy.utils.log] INFO: Scrapy 2.6.3 started (bot: scrapybot)\n",
      "2022-10-09 17:07:07 [scrapy.utils.log] INFO: Versions: lxml 4.9.1.0, libxml2 2.9.12, cssselect 1.1.0, parsel 1.6.0, w3lib 2.0.1, Twisted 22.8.0, Python 3.10.4 (tags/v3.10.4:9d38120, Mar 23 2022, 23:13:41) [MSC v.1929 64 bit (AMD64)], pyOpenSSL 22.1.0 (OpenSSL 3.0.5 5 Jul 2022), cryptography 38.0.1, Platform Windows-10-10.0.19043-SP0\n",
      "2022-10-09 17:07:07 [scrapy.crawler] INFO: Overridden settings:\n",
      "{'LOG_LEVEL': 20, 'USER_AGENT': 'Chrome/97.0'}\n",
      "2022-10-09 17:07:07 [scrapy.extensions.telnet] INFO: Telnet Password: f54b6bb7d79ccc0f\n",
      "2022-10-09 17:07:07 [scrapy.middleware] INFO: Enabled extensions:\n",
      "['scrapy.extensions.corestats.CoreStats',\n",
      " 'scrapy.extensions.telnet.TelnetConsole',\n",
      " 'scrapy.extensions.feedexport.FeedExporter',\n",
      " 'scrapy.extensions.logstats.LogStats']\n",
      "2022-10-09 17:07:07 [scrapy.middleware] INFO: Enabled downloader middlewares:\n",
      "['scrapy.downloadermiddlewares.httpauth.HttpAuthMiddleware',\n",
      " 'scrapy.downloadermiddlewares.downloadtimeout.DownloadTimeoutMiddleware',\n",
      " 'scrapy.downloadermiddlewares.defaultheaders.DefaultHeadersMiddleware',\n",
      " 'scrapy.downloadermiddlewares.useragent.UserAgentMiddleware',\n",
      " 'scrapy.downloadermiddlewares.retry.RetryMiddleware',\n",
      " 'scrapy.downloadermiddlewares.redirect.MetaRefreshMiddleware',\n",
      " 'scrapy.downloadermiddlewares.httpcompression.HttpCompressionMiddleware',\n",
      " 'scrapy.downloadermiddlewares.redirect.RedirectMiddleware',\n",
      " 'scrapy.downloadermiddlewares.cookies.CookiesMiddleware',\n",
      " 'scrapy.downloadermiddlewares.httpproxy.HttpProxyMiddleware',\n",
      " 'scrapy.downloadermiddlewares.stats.DownloaderStats']\n",
      "2022-10-09 17:07:07 [scrapy.middleware] INFO: Enabled spider middlewares:\n",
      "['scrapy.spidermiddlewares.httperror.HttpErrorMiddleware',\n",
      " 'scrapy.spidermiddlewares.offsite.OffsiteMiddleware',\n",
      " 'scrapy.spidermiddlewares.referer.RefererMiddleware',\n",
      " 'scrapy.spidermiddlewares.urllength.UrlLengthMiddleware',\n",
      " 'scrapy.spidermiddlewares.depth.DepthMiddleware']\n",
      "2022-10-09 17:07:07 [scrapy.middleware] INFO: Enabled item pipelines:\n",
      "[]\n",
      "2022-10-09 17:07:07 [scrapy.core.engine] INFO: Spider opened\n",
      "2022-10-09 17:07:07 [scrapy.extensions.logstats] INFO: Crawled 0 pages (at 0 pages/min), scraped 0 items (at 0 items/min)\n",
      "2022-10-09 17:07:07 [scrapy.extensions.telnet] INFO: Telnet console listening on 127.0.0.1:6023\n",
      "2022-10-09 17:08:08 [scrapy.extensions.logstats] INFO: Crawled 139 pages (at 139 pages/min), scraped 119 items (at 119 items/min)\n",
      "2022-10-09 17:09:07 [scrapy.extensions.logstats] INFO: Crawled 303 pages (at 164 pages/min), scraped 285 items (at 166 items/min)\n",
      "2022-10-09 17:10:07 [scrapy.extensions.logstats] INFO: Crawled 472 pages (at 169 pages/min), scraped 439 items (at 154 items/min)\n",
      "2022-10-09 17:11:07 [scrapy.extensions.logstats] INFO: Crawled 625 pages (at 153 pages/min), scraped 592 items (at 153 items/min)\n",
      "2022-10-09 17:12:07 [scrapy.extensions.logstats] INFO: Crawled 795 pages (at 170 pages/min), scraped 761 items (at 169 items/min)\n",
      "2022-10-09 17:12:53 [scrapy.core.engine] INFO: Closing spider (finished)\n",
      "2022-10-09 17:12:53 [scrapy.extensions.feedexport] INFO: Stored json feed (875 items) in: src/booking_hotel.json\n",
      "2022-10-09 17:12:53 [scrapy.statscollectors] INFO: Dumping Scrapy stats:\n",
      "{'downloader/request_bytes': 737042,\n",
      " 'downloader/request_count': 910,\n",
      " 'downloader/request_method_count/GET': 910,\n",
      " 'downloader/response_bytes': 267785587,\n",
      " 'downloader/response_count': 910,\n",
      " 'downloader/response_status_count/200': 910,\n",
      " 'elapsed_time_seconds': 345.139435,\n",
      " 'feedexport/success_count/FileFeedStorage': 1,\n",
      " 'finish_reason': 'finished',\n",
      " 'finish_time': datetime.datetime(2022, 10, 9, 15, 12, 53, 82059),\n",
      " 'httpcompression/response_bytes': 1187625579,\n",
      " 'httpcompression/response_count': 910,\n",
      " 'item_scraped_count': 875,\n",
      " 'log_count/INFO': 16,\n",
      " 'request_depth_max': 1,\n",
      " 'response_received_count': 910,\n",
      " 'scheduler/dequeued': 910,\n",
      " 'scheduler/dequeued/memory': 910,\n",
      " 'scheduler/enqueued': 910,\n",
      " 'scheduler/enqueued/memory': 910,\n",
      " 'start_time': datetime.datetime(2022, 10, 9, 15, 7, 7, 942624)}\n",
      "2022-10-09 17:12:53 [scrapy.core.engine] INFO: Spider closed (finished)\n"
     ]
    }
   ],
   "source": [
    "!python bookingHotel.py"
   ]
  },
  {
   "cell_type": "code",
   "execution_count": 30,
   "id": "05546019",
   "metadata": {},
   "outputs": [],
   "source": [
    "df_booking = pd.read_json(\"src/booking_hotel.json\", encoding='utf-8')"
   ]
  },
  {
   "cell_type": "code",
   "execution_count": 39,
   "id": "77132300",
   "metadata": {},
   "outputs": [],
   "source": [
    "df_booking.to_csv(\"booking_weather.csv\")"
   ]
  },
  {
   "cell_type": "markdown",
   "id": "6a13f127",
   "metadata": {},
   "source": [
    "Join columns from df_booking with df_weather by the id city"
   ]
  },
  {
   "cell_type": "code",
   "execution_count": 33,
   "id": "f168806b",
   "metadata": {},
   "outputs": [
    {
     "data": {
      "text/html": [
       "<div>\n",
       "<style scoped>\n",
       "    .dataframe tbody tr th:only-of-type {\n",
       "        vertical-align: middle;\n",
       "    }\n",
       "\n",
       "    .dataframe tbody tr th {\n",
       "        vertical-align: top;\n",
       "    }\n",
       "\n",
       "    .dataframe thead th {\n",
       "        text-align: right;\n",
       "    }\n",
       "</style>\n",
       "<table border=\"1\" class=\"dataframe\">\n",
       "  <thead>\n",
       "    <tr style=\"text-align: right;\">\n",
       "      <th></th>\n",
       "      <th>url</th>\n",
       "      <th>city_id</th>\n",
       "      <th>name_hotel</th>\n",
       "      <th>score</th>\n",
       "      <th>coordinates</th>\n",
       "      <th>text_description</th>\n",
       "      <th>Id</th>\n",
       "      <th>City</th>\n",
       "      <th>lat</th>\n",
       "      <th>lon</th>\n",
       "      <th>temp</th>\n",
       "      <th>pop</th>\n",
       "      <th>clouds</th>\n",
       "      <th>weather_main</th>\n",
       "    </tr>\n",
       "  </thead>\n",
       "  <tbody>\n",
       "    <tr>\n",
       "      <th>0</th>\n",
       "      <td>https://www.booking.com/hotel/fr/hotel-celine....</td>\n",
       "      <td>297518815</td>\n",
       "      <td>Hôtel Céline - Hôtel de la Gare</td>\n",
       "      <td>8,0</td>\n",
       "      <td>1.06252587352748,49.4310680988023,1.1178954788...</td>\n",
       "      <td>[L'Hôtel Céline - Hôtel de la Gare se trouve d...</td>\n",
       "      <td>297518815</td>\n",
       "      <td>Rouen</td>\n",
       "      <td>49.440459</td>\n",
       "      <td>1.093966</td>\n",
       "      <td>15.597143</td>\n",
       "      <td>0.595714</td>\n",
       "      <td>92.714286</td>\n",
       "      <td>[Rain, Clouds, Clouds, Rain, Rain, Rain, Rain]</td>\n",
       "    </tr>\n",
       "    <tr>\n",
       "      <th>1</th>\n",
       "      <td>https://www.booking.com/hotel/fr/the-first.fr....</td>\n",
       "      <td>297518815</td>\n",
       "      <td>Le First, centre ville terrasse et parking</td>\n",
       "      <td>9,1</td>\n",
       "      <td>1.05554739606558,49.4280597834269,1.1109136039...</td>\n",
       "      <td>[Vous pouvez bénéficier d'une réduction Genius...</td>\n",
       "      <td>297518815</td>\n",
       "      <td>Rouen</td>\n",
       "      <td>49.440459</td>\n",
       "      <td>1.093966</td>\n",
       "      <td>15.597143</td>\n",
       "      <td>0.595714</td>\n",
       "      <td>92.714286</td>\n",
       "      <td>[Rain, Clouds, Clouds, Rain, Rain, Rain, Rain]</td>\n",
       "    </tr>\n",
       "    <tr>\n",
       "      <th>2</th>\n",
       "      <td>https://www.booking.com/hotel/fr/industriel-ch...</td>\n",
       "      <td>297518815</td>\n",
       "      <td>L'INDUSTRIEL CHIC, 2 PIECES AVEC VU IMPRENABLE...</td>\n",
       "      <td>9,0</td>\n",
       "      <td>1.04465806489105,49.4328606384189,1.1000296949...</td>\n",
       "      <td>[Vous pouvez bénéficier d'une réduction Genius...</td>\n",
       "      <td>297518815</td>\n",
       "      <td>Rouen</td>\n",
       "      <td>49.440459</td>\n",
       "      <td>1.093966</td>\n",
       "      <td>15.597143</td>\n",
       "      <td>0.595714</td>\n",
       "      <td>92.714286</td>\n",
       "      <td>[Rain, Clouds, Clouds, Rain, Rain, Rain, Rain]</td>\n",
       "    </tr>\n",
       "    <tr>\n",
       "      <th>3</th>\n",
       "      <td>https://www.booking.com/hotel/fr/de-la-cathedr...</td>\n",
       "      <td>297518815</td>\n",
       "      <td>Hôtel De La Cathédrale</td>\n",
       "      <td>7,8</td>\n",
       "      <td>1.06925386466515,49.4221513972113,1.1246134015...</td>\n",
       "      <td>[Arborant une façade à colombages datant du XV...</td>\n",
       "      <td>297518815</td>\n",
       "      <td>Rouen</td>\n",
       "      <td>49.440459</td>\n",
       "      <td>1.093966</td>\n",
       "      <td>15.597143</td>\n",
       "      <td>0.595714</td>\n",
       "      <td>92.714286</td>\n",
       "      <td>[Rain, Clouds, Clouds, Rain, Rain, Rain, Rain]</td>\n",
       "    </tr>\n",
       "    <tr>\n",
       "      <th>4</th>\n",
       "      <td>https://www.booking.com/hotel/fr/le-palm-duple...</td>\n",
       "      <td>297518815</td>\n",
       "      <td>Le Palm ✧ Duplex centre historique Rouen</td>\n",
       "      <td>9,3</td>\n",
       "      <td>1.05837701832101,49.4260720834269,1.1137409816...</td>\n",
       "      <td>[Vous pouvez bénéficier d'une réduction Genius...</td>\n",
       "      <td>297518815</td>\n",
       "      <td>Rouen</td>\n",
       "      <td>49.440459</td>\n",
       "      <td>1.093966</td>\n",
       "      <td>15.597143</td>\n",
       "      <td>0.595714</td>\n",
       "      <td>92.714286</td>\n",
       "      <td>[Rain, Clouds, Clouds, Rain, Rain, Rain, Rain]</td>\n",
       "    </tr>\n",
       "  </tbody>\n",
       "</table>\n",
       "</div>"
      ],
      "text/plain": [
       "                                                 url    city_id  \\\n",
       "0  https://www.booking.com/hotel/fr/hotel-celine....  297518815   \n",
       "1  https://www.booking.com/hotel/fr/the-first.fr....  297518815   \n",
       "2  https://www.booking.com/hotel/fr/industriel-ch...  297518815   \n",
       "3  https://www.booking.com/hotel/fr/de-la-cathedr...  297518815   \n",
       "4  https://www.booking.com/hotel/fr/le-palm-duple...  297518815   \n",
       "\n",
       "                                          name_hotel score  \\\n",
       "0                    Hôtel Céline - Hôtel de la Gare   8,0   \n",
       "1         Le First, centre ville terrasse et parking   9,1   \n",
       "2  L'INDUSTRIEL CHIC, 2 PIECES AVEC VU IMPRENABLE...   9,0   \n",
       "3                             Hôtel De La Cathédrale   7,8   \n",
       "4           Le Palm ✧ Duplex centre historique Rouen   9,3   \n",
       "\n",
       "                                         coordinates  \\\n",
       "0  1.06252587352748,49.4310680988023,1.1178954788...   \n",
       "1  1.05554739606558,49.4280597834269,1.1109136039...   \n",
       "2  1.04465806489105,49.4328606384189,1.1000296949...   \n",
       "3  1.06925386466515,49.4221513972113,1.1246134015...   \n",
       "4  1.05837701832101,49.4260720834269,1.1137409816...   \n",
       "\n",
       "                                    text_description         Id   City  \\\n",
       "0  [L'Hôtel Céline - Hôtel de la Gare se trouve d...  297518815  Rouen   \n",
       "1  [Vous pouvez bénéficier d'une réduction Genius...  297518815  Rouen   \n",
       "2  [Vous pouvez bénéficier d'une réduction Genius...  297518815  Rouen   \n",
       "3  [Arborant une façade à colombages datant du XV...  297518815  Rouen   \n",
       "4  [Vous pouvez bénéficier d'une réduction Genius...  297518815  Rouen   \n",
       "\n",
       "         lat       lon       temp       pop     clouds  \\\n",
       "0  49.440459  1.093966  15.597143  0.595714  92.714286   \n",
       "1  49.440459  1.093966  15.597143  0.595714  92.714286   \n",
       "2  49.440459  1.093966  15.597143  0.595714  92.714286   \n",
       "3  49.440459  1.093966  15.597143  0.595714  92.714286   \n",
       "4  49.440459  1.093966  15.597143  0.595714  92.714286   \n",
       "\n",
       "                                     weather_main  \n",
       "0  [Rain, Clouds, Clouds, Rain, Rain, Rain, Rain]  \n",
       "1  [Rain, Clouds, Clouds, Rain, Rain, Rain, Rain]  \n",
       "2  [Rain, Clouds, Clouds, Rain, Rain, Rain, Rain]  \n",
       "3  [Rain, Clouds, Clouds, Rain, Rain, Rain, Rain]  \n",
       "4  [Rain, Clouds, Clouds, Rain, Rain, Rain, Rain]  "
      ]
     },
     "execution_count": 33,
     "metadata": {},
     "output_type": "execute_result"
    }
   ],
   "source": [
    "df_booking_weather = df_booking.merge(df_weather, left_on='city_id', right_on='Id', how='outer')\n",
    "df_booking_weather.head()"
   ]
  },
  {
   "cell_type": "code",
   "execution_count": 40,
   "id": "57298335",
   "metadata": {},
   "outputs": [
    {
     "data": {
      "text/plain": [
       "35"
      ]
     },
     "execution_count": 40,
     "metadata": {},
     "output_type": "execute_result"
    }
   ],
   "source": [
    "len(df_booking_weather['City'].unique())"
   ]
  },
  {
   "cell_type": "code",
   "execution_count": 34,
   "id": "f5bf3fba",
   "metadata": {},
   "outputs": [
    {
     "data": {
      "text/html": [
       "<div>\n",
       "<style scoped>\n",
       "    .dataframe tbody tr th:only-of-type {\n",
       "        vertical-align: middle;\n",
       "    }\n",
       "\n",
       "    .dataframe tbody tr th {\n",
       "        vertical-align: top;\n",
       "    }\n",
       "\n",
       "    .dataframe thead th {\n",
       "        text-align: right;\n",
       "    }\n",
       "</style>\n",
       "<table border=\"1\" class=\"dataframe\">\n",
       "  <thead>\n",
       "    <tr style=\"text-align: right;\">\n",
       "      <th></th>\n",
       "      <th>url</th>\n",
       "      <th>city_id</th>\n",
       "      <th>name_hotel</th>\n",
       "      <th>score</th>\n",
       "      <th>coordinates</th>\n",
       "      <th>text_description</th>\n",
       "      <th>Id</th>\n",
       "      <th>City</th>\n",
       "      <th>lat</th>\n",
       "      <th>lon</th>\n",
       "      <th>temp</th>\n",
       "      <th>pop</th>\n",
       "      <th>clouds</th>\n",
       "      <th>weather_main</th>\n",
       "    </tr>\n",
       "  </thead>\n",
       "  <tbody>\n",
       "    <tr>\n",
       "      <th>count</th>\n",
       "      <td>875</td>\n",
       "      <td>8.750000e+02</td>\n",
       "      <td>874</td>\n",
       "      <td>867</td>\n",
       "      <td>875</td>\n",
       "      <td>875</td>\n",
       "      <td>8.750000e+02</td>\n",
       "      <td>875</td>\n",
       "      <td>875.000000</td>\n",
       "      <td>875.000000</td>\n",
       "      <td>875.000000</td>\n",
       "      <td>875.000000</td>\n",
       "      <td>875.000000</td>\n",
       "      <td>875</td>\n",
       "    </tr>\n",
       "    <tr>\n",
       "      <th>unique</th>\n",
       "      <td>875</td>\n",
       "      <td>NaN</td>\n",
       "      <td>873</td>\n",
       "      <td>40</td>\n",
       "      <td>873</td>\n",
       "      <td>875</td>\n",
       "      <td>NaN</td>\n",
       "      <td>35</td>\n",
       "      <td>NaN</td>\n",
       "      <td>NaN</td>\n",
       "      <td>NaN</td>\n",
       "      <td>NaN</td>\n",
       "      <td>NaN</td>\n",
       "      <td>21</td>\n",
       "    </tr>\n",
       "    <tr>\n",
       "      <th>top</th>\n",
       "      <td>https://www.booking.com/hotel/fr/hotel-celine....</td>\n",
       "      <td>NaN</td>\n",
       "      <td>Le Valmer</td>\n",
       "      <td>8,0</td>\n",
       "      <td>5.68637707337778,45.1749075834269,5.7374569266...</td>\n",
       "      <td>[L'Hôtel Céline - Hôtel de la Gare se trouve d...</td>\n",
       "      <td>NaN</td>\n",
       "      <td>Rouen</td>\n",
       "      <td>NaN</td>\n",
       "      <td>NaN</td>\n",
       "      <td>NaN</td>\n",
       "      <td>NaN</td>\n",
       "      <td>NaN</td>\n",
       "      <td>[Rain, Clouds, Clouds, Clouds, Rain, Rain, Rain]</td>\n",
       "    </tr>\n",
       "    <tr>\n",
       "      <th>freq</th>\n",
       "      <td>1</td>\n",
       "      <td>NaN</td>\n",
       "      <td>2</td>\n",
       "      <td>50</td>\n",
       "      <td>2</td>\n",
       "      <td>1</td>\n",
       "      <td>NaN</td>\n",
       "      <td>25</td>\n",
       "      <td>NaN</td>\n",
       "      <td>NaN</td>\n",
       "      <td>NaN</td>\n",
       "      <td>NaN</td>\n",
       "      <td>NaN</td>\n",
       "      <td>100</td>\n",
       "    </tr>\n",
       "    <tr>\n",
       "      <th>mean</th>\n",
       "      <td>NaN</td>\n",
       "      <td>2.823779e+08</td>\n",
       "      <td>NaN</td>\n",
       "      <td>NaN</td>\n",
       "      <td>NaN</td>\n",
       "      <td>NaN</td>\n",
       "      <td>2.823779e+08</td>\n",
       "      <td>NaN</td>\n",
       "      <td>45.840986</td>\n",
       "      <td>3.395928</td>\n",
       "      <td>19.771347</td>\n",
       "      <td>0.346531</td>\n",
       "      <td>67.608163</td>\n",
       "      <td>NaN</td>\n",
       "    </tr>\n",
       "    <tr>\n",
       "      <th>std</th>\n",
       "      <td>NaN</td>\n",
       "      <td>5.137416e+07</td>\n",
       "      <td>NaN</td>\n",
       "      <td>NaN</td>\n",
       "      <td>NaN</td>\n",
       "      <td>NaN</td>\n",
       "      <td>5.137416e+07</td>\n",
       "      <td>NaN</td>\n",
       "      <td>2.554274</td>\n",
       "      <td>2.913222</td>\n",
       "      <td>2.933438</td>\n",
       "      <td>0.188661</td>\n",
       "      <td>15.718124</td>\n",
       "      <td>NaN</td>\n",
       "    </tr>\n",
       "    <tr>\n",
       "      <th>min</th>\n",
       "      <td>NaN</td>\n",
       "      <td>7.603631e+07</td>\n",
       "      <td>NaN</td>\n",
       "      <td>NaN</td>\n",
       "      <td>NaN</td>\n",
       "      <td>NaN</td>\n",
       "      <td>7.603631e+07</td>\n",
       "      <td>NaN</td>\n",
       "      <td>42.525050</td>\n",
       "      <td>-2.026041</td>\n",
       "      <td>14.641429</td>\n",
       "      <td>0.122857</td>\n",
       "      <td>43.714286</td>\n",
       "      <td>NaN</td>\n",
       "    </tr>\n",
       "    <tr>\n",
       "      <th>25%</th>\n",
       "      <td>NaN</td>\n",
       "      <td>2.975047e+08</td>\n",
       "      <td>NaN</td>\n",
       "      <td>NaN</td>\n",
       "      <td>NaN</td>\n",
       "      <td>NaN</td>\n",
       "      <td>2.975047e+08</td>\n",
       "      <td>NaN</td>\n",
       "      <td>43.494514</td>\n",
       "      <td>1.354999</td>\n",
       "      <td>17.527143</td>\n",
       "      <td>0.171429</td>\n",
       "      <td>53.000000</td>\n",
       "      <td>NaN</td>\n",
       "    </tr>\n",
       "    <tr>\n",
       "      <th>50%</th>\n",
       "      <td>NaN</td>\n",
       "      <td>2.977491e+08</td>\n",
       "      <td>NaN</td>\n",
       "      <td>NaN</td>\n",
       "      <td>NaN</td>\n",
       "      <td>NaN</td>\n",
       "      <td>2.977491e+08</td>\n",
       "      <td>NaN</td>\n",
       "      <td>45.187560</td>\n",
       "      <td>4.360069</td>\n",
       "      <td>20.000000</td>\n",
       "      <td>0.288571</td>\n",
       "      <td>58.857143</td>\n",
       "      <td>NaN</td>\n",
       "    </tr>\n",
       "    <tr>\n",
       "      <th>75%</th>\n",
       "      <td>NaN</td>\n",
       "      <td>2.980113e+08</td>\n",
       "      <td>NaN</td>\n",
       "      <td>NaN</td>\n",
       "      <td>NaN</td>\n",
       "      <td>NaN</td>\n",
       "      <td>2.980113e+08</td>\n",
       "      <td>NaN</td>\n",
       "      <td>48.584614</td>\n",
       "      <td>5.735782</td>\n",
       "      <td>22.808571</td>\n",
       "      <td>0.544286</td>\n",
       "      <td>83.142857</td>\n",
       "      <td>NaN</td>\n",
       "    </tr>\n",
       "    <tr>\n",
       "      <th>max</th>\n",
       "      <td>NaN</td>\n",
       "      <td>2.985169e+08</td>\n",
       "      <td>NaN</td>\n",
       "      <td>NaN</td>\n",
       "      <td>NaN</td>\n",
       "      <td>NaN</td>\n",
       "      <td>2.985169e+08</td>\n",
       "      <td>NaN</td>\n",
       "      <td>50.636565</td>\n",
       "      <td>7.750713</td>\n",
       "      <td>24.055714</td>\n",
       "      <td>0.681429</td>\n",
       "      <td>96.857143</td>\n",
       "      <td>NaN</td>\n",
       "    </tr>\n",
       "  </tbody>\n",
       "</table>\n",
       "</div>"
      ],
      "text/plain": [
       "                                                      url       city_id  \\\n",
       "count                                                 875  8.750000e+02   \n",
       "unique                                                875           NaN   \n",
       "top     https://www.booking.com/hotel/fr/hotel-celine....           NaN   \n",
       "freq                                                    1           NaN   \n",
       "mean                                                  NaN  2.823779e+08   \n",
       "std                                                   NaN  5.137416e+07   \n",
       "min                                                   NaN  7.603631e+07   \n",
       "25%                                                   NaN  2.975047e+08   \n",
       "50%                                                   NaN  2.977491e+08   \n",
       "75%                                                   NaN  2.980113e+08   \n",
       "max                                                   NaN  2.985169e+08   \n",
       "\n",
       "       name_hotel score                                        coordinates  \\\n",
       "count         874   867                                                875   \n",
       "unique        873    40                                                873   \n",
       "top     Le Valmer   8,0  5.68637707337778,45.1749075834269,5.7374569266...   \n",
       "freq            2    50                                                  2   \n",
       "mean          NaN   NaN                                                NaN   \n",
       "std           NaN   NaN                                                NaN   \n",
       "min           NaN   NaN                                                NaN   \n",
       "25%           NaN   NaN                                                NaN   \n",
       "50%           NaN   NaN                                                NaN   \n",
       "75%           NaN   NaN                                                NaN   \n",
       "max           NaN   NaN                                                NaN   \n",
       "\n",
       "                                         text_description            Id  \\\n",
       "count                                                 875  8.750000e+02   \n",
       "unique                                                875           NaN   \n",
       "top     [L'Hôtel Céline - Hôtel de la Gare se trouve d...           NaN   \n",
       "freq                                                    1           NaN   \n",
       "mean                                                  NaN  2.823779e+08   \n",
       "std                                                   NaN  5.137416e+07   \n",
       "min                                                   NaN  7.603631e+07   \n",
       "25%                                                   NaN  2.975047e+08   \n",
       "50%                                                   NaN  2.977491e+08   \n",
       "75%                                                   NaN  2.980113e+08   \n",
       "max                                                   NaN  2.985169e+08   \n",
       "\n",
       "         City         lat         lon        temp         pop      clouds  \\\n",
       "count     875  875.000000  875.000000  875.000000  875.000000  875.000000   \n",
       "unique     35         NaN         NaN         NaN         NaN         NaN   \n",
       "top     Rouen         NaN         NaN         NaN         NaN         NaN   \n",
       "freq       25         NaN         NaN         NaN         NaN         NaN   \n",
       "mean      NaN   45.840986    3.395928   19.771347    0.346531   67.608163   \n",
       "std       NaN    2.554274    2.913222    2.933438    0.188661   15.718124   \n",
       "min       NaN   42.525050   -2.026041   14.641429    0.122857   43.714286   \n",
       "25%       NaN   43.494514    1.354999   17.527143    0.171429   53.000000   \n",
       "50%       NaN   45.187560    4.360069   20.000000    0.288571   58.857143   \n",
       "75%       NaN   48.584614    5.735782   22.808571    0.544286   83.142857   \n",
       "max       NaN   50.636565    7.750713   24.055714    0.681429   96.857143   \n",
       "\n",
       "                                            weather_main  \n",
       "count                                                875  \n",
       "unique                                                21  \n",
       "top     [Rain, Clouds, Clouds, Clouds, Rain, Rain, Rain]  \n",
       "freq                                                 100  \n",
       "mean                                                 NaN  \n",
       "std                                                  NaN  \n",
       "min                                                  NaN  \n",
       "25%                                                  NaN  \n",
       "50%                                                  NaN  \n",
       "75%                                                  NaN  \n",
       "max                                                  NaN  "
      ]
     },
     "execution_count": 34,
     "metadata": {},
     "output_type": "execute_result"
    }
   ],
   "source": [
    "df_booking_weather.describe(include=\"all\")"
   ]
  },
  {
   "cell_type": "code",
   "execution_count": null,
   "id": "85f22463",
   "metadata": {},
   "outputs": [],
   "source": [
    "df_booking_weather['coordinates'] = df_booking_weather['coordinates'].apply(lambda x : x.split(\",\"))"
   ]
  },
  {
   "cell_type": "code",
   "execution_count": 64,
   "id": "aa06ac0d",
   "metadata": {},
   "outputs": [],
   "source": [
    "df_booking_weather['long_hotel'] = df_booking_weather['coordinates'].apply(lambda x : mean([float(x[0]),float(x[2])]))\n",
    "df_booking_weather['lat_hotel'] = df_booking_weather['coordinates'].apply(lambda x : mean([float(x[1]),float(x[3])]))\n",
    "df_booking_weather.drop(columns=['coordinates','Id'], inplace = True)"
   ]
  },
  {
   "cell_type": "code",
   "execution_count": null,
   "id": "6a7b20ed",
   "metadata": {},
   "outputs": [],
   "source": []
  }
 ],
 "metadata": {
  "kernelspec": {
   "display_name": "Python 3.10.4 ('venv': venv)",
   "language": "python",
   "name": "python3"
  },
  "language_info": {
   "codemirror_mode": {
    "name": "ipython",
    "version": 3
   },
   "file_extension": ".py",
   "mimetype": "text/x-python",
   "name": "python",
   "nbconvert_exporter": "python",
   "pygments_lexer": "ipython3",
   "version": "3.10.4"
  },
  "vscode": {
   "interpreter": {
    "hash": "f3eba2feea660b87d73c35b595a4436ac02e76341c0153ec8cc0cc68f3fbc657"
   }
  }
 },
 "nbformat": 4,
 "nbformat_minor": 5
}
